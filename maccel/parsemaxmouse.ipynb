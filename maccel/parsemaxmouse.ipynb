{
 "cells": [
  {
   "cell_type": "code",
   "execution_count": 1,
   "source": [
    "# pip install pandas plotly kaleido\n",
    "\n",
    "# %%\n",
    "import re\n",
    "import pandas as pd\n",
    "from plotly import express as px"
   ],
   "outputs": [],
   "metadata": {}
  },
  {
   "cell_type": "code",
   "execution_count": 2,
   "source": [
    "s = \"\"\"\n",
    "Ψ Console Connected: Bastard Keyboards Charybdis (4x6) Splinky (A8F8:1833:1)\n",
    "Bastard Keyboards:Charybdis (4x6) Splinky:1: MACCEL: DPI:  200 max.vin: 0.000 max.vsc: 0.001 max.a: 1.000003\n",
    "Bastard Keyboards:Charybdis (4x6) Splinky:1: MACCEL: DPI:  200 max.vin: 1.612 max.vsc: 9.267 max.a: 3.791054\n",
    "Bastard Keyboards:Charybdis (4x6) Splinky:1: MACCEL: DPI:  200 max.vin: 1.281 max.vsc: 7.360 max.a: 2.469344\n",
    "Bastard Keyboards:Charybdis (4x6) Splinky:1: MACCEL: DPI:  200 max.vin: 9.130 max.vsc: 52.472 max.a: 6.000000\n",
    "Bastard Keyboards:Charybdis (4x6) Splinky:1: MACCEL: DPI:  200 max.vin: 11.511 max.vsc: 66.154 max.a: 6.000000\n",
    "Bastard Keyboards:Charybdis (4x6) Splinky:1: MACCEL: DPI:  200 max.vin: 12.977 max.vsc: 74.580 max.a: 6.000000\n",
    "Bastard Keyboards:Charybdis (4x6) Splinky:1: MACCEL: DPI:  200 max.vin: 12.175 max.vsc: 69.973 max.a: 6.000000\n",
    "Bastard Keyboards:Charybdis (4x6) Splinky:1: MACCEL: DPI:  200 max.vin: 1.414 max.vsc: 8.128 max.a: 3.067777\n",
    "Bastard Keyboards:Charybdis (4x6) Splinky:1: MACCEL: DPI:  200 max.vin: 1.970 max.vsc: 11.321 max.a: 4.677792\n",
    "Bastard Keyboards:Charybdis (4x6) Splinky:1: MACCEL: DPI:  200 max.vin: 12.731 max.vsc: 73.167 max.a: 6.000000\n",
    "Bastard Keyboards:Charybdis (4x6) Splinky:1: MACCEL: DPI:  200 max.vin: 0.632 max.vsc: 3.635 max.a: 1.005487\n",
    "Bastard Keyboards:Charybdis (4x6) Splinky:1: MACCEL: DPI:  200 max.vin: 0.283 max.vsc: 1.626 max.a: 1.000099\n",
    "Bastard Keyboards:Charybdis (4x6) Splinky:1: MACCEL: DPI:  400 max.vin: 1.131 max.vsc: 6.502 max.a: 1.758612\n",
    "Bastard Keyboards:Charybdis (4x6) Splinky:1: MACCEL: DPI:  400 max.vin: 1.442 max.vsc: 4.144 max.a: 1.015071\n",
    "Bastard Keyboards:Charybdis (4x6) Splinky:1: MACCEL: DPI:  400 max.vin: 22.672 max.vsc: 65.148 max.a: 6.000000\n",
    "Bastard Keyboards:Charybdis (4x6) Splinky:1: MACCEL: DPI:  400 max.vin: 29.417 max.vsc: 84.532 max.a: 6.000000\n",
    "Bastard Keyboards:Charybdis (4x6) Splinky:1: MACCEL: DPI:  400 max.vin: 30.487 max.vsc: 87.606 max.a: 6.000000\n",
    "Bastard Keyboards:Charybdis (4x6) Splinky:1: MACCEL: DPI:  400 max.vin: 34.536 max.vsc: 99.241 max.a: 6.000000\n",
    "Bastard Keyboards:Charybdis (4x6) Splinky:1: MACCEL: DPI:  400 max.vin: 24.926 max.vsc: 71.627 max.a: 6.000000\n",
    "Bastard Keyboards:Charybdis (4x6) Splinky:1: MACCEL: DPI:  600 max.vin: 36.063 max.vsc: 103.629 max.a: 6.000000\n",
    "Bastard Keyboards:Charybdis (4x6) Splinky:1: MACCEL: DPI:  600 max.vin: 36.063 max.vsc: 69.086 max.a: 6.000000\n",
    "Bastard Keyboards:Charybdis (4x6) Splinky:1: MACCEL: DPI:  600 max.vin: 36.063 max.vsc: 69.086 max.a: 6.000000\n",
    "Bastard Keyboards:Charybdis (4x6) Splinky:1: MACCEL: DPI:  800 max.vin: 36.587 max.vsc: 70.090 max.a: 6.000000\n",
    "Bastard Keyboards:Charybdis (4x6) Splinky:1: MACCEL: DPI:  800 max.vin: 44.901 max.vsc: 64.513 max.a: 6.000000\n",
    "Bastard Keyboards:Charybdis (4x6) Splinky:1: MACCEL: DPI:  800 max.vin: 36.063 max.vsc: 51.814 max.a: 6.000000\n",
    "Bastard Keyboards:Charybdis (4x6) Splinky:1: MACCEL: DPI: 1000 max.vin: 1.414 max.vsc: 2.032 max.a: 1.000224\n",
    "Bastard Keyboards:Charybdis (4x6) Splinky:1: MACCEL: DPI: 1000 max.vin: 0.151 max.vsc: 0.173 max.a: 1.000005\n",
    "Bastard Keyboards:Charybdis (4x6) Splinky:1: MACCEL: DPI: 1000 max.vin: 36.063 max.vsc: 41.451 max.a: 5.999292\n",
    "Bastard Keyboards:Charybdis (4x6) Splinky:1: MACCEL: DPI: 1000 max.vin: 5.532 max.vsc: 6.358 max.a: 1.650120\n",
    "Bastard Keyboards:Charybdis (4x6) Splinky:1: MACCEL: DPI: 1000 max.vin: 18.830 max.vsc: 21.643 max.a: 5.899883\n",
    "Bastard Keyboards:Charybdis (4x6) Splinky:1: MACCEL: DPI: 1200 max.vin: 36.063 max.vsc: 41.451 max.a: 5.999292\n",
    "Bastard Keyboards:Charybdis (4x6) Splinky:1: MACCEL: DPI: 1400 max.vin: 45.078 max.vsc: 43.179 max.a: 5.999540\n",
    "Bastard Keyboards:Charybdis (4x6) Splinky:1: MACCEL: DPI: 1400 max.vin: 45.078 max.vsc: 37.010 max.a: 5.997852\n",
    "Bastard Keyboards:Charybdis (4x6) Splinky:1: MACCEL: DPI: 1400 max.vin: 45.078 max.vsc: 37.010 max.a: 5.997852\n",
    "Bastard Keyboards:Charybdis (4x6) Splinky:1: MACCEL: DPI: 1600 max.vin: 0.374 max.vsc: 0.268 max.a: 1.000007\n",
    "Bastard Keyboards:Charybdis (4x6) Splinky:1: MACCEL: DPI: 1600 max.vin: 36.063 max.vsc: 25.907 max.a: 5.965519\n",
    "Bastard Keyboards:Charybdis (4x6) Splinky:1: MACCEL: DPI: 1800 max.vin: 0.178 max.vsc: 0.114 max.a: 1.000005\n",
    "Bastard Keyboards:Charybdis (4x6) Splinky:1: MACCEL: DPI: 1800 max.vin: 45.078 max.vsc: 28.786 max.a: 5.983210\n",
    "Bastard Keyboards:Charybdis (4x6) Splinky:1: MACCEL: DPI: 2000 max.vin: 0.379 max.vsc: 0.218 max.a: 1.000006\n",
    "Bastard Keyboards:Charybdis (4x6) Splinky:1: MACCEL: DPI: 2000 max.vin: 36.063 max.vsc: 20.726 max.a: 5.874065\n",
    "Bastard Keyboards:Charybdis (4x6) Splinky:1: MACCEL: DPI: 2000 max.vin: 0.174 max.vsc: 0.100 max.a: 1.000005\n",
    "Bastard Keyboards:Charybdis (4x6) Splinky:1: MACCEL: DPI: 2000 max.vin: 45.078 max.vsc: 25.907 max.a: 5.965519\n",
    "Bastard Keyboards:Charybdis (4x6) Splinky:1: MACCEL: DPI: 2000 max.vin: 2.608 max.vsc: 1.499 max.a: 1.000077\n",
    "Bastard Keyboards:Charybdis (4x6) Splinky:1: MACCEL: DPI: 2200 max.vin: 36.063 max.vsc: 20.726 max.a: 5.874065\n",
    "Bastard Keyboards:Charybdis (4x6) Splinky:1: MACCEL: DPI: 2400 max.vin: 36.063 max.vsc: 18.842 max.a: 5.798295\n",
    "Bastard Keyboards:Charybdis (4x6) Splinky:1: MACCEL: DPI: 2400 max.vin: 36.063 max.vsc: 17.271 max.a: 5.701330\n",
    "Bastard Keyboards:Charybdis (4x6) Splinky:1: MACCEL: DPI: 2400 max.vin: 45.078 max.vsc: 21.589 max.a: 5.898519\n",
    "Bastard Keyboards:Charybdis (4x6) Splinky:1: MACCEL: DPI: 2400 max.vin: 45.078 max.vsc: 21.589 max.a: 5.898519\n",
    "Bastard Keyboards:Charybdis (4x6) Splinky:1: MACCEL: DPI: 2400 max.vin: 7.088 max.vsc: 3.395 max.a: 1.003400\n",
    "Bastard Keyboards:Charybdis (4x6) Splinky:1: MACCEL: DPI: 2400 max.vin: 0.200 max.vsc: 0.096 max.a: 1.000005\n",
    "Bastard Keyboards:Charybdis (4x6) Splinky:1: MACCEL: DPI: 2400 max.vin: 36.063 max.vsc: 17.271 max.a: 5.701330\n",
    "Bastard Keyboards:Charybdis (4x6) Splinky:1: MACCEL: DPI: 2600 max.vin: 0.002 max.vsc: 0.001 max.a: 1.000003\n",
    "Bastard Keyboards:Charybdis (4x6) Splinky:1: MACCEL: DPI: 2600 max.vin: 4.472 max.vsc: 1.977 max.a: 1.000200\n",
    "Bastard Keyboards:Charybdis (4x6) Splinky:1: MACCEL: DPI: 2600 max.vin: 36.063 max.vsc: 15.943 max.a: 5.583669\n",
    "Bastard Keyboards:Charybdis (4x6) Splinky:1: MACCEL: DPI: 2600 max.vin: 28.712 max.vsc: 12.693 max.a: 5.061830\n",
    "Bastard Keyboards:Charybdis (4x6) Splinky:1: MACCEL: DPI: 2600 max.vin: 4.243 max.vsc: 1.876 max.a: 1.000163\n",
    "Bastard Keyboards:Charybdis (4x6) Splinky:1: MACCEL: DPI: 2600 max.vin: 11.402 max.vsc: 5.041 max.a: 1.084866\n",
    "Bastard Keyboards:Charybdis (4x6) Splinky:1: MACCEL: DPI: 2800 max.vin: 45.078 max.vsc: 19.929 max.a: 5.846292\n",
    "Bastard Keyboards:Charybdis (4x6) Splinky:1: MACCEL: DPI: 2800 max.vin: 0.022 max.vsc: 0.009 max.a: 1.000003\n",
    "Bastard Keyboards:Charybdis (4x6) Splinky:1: MACCEL: DPI: 2800 max.vin: 0.894 max.vsc: 0.367 max.a: 1.000008\n",
    "Bastard Keyboards:Charybdis (4x6) Splinky:1: MACCEL: DPI: 2800 max.vin: 45.078 max.vsc: 18.505 max.a: 5.780595\n",
    "Bastard Keyboards:Charybdis (4x6) Splinky:1: MACCEL: DPI: 2800 max.vin: 45.078 max.vsc: 18.505 max.a: 5.780595\n",
    "Bastard Keyboards:Charybdis (4x6) Splinky:1: MACCEL: DPI: 3000 max.vin: 0.018 max.vsc: 0.007 max.a: 1.000003\n",
    "Bastard Keyboards:Charybdis (4x6) Splinky:1: MACCEL: DPI: 3000 max.vin: 3.329 max.vsc: 1.275 max.a: 1.000050\n",
    "Bastard Keyboards:Charybdis (4x6) Splinky:1: MACCEL: DPI: 3000 max.vin: 45.078 max.vsc: 17.271 max.a: 5.701330\n",
    "Bastard Keyboards:Charybdis (4x6) Splinky:1: MACCEL: DPI: 3200 max.vin: 36.063 max.vsc: 13.817 max.a: 5.291670\n",
    "Bastard Keyboards:Charybdis (4x6) Splinky:1: MACCEL: DPI: 3200 max.vin: 0.200 max.vsc: 0.072 max.a: 1.000004\n",
    "Bastard Keyboards:Charybdis (4x6) Splinky:1: MACCEL: DPI: 3200 max.vin: 6.161 max.vsc: 2.213 max.a: 1.000321\n",
    "Bastard Keyboards:Charybdis (4x6) Splinky:1: MACCEL: DPI: 3200 max.vin: 45.078 max.vsc: 16.192 max.a: 5.608806\n",
    "Bastard Keyboards:Charybdis (4x6) Splinky:1: MACCEL: DPI: 3200 max.vin: 33.866 max.vsc: 12.165 max.a: 4.929323\n",
    "Bastard Keyboards:Charybdis (4x6) Splinky:1: MACCEL: DPI:  200 max.vin: 0.001 max.vsc: 0.007 max.a: 1.000003\n",
    "Bastard Keyboards:Charybdis (4x6) Splinky:1: MACCEL: DPI:  200 max.vin: 25.144 max.vsc: 144.503 max.a: 6.000000\n",
    "Bastard Keyboards:Charybdis (4x6) Splinky:1: MACCEL: DPI:  400 max.vin: 0.002 max.vsc: 0.005 max.a: 1.000003\n",
    "Bastard Keyboards:Charybdis (4x6) Splinky:1: MACCEL: DPI:  400 max.vin: 0.894 max.vsc: 2.570 max.a: 1.000656\n",
    "\"\"\""
   ],
   "outputs": [],
   "metadata": {}
  },
  {
   "cell_type": "code",
   "execution_count": 3,
   "source": [
    "regex = r\"MACCEL: DPI: +(\\d+) +max.vin: +(\\d+\\.\\d+) +max.vsc: +(\\d+\\.\\d+) +max.a: +(\\d+\\.\\d+)\"\n",
    "df = pd.DataFrame(\n",
    "    [\n",
    "        [f(d) for f, d in zip([int, float, float, float], m.groups())]\n",
    "        for m in re.finditer(regex, s)\n",
    "    ],\n",
    "    columns=\"DPI V_input V_scaled Accel_factor\".split(),\n",
    ")\n",
    "df = df.groupby(\"DPI\").max()\n",
    "df"
   ],
   "outputs": [
    {
     "output_type": "execute_result",
     "data": {
      "text/html": [
       "<div>\n",
       "<style scoped>\n",
       "    .dataframe tbody tr th:only-of-type {\n",
       "        vertical-align: middle;\n",
       "    }\n",
       "\n",
       "    .dataframe tbody tr th {\n",
       "        vertical-align: top;\n",
       "    }\n",
       "\n",
       "    .dataframe thead th {\n",
       "        text-align: right;\n",
       "    }\n",
       "</style>\n",
       "<table border=\"1\" class=\"dataframe\">\n",
       "  <thead>\n",
       "    <tr style=\"text-align: right;\">\n",
       "      <th></th>\n",
       "      <th>V_input</th>\n",
       "      <th>V_scaled</th>\n",
       "      <th>Accel_factor</th>\n",
       "    </tr>\n",
       "    <tr>\n",
       "      <th>DPI</th>\n",
       "      <th></th>\n",
       "      <th></th>\n",
       "      <th></th>\n",
       "    </tr>\n",
       "  </thead>\n",
       "  <tbody>\n",
       "    <tr>\n",
       "      <th>200</th>\n",
       "      <td>25.144</td>\n",
       "      <td>144.503</td>\n",
       "      <td>6.000000</td>\n",
       "    </tr>\n",
       "    <tr>\n",
       "      <th>400</th>\n",
       "      <td>34.536</td>\n",
       "      <td>99.241</td>\n",
       "      <td>6.000000</td>\n",
       "    </tr>\n",
       "    <tr>\n",
       "      <th>600</th>\n",
       "      <td>36.063</td>\n",
       "      <td>103.629</td>\n",
       "      <td>6.000000</td>\n",
       "    </tr>\n",
       "    <tr>\n",
       "      <th>800</th>\n",
       "      <td>44.901</td>\n",
       "      <td>70.090</td>\n",
       "      <td>6.000000</td>\n",
       "    </tr>\n",
       "    <tr>\n",
       "      <th>1000</th>\n",
       "      <td>36.063</td>\n",
       "      <td>41.451</td>\n",
       "      <td>5.999292</td>\n",
       "    </tr>\n",
       "    <tr>\n",
       "      <th>1200</th>\n",
       "      <td>36.063</td>\n",
       "      <td>41.451</td>\n",
       "      <td>5.999292</td>\n",
       "    </tr>\n",
       "    <tr>\n",
       "      <th>1400</th>\n",
       "      <td>45.078</td>\n",
       "      <td>43.179</td>\n",
       "      <td>5.999540</td>\n",
       "    </tr>\n",
       "    <tr>\n",
       "      <th>1600</th>\n",
       "      <td>36.063</td>\n",
       "      <td>25.907</td>\n",
       "      <td>5.965519</td>\n",
       "    </tr>\n",
       "    <tr>\n",
       "      <th>1800</th>\n",
       "      <td>45.078</td>\n",
       "      <td>28.786</td>\n",
       "      <td>5.983210</td>\n",
       "    </tr>\n",
       "    <tr>\n",
       "      <th>2000</th>\n",
       "      <td>45.078</td>\n",
       "      <td>25.907</td>\n",
       "      <td>5.965519</td>\n",
       "    </tr>\n",
       "    <tr>\n",
       "      <th>2200</th>\n",
       "      <td>36.063</td>\n",
       "      <td>20.726</td>\n",
       "      <td>5.874065</td>\n",
       "    </tr>\n",
       "    <tr>\n",
       "      <th>2400</th>\n",
       "      <td>45.078</td>\n",
       "      <td>21.589</td>\n",
       "      <td>5.898519</td>\n",
       "    </tr>\n",
       "    <tr>\n",
       "      <th>2600</th>\n",
       "      <td>36.063</td>\n",
       "      <td>15.943</td>\n",
       "      <td>5.583669</td>\n",
       "    </tr>\n",
       "    <tr>\n",
       "      <th>2800</th>\n",
       "      <td>45.078</td>\n",
       "      <td>19.929</td>\n",
       "      <td>5.846292</td>\n",
       "    </tr>\n",
       "    <tr>\n",
       "      <th>3000</th>\n",
       "      <td>45.078</td>\n",
       "      <td>17.271</td>\n",
       "      <td>5.701330</td>\n",
       "    </tr>\n",
       "    <tr>\n",
       "      <th>3200</th>\n",
       "      <td>45.078</td>\n",
       "      <td>16.192</td>\n",
       "      <td>5.608806</td>\n",
       "    </tr>\n",
       "  </tbody>\n",
       "</table>\n",
       "</div>"
      ],
      "text/plain": [
       "      V_input  V_scaled  Accel_factor\n",
       "DPI                                  \n",
       "200    25.144   144.503      6.000000\n",
       "400    34.536    99.241      6.000000\n",
       "600    36.063   103.629      6.000000\n",
       "800    44.901    70.090      6.000000\n",
       "1000   36.063    41.451      5.999292\n",
       "1200   36.063    41.451      5.999292\n",
       "1400   45.078    43.179      5.999540\n",
       "1600   36.063    25.907      5.965519\n",
       "1800   45.078    28.786      5.983210\n",
       "2000   45.078    25.907      5.965519\n",
       "2200   36.063    20.726      5.874065\n",
       "2400   45.078    21.589      5.898519\n",
       "2600   36.063    15.943      5.583669\n",
       "2800   45.078    19.929      5.846292\n",
       "3000   45.078    17.271      5.701330\n",
       "3200   45.078    16.192      5.608806"
      ]
     },
     "metadata": {},
     "execution_count": 3
    }
   ],
   "metadata": {}
  },
  {
   "cell_type": "code",
   "execution_count": 4,
   "source": [
    "fig = px.line(df)\n",
    "fig"
   ],
   "outputs": [
    {
     "output_type": "display_data",
     "data": {
      "application/vnd.plotly.v1+json": {
       "data": [
        {
         "hovertemplate": "variable=V_input<br>DPI=%{x}<br>value=%{y}<extra></extra>",
         "legendgroup": "V_input",
         "line": {
          "color": "#636efa",
          "dash": "solid"
         },
         "marker": {
          "symbol": "circle"
         },
         "mode": "lines",
         "name": "V_input",
         "orientation": "v",
         "showlegend": true,
         "x": [
          200,
          400,
          600,
          800,
          1000,
          1200,
          1400,
          1600,
          1800,
          2000,
          2200,
          2400,
          2600,
          2800,
          3000,
          3200
         ],
         "xaxis": "x",
         "y": [
          25.144,
          34.536,
          36.063,
          44.901,
          36.063,
          36.063,
          45.078,
          36.063,
          45.078,
          45.078,
          36.063,
          45.078,
          36.063,
          45.078,
          45.078,
          45.078
         ],
         "yaxis": "y",
         "type": "scatter"
        },
        {
         "hovertemplate": "variable=V_scaled<br>DPI=%{x}<br>value=%{y}<extra></extra>",
         "legendgroup": "V_scaled",
         "line": {
          "color": "#EF553B",
          "dash": "solid"
         },
         "marker": {
          "symbol": "circle"
         },
         "mode": "lines",
         "name": "V_scaled",
         "orientation": "v",
         "showlegend": true,
         "x": [
          200,
          400,
          600,
          800,
          1000,
          1200,
          1400,
          1600,
          1800,
          2000,
          2200,
          2400,
          2600,
          2800,
          3000,
          3200
         ],
         "xaxis": "x",
         "y": [
          144.503,
          99.241,
          103.629,
          70.09,
          41.451,
          41.451,
          43.179,
          25.907,
          28.786,
          25.907,
          20.726,
          21.589,
          15.943,
          19.929,
          17.271,
          16.192
         ],
         "yaxis": "y",
         "type": "scatter"
        },
        {
         "hovertemplate": "variable=Accel_factor<br>DPI=%{x}<br>value=%{y}<extra></extra>",
         "legendgroup": "Accel_factor",
         "line": {
          "color": "#00cc96",
          "dash": "solid"
         },
         "marker": {
          "symbol": "circle"
         },
         "mode": "lines",
         "name": "Accel_factor",
         "orientation": "v",
         "showlegend": true,
         "x": [
          200,
          400,
          600,
          800,
          1000,
          1200,
          1400,
          1600,
          1800,
          2000,
          2200,
          2400,
          2600,
          2800,
          3000,
          3200
         ],
         "xaxis": "x",
         "y": [
          6,
          6,
          6,
          6,
          5.999292,
          5.999292,
          5.99954,
          5.965519,
          5.98321,
          5.965519,
          5.874065,
          5.898519,
          5.583669,
          5.846292,
          5.70133,
          5.608806
         ],
         "yaxis": "y",
         "type": "scatter"
        }
       ],
       "layout": {
        "template": {
         "data": {
          "histogram2dcontour": [
           {
            "type": "histogram2dcontour",
            "colorbar": {
             "outlinewidth": 0,
             "ticks": ""
            },
            "colorscale": [
             [
              0,
              "#0d0887"
             ],
             [
              0.1111111111111111,
              "#46039f"
             ],
             [
              0.2222222222222222,
              "#7201a8"
             ],
             [
              0.3333333333333333,
              "#9c179e"
             ],
             [
              0.4444444444444444,
              "#bd3786"
             ],
             [
              0.5555555555555556,
              "#d8576b"
             ],
             [
              0.6666666666666666,
              "#ed7953"
             ],
             [
              0.7777777777777778,
              "#fb9f3a"
             ],
             [
              0.8888888888888888,
              "#fdca26"
             ],
             [
              1,
              "#f0f921"
             ]
            ]
           }
          ],
          "choropleth": [
           {
            "type": "choropleth",
            "colorbar": {
             "outlinewidth": 0,
             "ticks": ""
            }
           }
          ],
          "histogram2d": [
           {
            "type": "histogram2d",
            "colorbar": {
             "outlinewidth": 0,
             "ticks": ""
            },
            "colorscale": [
             [
              0,
              "#0d0887"
             ],
             [
              0.1111111111111111,
              "#46039f"
             ],
             [
              0.2222222222222222,
              "#7201a8"
             ],
             [
              0.3333333333333333,
              "#9c179e"
             ],
             [
              0.4444444444444444,
              "#bd3786"
             ],
             [
              0.5555555555555556,
              "#d8576b"
             ],
             [
              0.6666666666666666,
              "#ed7953"
             ],
             [
              0.7777777777777778,
              "#fb9f3a"
             ],
             [
              0.8888888888888888,
              "#fdca26"
             ],
             [
              1,
              "#f0f921"
             ]
            ]
           }
          ],
          "heatmap": [
           {
            "type": "heatmap",
            "colorbar": {
             "outlinewidth": 0,
             "ticks": ""
            },
            "colorscale": [
             [
              0,
              "#0d0887"
             ],
             [
              0.1111111111111111,
              "#46039f"
             ],
             [
              0.2222222222222222,
              "#7201a8"
             ],
             [
              0.3333333333333333,
              "#9c179e"
             ],
             [
              0.4444444444444444,
              "#bd3786"
             ],
             [
              0.5555555555555556,
              "#d8576b"
             ],
             [
              0.6666666666666666,
              "#ed7953"
             ],
             [
              0.7777777777777778,
              "#fb9f3a"
             ],
             [
              0.8888888888888888,
              "#fdca26"
             ],
             [
              1,
              "#f0f921"
             ]
            ]
           }
          ],
          "heatmapgl": [
           {
            "type": "heatmapgl",
            "colorbar": {
             "outlinewidth": 0,
             "ticks": ""
            },
            "colorscale": [
             [
              0,
              "#0d0887"
             ],
             [
              0.1111111111111111,
              "#46039f"
             ],
             [
              0.2222222222222222,
              "#7201a8"
             ],
             [
              0.3333333333333333,
              "#9c179e"
             ],
             [
              0.4444444444444444,
              "#bd3786"
             ],
             [
              0.5555555555555556,
              "#d8576b"
             ],
             [
              0.6666666666666666,
              "#ed7953"
             ],
             [
              0.7777777777777778,
              "#fb9f3a"
             ],
             [
              0.8888888888888888,
              "#fdca26"
             ],
             [
              1,
              "#f0f921"
             ]
            ]
           }
          ],
          "contourcarpet": [
           {
            "type": "contourcarpet",
            "colorbar": {
             "outlinewidth": 0,
             "ticks": ""
            }
           }
          ],
          "contour": [
           {
            "type": "contour",
            "colorbar": {
             "outlinewidth": 0,
             "ticks": ""
            },
            "colorscale": [
             [
              0,
              "#0d0887"
             ],
             [
              0.1111111111111111,
              "#46039f"
             ],
             [
              0.2222222222222222,
              "#7201a8"
             ],
             [
              0.3333333333333333,
              "#9c179e"
             ],
             [
              0.4444444444444444,
              "#bd3786"
             ],
             [
              0.5555555555555556,
              "#d8576b"
             ],
             [
              0.6666666666666666,
              "#ed7953"
             ],
             [
              0.7777777777777778,
              "#fb9f3a"
             ],
             [
              0.8888888888888888,
              "#fdca26"
             ],
             [
              1,
              "#f0f921"
             ]
            ]
           }
          ],
          "surface": [
           {
            "type": "surface",
            "colorbar": {
             "outlinewidth": 0,
             "ticks": ""
            },
            "colorscale": [
             [
              0,
              "#0d0887"
             ],
             [
              0.1111111111111111,
              "#46039f"
             ],
             [
              0.2222222222222222,
              "#7201a8"
             ],
             [
              0.3333333333333333,
              "#9c179e"
             ],
             [
              0.4444444444444444,
              "#bd3786"
             ],
             [
              0.5555555555555556,
              "#d8576b"
             ],
             [
              0.6666666666666666,
              "#ed7953"
             ],
             [
              0.7777777777777778,
              "#fb9f3a"
             ],
             [
              0.8888888888888888,
              "#fdca26"
             ],
             [
              1,
              "#f0f921"
             ]
            ]
           }
          ],
          "mesh3d": [
           {
            "type": "mesh3d",
            "colorbar": {
             "outlinewidth": 0,
             "ticks": ""
            }
           }
          ],
          "scatter": [
           {
            "fillpattern": {
             "fillmode": "overlay",
             "size": 10,
             "solidity": 0.2
            },
            "type": "scatter"
           }
          ],
          "parcoords": [
           {
            "type": "parcoords",
            "line": {
             "colorbar": {
              "outlinewidth": 0,
              "ticks": ""
             }
            }
           }
          ],
          "scatterpolargl": [
           {
            "type": "scatterpolargl",
            "marker": {
             "colorbar": {
              "outlinewidth": 0,
              "ticks": ""
             }
            }
           }
          ],
          "bar": [
           {
            "error_x": {
             "color": "#2a3f5f"
            },
            "error_y": {
             "color": "#2a3f5f"
            },
            "marker": {
             "line": {
              "color": "#E5ECF6",
              "width": 0.5
             },
             "pattern": {
              "fillmode": "overlay",
              "size": 10,
              "solidity": 0.2
             }
            },
            "type": "bar"
           }
          ],
          "scattergeo": [
           {
            "type": "scattergeo",
            "marker": {
             "colorbar": {
              "outlinewidth": 0,
              "ticks": ""
             }
            }
           }
          ],
          "scatterpolar": [
           {
            "type": "scatterpolar",
            "marker": {
             "colorbar": {
              "outlinewidth": 0,
              "ticks": ""
             }
            }
           }
          ],
          "histogram": [
           {
            "marker": {
             "pattern": {
              "fillmode": "overlay",
              "size": 10,
              "solidity": 0.2
             }
            },
            "type": "histogram"
           }
          ],
          "scattergl": [
           {
            "type": "scattergl",
            "marker": {
             "colorbar": {
              "outlinewidth": 0,
              "ticks": ""
             }
            }
           }
          ],
          "scatter3d": [
           {
            "type": "scatter3d",
            "line": {
             "colorbar": {
              "outlinewidth": 0,
              "ticks": ""
             }
            },
            "marker": {
             "colorbar": {
              "outlinewidth": 0,
              "ticks": ""
             }
            }
           }
          ],
          "scattermapbox": [
           {
            "type": "scattermapbox",
            "marker": {
             "colorbar": {
              "outlinewidth": 0,
              "ticks": ""
             }
            }
           }
          ],
          "scatterternary": [
           {
            "type": "scatterternary",
            "marker": {
             "colorbar": {
              "outlinewidth": 0,
              "ticks": ""
             }
            }
           }
          ],
          "scattercarpet": [
           {
            "type": "scattercarpet",
            "marker": {
             "colorbar": {
              "outlinewidth": 0,
              "ticks": ""
             }
            }
           }
          ],
          "carpet": [
           {
            "aaxis": {
             "endlinecolor": "#2a3f5f",
             "gridcolor": "white",
             "linecolor": "white",
             "minorgridcolor": "white",
             "startlinecolor": "#2a3f5f"
            },
            "baxis": {
             "endlinecolor": "#2a3f5f",
             "gridcolor": "white",
             "linecolor": "white",
             "minorgridcolor": "white",
             "startlinecolor": "#2a3f5f"
            },
            "type": "carpet"
           }
          ],
          "table": [
           {
            "cells": {
             "fill": {
              "color": "#EBF0F8"
             },
             "line": {
              "color": "white"
             }
            },
            "header": {
             "fill": {
              "color": "#C8D4E3"
             },
             "line": {
              "color": "white"
             }
            },
            "type": "table"
           }
          ],
          "barpolar": [
           {
            "marker": {
             "line": {
              "color": "#E5ECF6",
              "width": 0.5
             },
             "pattern": {
              "fillmode": "overlay",
              "size": 10,
              "solidity": 0.2
             }
            },
            "type": "barpolar"
           }
          ],
          "pie": [
           {
            "automargin": true,
            "type": "pie"
           }
          ]
         },
         "layout": {
          "autotypenumbers": "strict",
          "colorway": [
           "#636efa",
           "#EF553B",
           "#00cc96",
           "#ab63fa",
           "#FFA15A",
           "#19d3f3",
           "#FF6692",
           "#B6E880",
           "#FF97FF",
           "#FECB52"
          ],
          "font": {
           "color": "#2a3f5f"
          },
          "hovermode": "closest",
          "hoverlabel": {
           "align": "left"
          },
          "paper_bgcolor": "white",
          "plot_bgcolor": "#E5ECF6",
          "polar": {
           "bgcolor": "#E5ECF6",
           "angularaxis": {
            "gridcolor": "white",
            "linecolor": "white",
            "ticks": ""
           },
           "radialaxis": {
            "gridcolor": "white",
            "linecolor": "white",
            "ticks": ""
           }
          },
          "ternary": {
           "bgcolor": "#E5ECF6",
           "aaxis": {
            "gridcolor": "white",
            "linecolor": "white",
            "ticks": ""
           },
           "baxis": {
            "gridcolor": "white",
            "linecolor": "white",
            "ticks": ""
           },
           "caxis": {
            "gridcolor": "white",
            "linecolor": "white",
            "ticks": ""
           }
          },
          "coloraxis": {
           "colorbar": {
            "outlinewidth": 0,
            "ticks": ""
           }
          },
          "colorscale": {
           "sequential": [
            [
             0,
             "#0d0887"
            ],
            [
             0.1111111111111111,
             "#46039f"
            ],
            [
             0.2222222222222222,
             "#7201a8"
            ],
            [
             0.3333333333333333,
             "#9c179e"
            ],
            [
             0.4444444444444444,
             "#bd3786"
            ],
            [
             0.5555555555555556,
             "#d8576b"
            ],
            [
             0.6666666666666666,
             "#ed7953"
            ],
            [
             0.7777777777777778,
             "#fb9f3a"
            ],
            [
             0.8888888888888888,
             "#fdca26"
            ],
            [
             1,
             "#f0f921"
            ]
           ],
           "sequentialminus": [
            [
             0,
             "#0d0887"
            ],
            [
             0.1111111111111111,
             "#46039f"
            ],
            [
             0.2222222222222222,
             "#7201a8"
            ],
            [
             0.3333333333333333,
             "#9c179e"
            ],
            [
             0.4444444444444444,
             "#bd3786"
            ],
            [
             0.5555555555555556,
             "#d8576b"
            ],
            [
             0.6666666666666666,
             "#ed7953"
            ],
            [
             0.7777777777777778,
             "#fb9f3a"
            ],
            [
             0.8888888888888888,
             "#fdca26"
            ],
            [
             1,
             "#f0f921"
            ]
           ],
           "diverging": [
            [
             0,
             "#8e0152"
            ],
            [
             0.1,
             "#c51b7d"
            ],
            [
             0.2,
             "#de77ae"
            ],
            [
             0.3,
             "#f1b6da"
            ],
            [
             0.4,
             "#fde0ef"
            ],
            [
             0.5,
             "#f7f7f7"
            ],
            [
             0.6,
             "#e6f5d0"
            ],
            [
             0.7,
             "#b8e186"
            ],
            [
             0.8,
             "#7fbc41"
            ],
            [
             0.9,
             "#4d9221"
            ],
            [
             1,
             "#276419"
            ]
           ]
          },
          "xaxis": {
           "gridcolor": "white",
           "linecolor": "white",
           "ticks": "",
           "title": {
            "standoff": 15
           },
           "zerolinecolor": "white",
           "automargin": true,
           "zerolinewidth": 2
          },
          "yaxis": {
           "gridcolor": "white",
           "linecolor": "white",
           "ticks": "",
           "title": {
            "standoff": 15
           },
           "zerolinecolor": "white",
           "automargin": true,
           "zerolinewidth": 2
          },
          "scene": {
           "xaxis": {
            "backgroundcolor": "#E5ECF6",
            "gridcolor": "white",
            "linecolor": "white",
            "showbackground": true,
            "ticks": "",
            "zerolinecolor": "white",
            "gridwidth": 2
           },
           "yaxis": {
            "backgroundcolor": "#E5ECF6",
            "gridcolor": "white",
            "linecolor": "white",
            "showbackground": true,
            "ticks": "",
            "zerolinecolor": "white",
            "gridwidth": 2
           },
           "zaxis": {
            "backgroundcolor": "#E5ECF6",
            "gridcolor": "white",
            "linecolor": "white",
            "showbackground": true,
            "ticks": "",
            "zerolinecolor": "white",
            "gridwidth": 2
           }
          },
          "shapedefaults": {
           "line": {
            "color": "#2a3f5f"
           }
          },
          "annotationdefaults": {
           "arrowcolor": "#2a3f5f",
           "arrowhead": 0,
           "arrowwidth": 1
          },
          "geo": {
           "bgcolor": "white",
           "landcolor": "#E5ECF6",
           "subunitcolor": "white",
           "showland": true,
           "showlakes": true,
           "lakecolor": "white"
          },
          "title": {
           "x": 0.05
          },
          "mapbox": {
           "style": "light"
          }
         }
        },
        "xaxis": {
         "anchor": "y",
         "domain": [
          0,
          1
         ],
         "title": {
          "text": "DPI"
         }
        },
        "yaxis": {
         "anchor": "x",
         "domain": [
          0,
          1
         ],
         "title": {
          "text": "value"
         }
        },
        "legend": {
         "title": {
          "text": "variable"
         },
         "tracegroupgap": 0
        },
        "margin": {
         "t": 60
        }
       },
       "config": {
        "plotlyServerURL": "https://plot.ly"
       }
      }
     },
     "metadata": {}
    }
   ],
   "metadata": {}
  },
  {
   "cell_type": "code",
   "execution_count": 5,
   "source": [
    "# Generate static diagrag for GitHub: https://plotly.com/python/static-image-export/\n",
    "fig.show(\"png\")"
   ],
   "outputs": [
    {
     "output_type": "display_data",
     "data": {
      "image/png": "[encoded data removed]"
     },
     "metadata": {}
    }
   ],
   "metadata": {}
  },
  {
   "cell_type": "code",
   "execution_count": 6,
   "source": [
    "# compiled 1600 DPI\n",
    "s = '''\n",
    "Ψ Conqsole Connected: Bastard Keyboards Charybdis (4x6) Splinky (A8F8:1833:1)\n",
    "Bastard Keyboards:Charybdis (4x6) Splinky:1: MACCEL: DPI: 1600 max.vin: 2.600 max.vsc: 1.868 max.a: 1.000161\n",
    "Bastard Keyboards:Charybdis (4x6) Splinky:1: MACCEL: DPI: 1600 max.vin: 1.649 max.vsc: 1.185 max.a: 1.000041\n",
    "Bastard Keyboards:Charybdis (4x6) Splinky:1: MACCEL: DPI: 1600 max.vin: 3.200 max.vsc: 2.299 max.a: 1.000381\n",
    "Bastard Keyboards:Charybdis (4x6) Splinky:1: MACCEL: DPI: 1600 max.vin: 6.174 max.vsc: 4.435 max.a: 1.026695\n",
    "Bastard Keyboards:Charybdis (4x6) Splinky:1: MACCEL: DPI: 1600 max.vin: 8.395 max.vsc: 6.031 max.a: 1.433022\n",
    "Bastard Keyboards:Charybdis (4x6) Splinky:1: MACCEL: DPI: 1600 max.vin: 7.518 max.vsc: 5.401 max.a: 1.162111\n",
    "Bastard Keyboards:Charybdis (4x6) Splinky:1: MACCEL: DPI: 1600 max.vin: 2.600 max.vsc: 1.868 max.a: 1.000161\n",
    "Bastard Keyboards:Charybdis (4x6) Splinky:1: MACCEL: DPI: 1600 max.vin: 0.200 max.vsc: 0.144 max.a: 1.000005\n",
    "Bastard Keyboards:Charybdis (4x6) Splinky:1: MACCEL: DPI: 1600 max.vin: 26.965 max.vsc: 19.372 max.a: 5.823325\n",
    "Bastard Keyboards:Charybdis (4x6) Splinky:1: MACCEL: DPI: 1600 max.vin: 36.063 max.vsc: 25.907 max.a: 5.965519\n",
    "Bastard Keyboards:Charybdis (4x6) Splinky:1: MACCEL: DPI: 1600 max.vin: 36.063 max.vsc: 25.907 max.a: 5.965519\n",
    "Bastard Keyboards:Charybdis (4x6) Splinky:1: MACCEL: DPI: 1600 max.vin: 36.063 max.vsc: 25.907 max.a: 5.965519\n",
    "Bastard Keyboards:Charybdis (4x6) Splinky:1: MACCEL: DPI: 1600 max.vin: 36.063 max.vsc: 25.907 max.a: 5.965519\n",
    "Bastard Keyboards:Charybdis (4x6) Splinky:1: MACCEL: DPI: 1600 max.vin: 36.063 max.vsc: 25.907 max.a: 5.965519\n",
    "Bastard Keyboards:Charybdis (4x6) Splinky:1: MACCEL: DPI: 1600 max.vin: 32.016 max.vsc: 23.000 max.a: 5.928674\n",
    "'''"
   ],
   "outputs": [],
   "metadata": {}
  }
 ],
 "nbformat": 4,
 "nbformat_minor": 2,
 "metadata": {
  "language_info": {
   "codemirror_mode": {
    "name": "ipython",
    "version": 3
   },
   "file_extension": ".py",
   "mimetype": "text/x-python",
   "name": "python",
   "nbconvert_exporter": "python",
   "pygments_lexer": "ipython3",
   "version": 3
  }
 }
}