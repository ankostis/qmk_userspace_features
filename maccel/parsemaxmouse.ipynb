{
 "cells": [
  {
   "cell_type": "code",
   "execution_count": 1,
   "source": [
    "# pip install pandas plotly kaleido\n",
    "\n",
    "# %%\n",
    "import re\n",
    "\n",
    "import pandas as pd\n",
    "import plotly.graph_objects as go\n",
    "from plotly import express as px"
   ],
   "outputs": [],
   "metadata": {}
  },
  {
   "cell_type": "code",
   "execution_count": 2,
   "source": [
    "s = \"\"\"\n",
    "18:32 $ qmk console\n",
    "Looking for devices...\n",
    "Ψ Console Connected: Bastard Keyboards Charybdis (4x6) Splinky (A8F8:1833:1)\n",
    "Bastard Keyboards:Charybdis (4x6) Splinky:1: MACCEL: DPI:  400 min.t:    5 max.t:   10 max.d: 3.162 max.vin: 0.632 max.vsc: 0.632 max.a: 1.000014\n",
    "Bastard Keyboards:Charybdis (4x6) Splinky:1: (charybdis) process_record_kb: config = {\n",
    "Bastard Keyboards:Charybdis (4x6) Splinky:1:    raw = 0x41,\n",
    "Bastard Keyboards:Charybdis (4x6) Splinky:1:    {\n",
    "Bastard Keyboards:Charybdis (4x6) Splinky:1:            is_dragscroll_enabled=1\n",
    "Bastard Keyboards:Charybdis (4x6) Splinky:1:            is_sniping_enabled=0\n",
    "Bastard Keyboards:Charybdis (4x6) Splinky:1:            default_dpi=0x1 (400)\n",
    "Bastard Keyboards:Charybdis (4x6) Splinky:1:            sniping_dpi=0x0 (100)\n",
    "Bastard Keyboards:Charybdis (4x6) Splinky:1:    }\n",
    "Bastard Keyboards:Charybdis (4x6) Splinky:1: }\n",
    "Bastard Keyboards:Charybdis (4x6) Splinky:1: (charybdis) process_record_kb: config = {\n",
    "Bastard Keyboards:Charybdis (4x6) Splinky:1:    raw = 0x1,\n",
    "Bastard Keyboards:Charybdis (4x6) Splinky:1:    {\n",
    "Bastard Keyboards:Charybdis (4x6) Splinky:1:            is_dragscroll_enabled=0\n",
    "Bastard Keyboards:Charybdis (4x6) Splinky:1:            is_sniping_enabled=0\n",
    "Bastard Keyboards:Charybdis (4x6) Splinky:1:            default_dpi=0x1 (400)\n",
    "Bastard Keyboards:Charybdis (4x6) Splinky:1:            sniping_dpi=0x0 (100)\n",
    "Bastard Keyboards:Charybdis (4x6) Splinky:1:    }\n",
    "Bastard Keyboards:Charybdis (4x6) Splinky:1: }\n",
    "Bastard Keyboards:Charybdis (4x6) Splinky:1: MACCEL: DPI:  400 min.t:    4 max.t:   90 max.d: 3.162 max.vin: 0.600 max.vsc: 0.600 max.a: 1.000012\n",
    "Bastard Keyboards:Charybdis (4x6) Splinky:1: MACCEL: DPI:  400 min.t:    5 max.t:   15 max.d: 2.828 max.vin: 0.566 max.vsc: 0.566 max.a: 1.000012\n",
    "Bastard Keyboards:Charybdis (4x6) Splinky:1: (charybdis) process_record_kb: config = {\n",
    "Bastard Keyboards:Charybdis (4x6) Splinky:1:    raw = 0x0,\n",
    "Bastard Keyboards:Charybdis (4x6) Splinky:1:    {\n",
    "Bastard Keyboards:Charybdis (4x6) Splinky:1:            is_dragscroll_enabled=0\n",
    "Bastard Keyboards:Charybdis (4x6) Splinky:1:            is_sniping_enabled=0\n",
    "Bastard Keyboards:Charybdis (4x6) Splinky:1:            default_dpi=0x0 (200)\n",
    "Bastard Keyboards:Charybdis (4x6) Splinky:1:            sniping_dpi=0x0 (100)\n",
    "Bastard Keyboards:Charybdis (4x6) Splinky:1:    }\n",
    "Bastard Keyboards:Charybdis (4x6) Splinky:1: }\n",
    "Bastard Keyboards:Charybdis (4x6) Splinky:1: (charybdis) process_record_kb: config = {\n",
    "Bastard Keyboards:Charybdis (4x6) Splinky:1:    raw = 0x0,\n",
    "Bastard Keyboards:Charybdis (4x6) Splinky:1:    {\n",
    "Bastard Keyboards:Charybdis (4x6) Splinky:1:            is_dragscroll_enabled=0\n",
    "Bastard Keyboards:Charybdis (4x6) Splinky:1:            is_sniping_enabled=0\n",
    "Bastard Keyboards:Charybdis (4x6) Splinky:1:            default_dpi=0x0 (200)\n",
    "Bastard Keyboards:Charybdis (4x6) Splinky:1:            sniping_dpi=0x0 (100)\n",
    "Bastard Keyboards:Charybdis (4x6) Splinky:1:    }\n",
    "Bastard Keyboards:Charybdis (4x6) Splinky:1: }\n",
    "Bastard Keyboards:Charybdis (4x6) Splinky:1: MACCEL: DPI:  200 min.t:    5 max.t:   30 max.d: 2.236 max.vin: 0.447 max.vsc: 0.447 max.a: 1.000010\n",
    "Bastard Keyboards:Charybdis (4x6) Splinky:1: MACCEL: DPI:  200 min.t:   10 max.t:   36 max.d: 1.000 max.vin: 0.100 max.vsc: 0.100 max.a: 1.000005\n",
    "Bastard Keyboards:Charybdis (4x6) Splinky:1: MACCEL: DPI:  200 min.t:    5 max.t:   91 max.d: 14.318 max.vin: 2.864 max.vsc: 2.864 max.a: 1.001178\n",
    "Bastard Keyboards:Charybdis (4x6) Splinky:1: MACCEL: DPI:  200 min.t:    5 max.t:   45 max.d: 28.302 max.vin: 5.660 max.vsc: 5.660 max.a: 1.249870\n",
    "Bastard Keyboards:Charybdis (4x6) Splinky:1: MACCEL: DPI:  200 min.t:    4 max.t:   85 max.d: 63.253 max.vin: 12.651 max.vsc: 12.651 max.a: 5.051843\n",
    "Bastard Keyboards:Charybdis (4x6) Splinky:1: (charybdis) process_record_kb: config = {\n",
    "Bastard Keyboards:Charybdis (4x6) Splinky:1:    raw = 0x1,\n",
    "Bastard Keyboards:Charybdis (4x6) Splinky:1:    {\n",
    "Bastard Keyboards:Charybdis (4x6) Splinky:1:            is_dragscroll_enabled=0\n",
    "Bastard Keyboards:Charybdis (4x6) Splinky:1:            is_sniping_enabled=0\n",
    "Bastard Keyboards:Charybdis (4x6) Splinky:1:            default_dpi=0x1 (400)\n",
    "Bastard Keyboards:Charybdis (4x6) Splinky:1:            sniping_dpi=0x0 (100)\n",
    "Bastard Keyboards:Charybdis (4x6) Splinky:1:    }\n",
    "Bastard Keyboards:Charybdis (4x6) Splinky:1: }\n",
    "Bastard Keyboards:Charybdis (4x6) Splinky:1: (charybdis) process_record_kb: config = {\n",
    "Bastard Keyboards:Charybdis (4x6) Splinky:1:    raw = 0x1,\n",
    "Bastard Keyboards:Charybdis (4x6) Splinky:1:    {\n",
    "Bastard Keyboards:Charybdis (4x6) Splinky:1:            is_dragscroll_enabled=0\n",
    "Bastard Keyboards:Charybdis (4x6) Splinky:1:            is_sniping_enabled=0\n",
    "Bastard Keyboards:Charybdis (4x6) Splinky:1:            default_dpi=0x1 (400)\n",
    "Bastard Keyboards:Charybdis (4x6) Splinky:1:            sniping_dpi=0x0 (100)\n",
    "Bastard Keyboards:Charybdis (4x6) Splinky:1:    }\n",
    "Bastard Keyboards:Charybdis (4x6) Splinky:1: }\n",
    "Bastard Keyboards:Charybdis (4x6) Splinky:1: MACCEL: DPI:  400 min.t:    5 max.t:   22 max.d: 149.893 max.vin: 10.394 max.vsc: 10.394 max.a: 4.333273\n",
    "Bastard Keyboards:Charybdis (4x6) Splinky:1: MACCEL: DPI:  400 min.t:    4 max.t:   23 max.d: 168.582 max.vin: 16.834 max.vsc: 16.834 max.a: 5.666857\n",
    "Bastard Keyboards:Charybdis (4x6) Splinky:1: MACCEL: DPI:  400 min.t:    5 max.t:    6 max.d: 21.213 max.vin: 4.243 max.vsc: 4.243 max.a: 1.018293\n",
    "Bastard Keyboards:Charybdis (4x6) Splinky:1: MACCEL: DPI:  400 min.t:    4 max.t:   11 max.d: 10.296 max.vin: 2.372 max.vsc: 2.372 max.a: 1.000441\n",
    "Bastard Keyboards:Charybdis (4x6) Splinky:1: MACCEL: DPI:  400 min.t:    4 max.t:   10 max.d: 33.302 max.vin: 6.512 max.vsc: 6.512 max.a: 1.765917\n",
    "Bastard Keyboards:Charybdis (4x6) Splinky:1: MACCEL: DPI:  400 min.t:    5 max.t:    5 max.d: 99.489 max.vin: 19.898 max.vsc: 19.898 max.a: 5.845103\n",
    "Bastard Keyboards:Charybdis (4x6) Splinky:1: MACCEL: DPI:  400 min.t:    4 max.t:    6 max.d: 107.838 max.vin: 21.568 max.vsc: 21.568 max.a: 5.897966\n",
    "Bastard Keyboards:Charybdis (4x6) Splinky:1: MACCEL: DPI:  400 min.t:    5 max.t:    5 max.d: 69.771 max.vin: 13.954 max.vsc: 13.954 max.a: 5.315533\n",
    "Bastard Keyboards:Charybdis (4x6) Splinky:1: MACCEL: DPI:  400 min.t:    4 max.t:    6 max.d: 102.083 max.vin: 20.417 max.vsc: 20.417 max.a: 5.863949\n",
    "Bastard Keyboards:Charybdis (4x6) Splinky:1: MACCEL: DPI:  400 min.t:    5 max.t:    6 max.d: 103.092 max.vin: 20.618 max.vsc: 20.618 max.a: 5.870642\n",
    "Bastard Keyboards:Charybdis (4x6) Splinky:1: MACCEL: DPI:  400 min.t:    4 max.t:   10 max.d: 47.508 max.vin: 10.817 max.vsc: 10.817 max.a: 4.500299\n",
    "Bastard Keyboards:Charybdis (4x6) Splinky:1: (charybdis) process_record_kb: config = {\n",
    "Bastard Keyboards:Charybdis (4x6) Splinky:1:    raw = 0x2,\n",
    "Bastard Keyboards:Charybdis (4x6) Splinky:1:    {\n",
    "Bastard Keyboards:Charybdis (4x6) Splinky:1:            is_dragscroll_enabled=0\n",
    "Bastard Keyboards:Charybdis (4x6) Splinky:1:            is_sniping_enabled=0\n",
    "Bastard Keyboards:Charybdis (4x6) Splinky:1:            default_dpi=0x2 (600)\n",
    "Bastard Keyboards:Charybdis (4x6) Splinky:1:            sniping_dpi=0x0 (100)\n",
    "Bastard Keyboards:Charybdis (4x6) Splinky:1:    }\n",
    "Bastard Keyboards:Charybdis (4x6) Splinky:1: }\n",
    "Bastard Keyboards:Charybdis (4x6) Splinky:1: (charybdis) process_record_kb: config = {\n",
    "Bastard Keyboards:Charybdis (4x6) Splinky:1:    raw = 0x2,\n",
    "Bastard Keyboards:Charybdis (4x6) Splinky:1:    {\n",
    "Bastard Keyboards:Charybdis (4x6) Splinky:1:            is_dragscroll_enabled=0\n",
    "Bastard Keyboards:Charybdis (4x6) Splinky:1:            is_sniping_enabled=0\n",
    "Bastard Keyboards:Charybdis (4x6) Splinky:1:            default_dpi=0x2 (600)\n",
    "Bastard Keyboards:Charybdis (4x6) Splinky:1:            sniping_dpi=0x0 (100)\n",
    "Bastard Keyboards:Charybdis (4x6) Splinky:1:    }\n",
    "Bastard Keyboards:Charybdis (4x6) Splinky:1: }\n",
    "Bastard Keyboards:Charybdis (4x6) Splinky:1: MACCEL: DPI:  600 min.t:    5 max.t:   10 max.d: 66.843 max.vin: 13.369 max.vsc: 13.369 max.a: 5.207623\n",
    "Bastard Keyboards:Charybdis (4x6) Splinky:1: MACCEL: DPI:  600 min.t:    5 max.t:   15 max.d: 9.849 max.vin: 0.632 max.vsc: 0.632 max.a: 1.000014\n",
    "Bastard Keyboards:Charybdis (4x6) Splinky:1: MACCEL: DPI:  600 min.t:    5 max.t:    6 max.d: 180.314 max.vin: 36.063 max.vsc: 36.063 max.a: 5.997278\n",
    "Bastard Keyboards:Charybdis (4x6) Splinky:1: (charybdis) process_record_kb: config = {\n",
    "Bastard Keyboards:Charybdis (4x6) Splinky:1:    raw = 0x3,\n",
    "Bastard Keyboards:Charybdis (4x6) Splinky:1:    {\n",
    "Bastard Keyboards:Charybdis (4x6) Splinky:1:            is_dragscroll_enabled=0\n",
    "Bastard Keyboards:Charybdis (4x6) Splinky:1:            is_sniping_enabled=0\n",
    "Bastard Keyboards:Charybdis (4x6) Splinky:1:            default_dpi=0x3 (800)\n",
    "Bastard Keyboards:Charybdis (4x6) Splinky:1:            sniping_dpi=0x0 (100)\n",
    "Bastard Keyboards:Charybdis (4x6) Splinky:1:    }\n",
    "Bastard Keyboards:Charybdis (4x6) Splinky:1: }\n",
    "Bastard Keyboards:Charybdis (4x6) Splinky:1: (charybdis) process_record_kb: config = {\n",
    "Bastard Keyboards:Charybdis (4x6) Splinky:1:    raw = 0x3,\n",
    "Bastard Keyboards:Charybdis (4x6) Splinky:1:    {\n",
    "Bastard Keyboards:Charybdis (4x6) Splinky:1:            is_dragscroll_enabled=0\n",
    "Bastard Keyboards:Charybdis (4x6) Splinky:1:            is_sniping_enabled=0\n",
    "Bastard Keyboards:Charybdis (4x6) Splinky:1:            default_dpi=0x3 (800)\n",
    "Bastard Keyboards:Charybdis (4x6) Splinky:1:            sniping_dpi=0x0 (100)\n",
    "Bastard Keyboards:Charybdis (4x6) Splinky:1:    }\n",
    "Bastard Keyboards:Charybdis (4x6) Splinky:1: }\n",
    "Bastard Keyboards:Charybdis (4x6) Splinky:1: MACCEL: DPI:  800 min.t:    4 max.t:   65 max.d: 160.000 max.vin: 34.308 max.vsc: 34.308 max.a: 5.995779\n",
    "Bastard Keyboards:Charybdis (4x6) Splinky:1: MACCEL: DPI:  800 min.t:    4 max.t:   10 max.d: 155.081 max.vin: 31.016 max.vsc: 31.016 max.a: 5.990386\n",
    "Bastard Keyboards:Charybdis (4x6) Splinky:1: MACCEL: DPI:  800 min.t:    4 max.t:   20 max.d: 172.679 max.vin: 34.536 max.vsc: 34.536 max.a: 5.996012\n",
    "Bastard Keyboards:Charybdis (4x6) Splinky:1: MACCEL: DPI:  800 min.t:    4 max.t:    6 max.d: 136.488 max.vin: 32.934 max.vsc: 32.934 max.a: 5.994048\n",
    "Bastard Keyboards:Charybdis (4x6) Splinky:1: MACCEL: DPI:  800 min.t:    4 max.t:   76 max.d: 145.499 max.vin: 31.754 max.vsc: 31.754 max.a: 5.992006\n",
    "Bastard Keyboards:Charybdis (4x6) Splinky:1: MACCEL: DPI:  800 min.t:    4 max.t:    6 max.d: 133.150 max.vin: 26.630 max.vsc: 26.630 max.a: 5.971220\n",
    "Bastard Keyboards:Charybdis (4x6) Splinky:1: MACCEL: DPI:  800 min.t:    5 max.t:   10 max.d: 5.657 max.vin: 1.000 max.vsc: 1.000 max.a: 1.000029\n",
    "Bastard Keyboards:Charybdis (4x6) Splinky:1: MACCEL: DPI:  800 min.t:    5 max.t:   10 max.d: 38.210 max.vin: 0.200 max.vsc: 0.200 max.a: 1.000006\n",
    "Bastard Keyboards:Charybdis (4x6) Splinky:1: MACCEL: DPI:  800 min.t:    5 max.t:    6 max.d: 137.535 max.vin: 27.507 max.vsc: 27.507 max.a: 5.976886\n",
    "Bastard Keyboards:Charybdis (4x6) Splinky:1: MACCEL: DPI:  800 min.t:    5 max.t:   25 max.d: 162.432 max.vin: 32.486 max.vsc: 32.486 max.a: 5.993343\n",
    "Bastard Keyboards:Charybdis (4x6) Splinky:1: MACCEL: DPI:  800 min.t:    5 max.t:   10 max.d: 18.682 max.vin: 3.736 max.vsc: 3.736 max.a: 1.006715\n",
    "Bastard Keyboards:Charybdis (4x6) Splinky:1: MACCEL: DPI:  800 min.t:    5 max.t:   10 max.d: 7.616 max.vin: 0.825 max.vsc: 0.825 max.a: 1.000020\n",
    "Bastard Keyboards:Charybdis (4x6) Splinky:1: MACCEL: DPI:  800 min.t:    4 max.t:   76 max.d: 153.379 max.vin: 30.676 max.vsc: 30.676 max.a: 5.989532\n",
    ".Bastard Keyboards:Charybdis (4x6) Splinky:1: MACCEL: DPI:  800 min.t:    4 max.t:   86 max.d: 159.806 max.vin: 31.961 max.vsc: 31.961 max.a: 5.992410\n",
    "Bastard Keyboards:Charybdis (4x6) Splinky:1: MACCEL: DPI:  800 min.t:    4 max.t:   95 max.d: 34.928 max.vin: 6.986 max.vsc: 6.986 max.a: 2.155224\n",
    "Bastard Keyboards:Charybdis (4x6) Splinky:1: MACCEL: DPI:  800 min.t:    4 max.t:   95 max.d: 180.314 max.vin: 45.078 max.vsc: 45.078 max.a: 5.999714\n",
    "Bastard Keyboards:Charybdis (4x6) Splinky:1: MACCEL: DPI:  800 min.t:    5 max.t:   20 max.d: 3.000 max.vin: 0.400 max.vsc: 0.400 max.a: 1.000008\n",
    "Bastard Keyboards:Charybdis (4x6) Splinky:1: (charybdis) process_record_kb: config = {\n",
    "Bastard Keyboards:Charybdis (4x6) Splinky:1:    raw = 0x4,\n",
    "Bastard Keyboards:Charybdis (4x6) Splinky:1:    {\n",
    "Bastard Keyboards:Charybdis (4x6) Splinky:1:            is_dragscroll_enabled=0\n",
    "Bastard Keyboards:Charybdis (4x6) Splinky:1:            is_sniping_enabled=0\n",
    "Bastard Keyboards:Charybdis (4x6) Splinky:1:            default_dpi=0x4 (1000)\n",
    "Bastard Keyboards:Charybdis (4x6) Splinky:1:            sniping_dpi=0x0 (100)\n",
    "Bastard Keyboards:Charybdis (4x6) Splinky:1:    }\n",
    "Bastard Keyboards:Charybdis (4x6) Splinky:1: }\n",
    "Bastard Keyboards:Charybdis (4x6) Splinky:1: (charybdis) process_record_kb: config = {\n",
    "Bastard Keyboards:Charybdis (4x6) Splinky:1:    raw = 0x4,\n",
    "Bastard Keyboards:Charybdis (4x6) Splinky:1:    {\n",
    "Bastard Keyboards:Charybdis (4x6) Splinky:1:            is_dragscroll_enabled=0\n",
    "Bastard Keyboards:Charybdis (4x6) Splinky:1:            is_sniping_enabled=0\n",
    "Bastard Keyboards:Charybdis (4x6) Splinky:1:            default_dpi=0x4 (1000)\n",
    "Bastard Keyboards:Charybdis (4x6) Splinky:1:            sniping_dpi=0x0 (100)\n",
    "Bastard Keyboards:Charybdis (4x6) Splinky:1:    }\n",
    "Bastard Keyboards:Charybdis (4x6) Splinky:1: }\n",
    "Bastard Keyboards:Charybdis (4x6) Splinky:1: MACCEL: DPI: 1000 min.t:    5 max.t:   15 max.d: 4.472 max.vin: 0.894 max.vsc: 0.894 max.a: 1.000022\n",
    "Bastard Keyboards:Charybdis (4x6) Splinky:1: MACCEL: DPI: 1000 min.t:    4 max.t:   10 max.d: 180.314 max.vin: 36.063 max.vsc: 36.063 max.a: 5.997278\n",
    "Bastard Keyboards:Charybdis (4x6) Splinky:1: MACCEL: DPI: 1000 min.t:    5 max.t:   10 max.d: 39.395 max.vin: 4.005 max.vsc: 4.005 max.a: 1.011444\n",
    "Bastard Keyboards:Charybdis (4x6) Splinky:1: MACCEL: DPI: 1000 min.t:    4 max.t:   35 max.d: 180.314 max.vin: 36.063 max.vsc: 36.063 max.a: 5.997278\n",
    "Bastard Keyboards:Charybdis (4x6) Splinky:1: MACCEL: DPI: 1000 min.t:    4 max.t:   11 max.d: 20.616 max.vin: 4.123 max.vsc: 4.123 max.a: 1.014453\n",
    "Bastard Keyboards:Charybdis (4x6) Splinky:1: MACCEL: DPI: 1000 min.t:    5 max.t:   10 max.d: 16.492 max.vin: 3.046 max.vsc: 3.046 max.a: 1.001697\n",
    "Bastard Keyboards:Charybdis (4x6) Splinky:1: (charybdis) process_record_kb: config = {\n",
    "Bastard Keyboards:Charybdis (4x6) Splinky:1:    raw = 0x5,\n",
    "Bastard Keyboards:Charybdis (4x6) Splinky:1:    {\n",
    "Bastard Keyboards:Charybdis (4x6) Splinky:1:            is_dragscroll_enabled=0\n",
    "Bastard Keyboards:Charybdis (4x6) Splinky:1:            is_sniping_enabled=0\n",
    "Bastard Keyboards:Charybdis (4x6) Splinky:1:            default_dpi=0x5 (1200)\n",
    "Bastard Keyboards:Charybdis (4x6) Splinky:1:            sniping_dpi=0x0 (100)\n",
    "Bastard Keyboards:Charybdis (4x6) Splinky:1:    }\n",
    "Bastard Keyboards:Charybdis (4x6) Splinky:1: }\n",
    "Bastard Keyboards:Charybdis (4x6) Splinky:1: MACCEL: DPI: 1200 min.t:    4 max.t:   10 max.d: 4.123 max.vin: 0.825 max.vsc: 0.825 max.a: 1.000020\n",
    "Bastard Keyboards:Charybdis (4x6) Splinky:1: (charybdis) process_record_kb: config = {\n",
    "Bastard Keyboards:Charybdis (4x6) Splinky:1:    raw = 0x5,\n",
    "Bastard Keyboards:Charybdis (4x6) Splinky:1:    {\n",
    "Bastard Keyboards:Charybdis (4x6) Splinky:1:            is_dragscroll_enabled=0\n",
    "Bastard Keyboards:Charybdis (4x6) Splinky:1:            is_sniping_enabled=0\n",
    "Bastard Keyboards:Charybdis (4x6) Splinky:1:            default_dpi=0x5 (1200)\n",
    "Bastard Keyboards:Charybdis (4x6) Splinky:1:            sniping_dpi=0x0 (100)\n",
    "Bastard Keyboards:Charybdis (4x6) Splinky:1:    }\n",
    "Bastard Keyboards:Charybdis (4x6) Splinky:1: }\n",
    "Bastard Keyboards:Charybdis (4x6) Splinky:1: MACCEL: DPI: 1200 min.t:  890 max.t:    0 max.d: 1.000 max.vin: 0.001 max.vsc: 0.001 max.a: 1.000003\n",
    "Bastard Keyboards:Charybdis (4x6) Splinky:1: MACCEL: DPI: 1200 min.t:    4 max.t:   11 max.d: 16.279 max.vin: 1.250 max.vsc: 1.250 max.a: 1.000046\n",
    "Bastard Keyboards:Charybdis (4x6) Splinky:1: MACCEL: DPI: 1200 min.t:    5 max.t:   20 max.d: 180.314 max.vin: 36.063 max.vsc: 36.063 max.a: 5.997278\n",
    "Bastard Keyboards:Charybdis (4x6) Splinky:1: MACCEL: DPI: 1200 min.t:    4 max.t:   10 max.d: 77.466 max.vin: 15.493 max.vsc: 15.493 max.a: 5.534139\n",
    "Bastard Keyboards:Charybdis (4x6) Splinky:1: MACCEL: DPI: 1200 min.t:    5 max.t:   10 max.d: 180.314 max.vin: 36.063 max.vsc: 36.063 max.a: 5.997278\n",
    "Bastard Keyboards:Charybdis (4x6) Splinky:1: (charybdis) process_record_kb: config = {\n",
    "Bastard Keyboards:Charybdis (4x6) Splinky:1:    raw = 0x6,\n",
    "Bastard Keyboards:Charybdis (4x6) Splinky:1:    {\n",
    "Bastard Keyboards:Charybdis (4x6) Splinky:1:            is_dragscroll_enabled=0\n",
    "Bastard Keyboards:Charybdis (4x6) Splinky:1:            is_sniping_enabled=0\n",
    "Bastard Keyboards:Charybdis (4x6) Splinky:1:            default_dpi=0x6 (1400)\n",
    "Bastard Keyboards:Charybdis (4x6) Splinky:1:            sniping_dpi=0x0 (100)\n",
    "Bastard Keyboards:Charybdis (4x6) Splinky:1:    }\n",
    "Bastard Keyboards:Charybdis (4x6) Splinky:1: }\n",
    "Bastard Keyboards:Charybdis (4x6) Splinky:1: (charybdis) process_record_kb: config = {\n",
    "Bastard Keyboards:Charybdis (4x6) Splinky:1:    raw = 0x6,\n",
    "Bastard Keyboards:Charybdis (4x6) Splinky:1:    {\n",
    "Bastard Keyboards:Charybdis (4x6) Splinky:1:            is_dragscroll_enabled=0\n",
    "Bastard Keyboards:Charybdis (4x6) Splinky:1:            is_sniping_enabled=0\n",
    "Bastard Keyboards:Charybdis (4x6) Splinky:1:            default_dpi=0x6 (1400)\n",
    "Bastard Keyboards:Charybdis (4x6) Splinky:1:            sniping_dpi=0x0 (100)\n",
    "Bastard Keyboards:Charybdis (4x6) Splinky:1:    }\n",
    "Bastard Keyboards:Charybdis (4x6) Splinky:1: }\n",
    "Bastard Keyboards:Charybdis (4x6) Splinky:1: MACCEL: DPI: 1400 min.t:    5 max.t:   10 max.d: 11.180 max.vin: 2.236 max.vsc: 2.236 max.a: 1.000336\n",
    "Bastard Keyboards:Charybdis (4x6) Splinky:1: MACCEL: DPI: 1400 min.t:    4 max.t:   20 max.d: 25.495 max.vin: 5.831 max.vsc: 5.831 max.a: 1.325380\n",
    "Bastard Keyboards:Charybdis (4x6) Splinky:1: MACCEL: DPI: 1400 min.t:  590 max.t:    0 max.d: 9.899 max.vin: 0.017 max.vsc: 0.017 max.a: 1.000004\n",
    "Bastard Keyboards:Charybdis (4x6) Splinky:1: MACCEL: DPI: 1400 min.t:    4 max.t:   10 max.d: 180.314 max.vin: 45.078 max.vsc: 45.078 max.a: 5.999714\n",
    "Bastard Keyboards:Charybdis (4x6) Splinky:1: MACCEL: DPI: 1400 min.t:    4 max.t:   11 max.d: 180.314 max.vin: 45.078 max.vsc: 45.078 max.a: 5.999714\n",
    "Bastard Keyboards:Charybdis (4x6) Splinky:1: MACCEL: DPI: 1400 min.t:    4 max.t:   10 max.d: 180.314 max.vin: 36.063 max.vsc: 36.063 max.a: 5.997278\n",
    "Bastard Keyboards:Charybdis (4x6) Splinky:1: (charybdis) process_record_kb: config = {\n",
    "Bastard Keyboards:Charybdis (4x6) Splinky:1:    raw = 0x7,\n",
    "Bastard Keyboards:Charybdis (4x6) Splinky:1:    {\n",
    "Bastard Keyboards:Charybdis (4x6) Splinky:1:            is_dragscroll_enabled=0\n",
    "Bastard Keyboards:Charybdis (4x6) Splinky:1:            is_sniping_enabled=0\n",
    "Bastard Keyboards:Charybdis (4x6) Splinky:1:            default_dpi=0x7 (1600)\n",
    "Bastard Keyboards:Charybdis (4x6) Splinky:1:            sniping_dpi=0x0 (100)\n",
    "Bastard Keyboards:Charybdis (4x6) Splinky:1:    }\n",
    "Bastard Keyboards:Charybdis (4x6) Splinky:1: }\n",
    "Bastard Keyboards:Charybdis (4x6) Splinky:1: (charybdis) process_record_kb: config = {\n",
    "Bastard Keyboards:Charybdis (4x6) Splinky:1:    raw = 0x7,\n",
    "Bastard Keyboards:Charybdis (4x6) Splinky:1:    {\n",
    "Bastard Keyboards:Charybdis (4x6) Splinky:1:            is_dragscroll_enabled=0\n",
    "Bastard Keyboards:Charybdis (4x6) Splinky:1:            is_sniping_enabled=0\n",
    "Bastard Keyboards:Charybdis (4x6) Splinky:1:            default_dpi=0x7 (1600)\n",
    "Bastard Keyboards:Charybdis (4x6) Splinky:1:            sniping_dpi=0x0 (100)\n",
    "Bastard Keyboards:Charybdis (4x6) Splinky:1:    }\n",
    "Bastard Keyboards:Charybdis (4x6) Splinky:1: }\n",
    "Bastard Keyboards:Charybdis (4x6) Splinky:1: (charybdis) process_record_kb: config = {\n",
    "Bastard Keyboards:Charybdis (4x6) Splinky:1:    raw = 0x8,\n",
    "Bastard Keyboards:Charybdis (4x6) Splinky:1:    {\n",
    "Bastard Keyboards:Charybdis (4x6) Splinky:1:            is_dragscroll_enabled=0\n",
    "Bastard Keyboards:Charybdis (4x6) Splinky:1:            is_sniping_enabled=0\n",
    "Bastard Keyboards:Charybdis (4x6) Splinky:1:            default_dpi=0x8 (1800)\n",
    "Bastard Keyboards:Charybdis (4x6) Splinky:1:            sniping_dpi=0x0 (100)\n",
    "Bastard Keyboards:Charybdis (4x6) Splinky:1:    }\n",
    "Bastard Keyboards:Charybdis (4x6) Splinky:1: }\n",
    "Bastard Keyboards:Charybdis (4x6) Splinky:1: (charybdis) process_record_kb: config = {\n",
    "Bastard Keyboards:Charybdis (4x6) Splinky:1:    raw = 0x8,\n",
    "Bastard Keyboards:Charybdis (4x6) Splinky:1:    {\n",
    "Bastard Keyboards:Charybdis (4x6) Splinky:1:            is_dragscroll_enabled=0\n",
    "Bastard Keyboards:Charybdis (4x6) Splinky:1:            is_sniping_enabled=0\n",
    "Bastard Keyboards:Charybdis (4x6) Splinky:1:            default_dpi=0x8 (1800)\n",
    "Bastard Keyboards:Charybdis (4x6) Splinky:1:            sniping_dpi=0x0 (100)\n",
    "Bastard Keyboards:Charybdis (4x6) Splinky:1:    }\n",
    "Bastard Keyboards:Charybdis (4x6) Splinky:1: }\n",
    "Bastard Keyboards:Charybdis (4x6) Splinky:1: (charybdis) process_record_kb: config = {\n",
    "Bastard Keyboards:Charybdis (4x6) Splinky:1:    raw = 0x9,\n",
    "Bastard Keyboards:Charybdis (4x6) Splinky:1:    {\n",
    "Bastard Keyboards:Charybdis (4x6) Splinky:1:            is_dragscroll_enabled=0\n",
    "Bastard Keyboards:Charybdis (4x6) Splinky:1:            is_sniping_enabled=0\n",
    "Bastard Keyboards:Charybdis (4x6) Splinky:1:            default_dpi=0x9 (2000)\n",
    "Bastard Keyboards:Charybdis (4x6) Splinky:1:            sniping_dpi=0x0 (100)\n",
    "Bastard Keyboards:Charybdis (4x6) Splinky:1:    }\n",
    "Bastard Keyboards:Charybdis (4x6) Splinky:1: }\n",
    "Bastard Keyboards:Charybdis (4x6) Splinky:1: (charybdis) process_record_kb: config = {\n",
    "Bastard Keyboards:Charybdis (4x6) Splinky:1:    raw = 0x9,\n",
    "Bastard Keyboards:Charybdis (4x6) Splinky:1:    {\n",
    "Bastard Keyboards:Charybdis (4x6) Splinky:1:            is_dragscroll_enabled=0\n",
    "Bastard Keyboards:Charybdis (4x6) Splinky:1:            is_sniping_enabled=0\n",
    "Bastard Keyboards:Charybdis (4x6) Splinky:1:            default_dpi=0x9 (2000)\n",
    "Bastard Keyboards:Charybdis (4x6) Splinky:1:            sniping_dpi=0x0 (100)\n",
    "Bastard Keyboards:Charybdis (4x6) Splinky:1:    }\n",
    "Bastard Keyboards:Charybdis (4x6) Splinky:1: }\n",
    "Bastard Keyboards:Charybdis (4x6) Splinky:1: MACCEL: DPI: 2000 min.t:    5 max.t:   20 max.d: 158.600 max.vin: 31.016 max.vsc: 31.016 max.a: 5.990386\n",
    "Bastard Keyboards:Charybdis (4x6) Splinky:1: MACCEL: DPI: 2000 min.t:    5 max.t:   16 max.d: 17.464 max.vin: 2.530 max.vsc: 2.530 max.a: 1.000605\n",
    "Bastard Keyboards:Charybdis (4x6) Splinky:1: MACCEL: DPI: 2000 min.t:    4 max.t:   20 max.d: 181.019 max.vin: 45.078 max.vsc: 45.078 max.a: 5.999714\n",
    "Bastard Keyboards:Charybdis (4x6) Splinky:1: MACCEL: DPI: 2000 min.t:    4 max.t:   51 max.d: 181.019 max.vin: 36.204 max.vsc: 36.204 max.a: 5.997372\n",
    "Bastard Keyboards:Charybdis (4x6) Splinky:1: (charybdis) process_record_kb: config = {\n",
    "Bastard Keyboards:Charybdis (4x6) Splinky:1:    raw = 0xA,\n",
    "Bastard Keyboards:Charybdis (4x6) Splinky:1:    {\n",
    "Bastard Keyboards:Charybdis (4x6) Splinky:1:            is_dragscroll_enabled=0\n",
    "Bastard Keyboards:Charybdis (4x6) Splinky:1:            is_sniping_enabled=0\n",
    "Bastard Keyboards:Charybdis (4x6) Splinky:1:            default_dpi=0xA (2200)\n",
    "Bastard Keyboards:Charybdis (4x6) Splinky:1:            sniping_dpi=0x0 (100)\n",
    "Bastard Keyboards:Charybdis (4x6) Splinky:1:    }\n",
    "Bastard Keyboards:Charybdis (4x6) Splinky:1: }\n",
    "Bastard Keyboards:Charybdis (4x6) Splinky:1: MACCEL: DPI: 2200 min.t:    4 max.t:   66 max.d: 131.735 max.vin: 26.347 max.vsc: 26.347 max.a: 5.969109\n",
    "Bastard Keyboards:Charybdis (4x6) Splinky:1: (charybdis) process_record_kb: config = {\n",
    "Bastard Keyboards:Charybdis (4x6) Splinky:1:    raw = 0xA,\n",
    "Bastard Keyboards:Charybdis (4x6) Splinky:1:    {\n",
    "Bastard Keyboards:Charybdis (4x6) Splinky:1:            is_dragscroll_enabled=0\n",
    "Bastard Keyboards:Charybdis (4x6) Splinky:1:            is_sniping_enabled=0\n",
    "Bastard Keyboards:Charybdis (4x6) Splinky:1:            default_dpi=0xA (2200)\n",
    "Bastard Keyboards:Charybdis (4x6) Splinky:1:            sniping_dpi=0x0 (100)\n",
    "Bastard Keyboards:Charybdis (4x6) Splinky:1:    }\n",
    "Bastard Keyboards:Charybdis (4x6) Splinky:1: }\n",
    "Bastard Keyboards:Charybdis (4x6) Splinky:1: (charybdis) process_record_kb: config = {\n",
    "Bastard Keyboards:Charybdis (4x6) Splinky:1:    raw = 0xB,\n",
    "Bastard Keyboards:Charybdis (4x6) Splinky:1:    {\n",
    "Bastard Keyboards:Charybdis (4x6) Splinky:1:            is_dragscroll_enabled=0\n",
    "Bastard Keyboards:Charybdis (4x6) Splinky:1:            is_sniping_enabled=0\n",
    "Bastard Keyboards:Charybdis (4x6) Splinky:1:            default_dpi=0xB (2400)\n",
    "Bastard Keyboards:Charybdis (4x6) Splinky:1:            sniping_dpi=0x0 (100)\n",
    "Bastard Keyboards:Charybdis (4x6) Splinky:1:    }\n",
    "Bastard Keyboards:Charybdis (4x6) Splinky:1: }\n",
    "Bastard Keyboards:Charybdis (4x6) Splinky:1: (charybdis) process_record_kb: config = {\n",
    "Bastard Keyboards:Charybdis (4x6) Splinky:1:    raw = 0xB,\n",
    "Bastard Keyboards:Charybdis (4x6) Splinky:1:    {\n",
    "Bastard Keyboards:Charybdis (4x6) Splinky:1:            is_dragscroll_enabled=0\n",
    "Bastard Keyboards:Charybdis (4x6) Splinky:1:            is_sniping_enabled=0\n",
    "Bastard Keyboards:Charybdis (4x6) Splinky:1:            default_dpi=0xB (2400)\n",
    "Bastard Keyboards:Charybdis (4x6) Splinky:1:            sniping_dpi=0x0 (100)\n",
    "Bastard Keyboards:Charybdis (4x6) Splinky:1:    }\n",
    "Bastard Keyboards:Charybdis (4x6) Splinky:1: }\n",
    "Bastard Keyboards:Charybdis (4x6) Splinky:1: (charybdis) process_record_kb: config = {\n",
    "Bastard Keyboards:Charybdis (4x6) Splinky:1:    raw = 0xC,\n",
    "Bastard Keyboards:Charybdis (4x6) Splinky:1:    {\n",
    "Bastard Keyboards:Charybdis (4x6) Splinky:1:            is_dragscroll_enabled=0\n",
    "Bastard Keyboards:Charybdis (4x6) Splinky:1:            is_sniping_enabled=0\n",
    "Bastard Keyboards:Charybdis (4x6) Splinky:1:            default_dpi=0xC (2600)\n",
    "Bastard Keyboards:Charybdis (4x6) Splinky:1:            sniping_dpi=0x0 (100)\n",
    "Bastard Keyboards:Charybdis (4x6) Splinky:1:    }\n",
    "Bastard Keyboards:Charybdis (4x6) Splinky:1: }\n",
    "Bastard Keyboards:Charybdis (4x6) Splinky:1: (charybdis) process_record_kb: config = {\n",
    "Bastard Keyboards:Charybdis (4x6) Splinky:1:    raw = 0xC,\n",
    "Bastard Keyboards:Charybdis (4x6) Splinky:1:    {\n",
    "Bastard Keyboards:Charybdis (4x6) Splinky:1:            is_dragscroll_enabled=0\n",
    "Bastard Keyboards:Charybdis (4x6) Splinky:1:            is_sniping_enabled=0\n",
    "Bastard Keyboards:Charybdis (4x6) Splinky:1:            default_dpi=0xC (2600)\n",
    "Bastard Keyboards:Charybdis (4x6) Splinky:1:            sniping_dpi=0x0 (100)\n",
    "Bastard Keyboards:Charybdis (4x6) Splinky:1:    }\n",
    "Bastard Keyboards:Charybdis (4x6) Splinky:1: }\n",
    "Bastard Keyboards:Charybdis (4x6) Splinky:1: MACCEL: DPI: 2600 min.t:    5 max.t:   15 max.d: 1.414 max.vin: 0.200 max.vsc: 0.200 max.a: 1.000006\n",
    "Bastard Keyboards:Charybdis (4x6) Splinky:1: MACCEL: DPI: 2600 min.t:    4 max.t:   91 max.d: 180.314 max.vin: 45.078 max.vsc: 45.078 max.a: 5.999714\n",
    "Bastard Keyboards:Charybdis (4x6) Splinky:1: MACCEL: DPI: 2600 min.t:    5 max.t:   10 max.d: 102.883 max.vin: 20.577 max.vsc: 20.577 max.a: 5.869285\n",
    "Bastard Keyboards:Charybdis (4x6) Splinky:1: (charybdis) process_record_kb: config = {\n",
    "Bastard Keyboards:Charybdis (4x6) Splinky:1:    raw = 0xD,\n",
    "Bastard Keyboards:Charybdis (4x6) Splinky:1:    {\n",
    "Bastard Keyboards:Charybdis (4x6) Splinky:1:            is_dragscroll_enabled=0\n",
    "Bastard Keyboards:Charybdis (4x6) Splinky:1:            is_sniping_enabled=0\n",
    "Bastard Keyboards:Charybdis (4x6) Splinky:1:            default_dpi=0xD (2800)\n",
    "Bastard Keyboards:Charybdis (4x6) Splinky:1:            sniping_dpi=0x0 (100)\n",
    "Bastard Keyboards:Charybdis (4x6) Splinky:1:    }\n",
    "Bastard Keyboards:Charybdis (4x6) Splinky:1: }\n",
    "Bastard Keyboards:Charybdis (4x6) Splinky:1: (charybdis) process_record_kb: config = {\n",
    "Bastard Keyboards:Charybdis (4x6) Splinky:1:    raw = 0xD,\n",
    "Bastard Keyboards:Charybdis (4x6) Splinky:1:    {\n",
    "Bastard Keyboards:Charybdis (4x6) Splinky:1:            is_dragscroll_enabled=0\n",
    "Bastard Keyboards:Charybdis (4x6) Splinky:1:            is_sniping_enabled=0\n",
    "Bastard Keyboards:Charybdis (4x6) Splinky:1:            default_dpi=0xD (2800)\n",
    "Bastard Keyboards:Charybdis (4x6) Splinky:1:            sniping_dpi=0x0 (100)\n",
    "Bastard Keyboards:Charybdis (4x6) Splinky:1:    }\n",
    "Bastard Keyboards:Charybdis (4x6) Splinky:1: }\n",
    "Bastard Keyboards:Charybdis (4x6) Splinky:1: MACCEL: DPI: 2800 min.t:  651 max.t:    0 max.d: 2.236 max.vin: 0.003 max.vsc: 0.003 max.a: 1.000003\n",
    "Bastard Keyboards:Charybdis (4x6) Splinky:1: MACCEL: DPI: 2800 min.t:    4 max.t:   25 max.d: 18.439 max.vin: 4.070 max.vsc: 4.070 max.a: 1.013006\n",
    "Bastard Keyboards:Charybdis (4x6) Splinky:1: (charybdis) process_record_kb: config = {\n",
    "Bastard Keyboards:Charybdis (4x6) Splinky:1:    raw = 0xE,\n",
    "Bastard Keyboards:Charybdis (4x6) Splinky:1:    {\n",
    "Bastard Keyboards:Charybdis (4x6) Splinky:1:            is_dragscroll_enabled=0\n",
    "Bastard Keyboards:Charybdis (4x6) Splinky:1:            is_sniping_enabled=0\n",
    "Bastard Keyboards:Charybdis (4x6) Splinky:1:            default_dpi=0xE (3000)\n",
    "Bastard Keyboards:Charybdis (4x6) Splinky:1:            sniping_dpi=0x0 (100)\n",
    "Bastard Keyboards:Charybdis (4x6) Splinky:1:    }\n",
    "Bastard Keyboards:Charybdis (4x6) Splinky:1: }\n",
    "Bastard Keyboards:Charybdis (4x6) Splinky:1: (charybdis) process_record_kb: config = {\n",
    "Bastard Keyboards:Charybdis (4x6) Splinky:1:    raw = 0xE,\n",
    "Bastard Keyboards:Charybdis (4x6) Splinky:1:    {\n",
    "Bastard Keyboards:Charybdis (4x6) Splinky:1:            is_dragscroll_enabled=0\n",
    "Bastard Keyboards:Charybdis (4x6) Splinky:1:            is_sniping_enabled=0\n",
    "Bastard Keyboards:Charybdis (4x6) Splinky:1:            default_dpi=0xE (3000)\n",
    "Bastard Keyboards:Charybdis (4x6) Splinky:1:            sniping_dpi=0x0 (100)\n",
    "Bastard Keyboards:Charybdis (4x6) Splinky:1:    }\n",
    "Bastard Keyboards:Charybdis (4x6) Splinky:1: }\n",
    "Bastard Keyboards:Charybdis (4x6) Splinky:1: MACCEL: DPI: 3000 min.t: 2020 max.t:    0 max.d: 1.000 max.vin: 0.000 max.vsc: 0.000 max.a: 1.000003\n",
    "Bastard Keyboards:Charybdis (4x6) Splinky:1: MACCEL: DPI: 3000 min.t:    5 max.t:   15 max.d: 92.455 max.vin: 5.000 max.vsc: 5.000 max.a: 1.078704\n",
    "Bastard Keyboards:Charybdis (4x6) Splinky:1: MACCEL: DPI: 3000 min.t:    4 max.t:   45 max.d: 180.314 max.vin: 36.063 max.vsc: 36.063 max.a: 5.997278\n",
    "Bastard Keyboards:Charybdis (4x6) Splinky:1: MACCEL: DPI: 3000 min.t:    5 max.t:   10 max.d: 180.314 max.vin: 36.063 max.vsc: 36.063 max.a: 5.997278\n",
    "Bastard Keyboards:Charybdis (4x6) Splinky:1: MACCEL: DPI: 3000 min.t:    5 max.t:   10 max.d: 50.000 max.vin: 9.235 max.vsc: 9.235 max.a: 3.773201\n",
    "Bastard Keyboards:Charybdis (4x6) Splinky:1: (charybdis) process_record_kb: config = {\n",
    "Bastard Keyboards:Charybdis (4x6) Splinky:1:    raw = 0xF,\n",
    "Bastard Keyboards:Charybdis (4x6) Splinky:1:    {\n",
    "Bastard Keyboards:Charybdis (4x6) Splinky:1:            is_dragscroll_enabled=0\n",
    "Bastard Keyboards:Charybdis (4x6) Splinky:1:            is_sniping_enabled=0\n",
    "Bastard Keyboards:Charybdis (4x6) Splinky:1:            default_dpi=0xF (3200)\n",
    "Bastard Keyboards:Charybdis (4x6) Splinky:1:            sniping_dpi=0x0 (100)\n",
    "Bastard Keyboards:Charybdis (4x6) Splinky:1:    }\n",
    "Bastard Keyboards:Charybdis (4x6) Splinky:1: }\n",
    "Bastard Keyboards:Charybdis (4x6) Splinky:1: MACCEL: DPI: 3200 min.t:    5 max.t:    9 max.d: 180.314 max.vin: 36.063 max.vsc: 36.063 max.a: 5.997278\n",
    "Bastard Keyboards:Charybdis (4x6) Splinky:1: (charybdis) process_record_kb: config = {\n",
    "Bastard Keyboards:Charybdis (4x6) Splinky:1:    raw = 0xF,\n",
    "Bastard Keyboards:Charybdis (4x6) Splinky:1:    {\n",
    "Bastard Keyboards:Charybdis (4x6) Splinky:1:            is_dragscroll_enabled=0\n",
    "Bastard Keyboards:Charybdis (4x6) Splinky:1:            is_sniping_enabled=0\n",
    "Bastard Keyboards:Charybdis (4x6) Splinky:1:            default_dpi=0xF (3200)\n",
    "Bastard Keyboards:Charybdis (4x6) Splinky:1:            sniping_dpi=0x0 (100)\n",
    "Bastard Keyboards:Charybdis (4x6) Splinky:1:    }\n",
    "Bastard Keyboards:Charybdis (4x6) Splinky:1: }\n",
    "Bastard Keyboards:Charybdis (4x6) Splinky:1: MACCEL: DPI: 3200 min.t: 1541 max.t:    0 max.d: 1.000 max.vin: 0.001 max.vsc: 0.001 max.a: 1.000003\n",
    "Bastard Keyboards:Charybdis (4x6) Splinky:1: MACCEL: DPI: 3200 min.t:    4 max.t:   10 max.d: 32.388 max.vin: 5.551 max.vsc: 5.551 max.a: 1.209051\n",
    "Bastard Keyboards:Charybdis (4x6) Splinky:1: MACCEL: DPI: 3200 min.t:    5 max.t:   15 max.d: 20.248 max.vin: 4.050 max.vsc: 4.050 max.a: 1.012502\n",
    "Bastard Keyboards:Charybdis (4x6) Splinky:1: MACCEL: DPI: 3200 min.t:    4 max.t:   10 max.d: 180.314 max.vin: 45.078 max.vsc: 45.078 max.a: 5.999714\n",
    "Bastard Keyboards:Charybdis (4x6) Splinky:1: MACCEL: DPI: 3200 min.t:    5 max.t:   10 max.d: 57.245 max.vin: 11.449 max.vsc: 11.449 max.a: 4.719589\n",
    "Bastard Keyboards:Charybdis (4x6) Splinky:1: MACCEL: DPI: 3200 min.t:    5 max.t:   10 max.d: 131.469 max.vin: 23.221 max.vsc: 23.221 max.a: 5.932507\n",
    "Bastard Keyboards:Charybdis (4x6) Splinky:1: MACCEL: DPI: 3200 min.t:    5 max.t:   10 max.d: 180.314 max.vin: 36.063 max.vsc: 36.063 max.a: 5.997278\n",
    "Bastard Keyboards:Charybdis (4x6) Splinky:1: MACCEL: DPI: 3200 min.t:    5 max.t:   10 max.d: 96.773 max.vin: 19.355 max.vsc: 19.355 max.a: 5.822575\n",
    "Bastard Keyboards:Charybdis (4x6) Splinky:1: MACCEL: DPI: 3200 min.t:    4 max.t:   10 max.d: 87.207 max.vin: 17.692 max.vsc: 17.692 max.a: 5.731126\n",
    "Bastard Keyboards:Charybdis (4x6) Splinky:1: MACCEL: DPI: 3200 min.t:    5 max.t:   10 max.d: 180.314 max.vin: 36.063 max.vsc: 36.063 max.a: 5.997278\n",
    "\"\"\""
   ],
   "outputs": [],
   "metadata": {}
  },
  {
   "cell_type": "code",
   "execution_count": 3,
   "source": [
    "cols = \"DPI T_min T_max D V_input V_scaled A_factor\".split()\n",
    "\n",
    "\n",
    "def parse_console(s):\n",
    "    regex = r\"MACCEL: DPI: +(\\d+) +min.t: +(\\d+) +max.t: +(\\d+) +max.d: +(\\d+\\.\\d+) +max.vin: +(\\d+\\.\\d+) +max.vsc: +(\\d+\\.\\d+) +max.a: +(\\d+\\.\\d+)\"\n",
    "    df = pd.DataFrame(\n",
    "        [\n",
    "            [\n",
    "                f(d)\n",
    "                for f, d in zip([int, int, int, float, float, float, float], m.groups())\n",
    "            ]\n",
    "            for m in re.finditer(regex, s)\n",
    "        ],\n",
    "        columns=cols,\n",
    "    )\n",
    "    return df.groupby(\"DPI\").max()\n",
    "\n",
    "\n",
    "df = parse_console(s)\n",
    "df"
   ],
   "outputs": [
    {
     "output_type": "execute_result",
     "data": {
      "text/html": [
       "<div>\n",
       "<style scoped>\n",
       "    .dataframe tbody tr th:only-of-type {\n",
       "        vertical-align: middle;\n",
       "    }\n",
       "\n",
       "    .dataframe tbody tr th {\n",
       "        vertical-align: top;\n",
       "    }\n",
       "\n",
       "    .dataframe thead th {\n",
       "        text-align: right;\n",
       "    }\n",
       "</style>\n",
       "<table border=\"1\" class=\"dataframe\">\n",
       "  <thead>\n",
       "    <tr style=\"text-align: right;\">\n",
       "      <th></th>\n",
       "      <th>T_min</th>\n",
       "      <th>T_max</th>\n",
       "      <th>D</th>\n",
       "      <th>V_input</th>\n",
       "      <th>V_scaled</th>\n",
       "      <th>A_factor</th>\n",
       "    </tr>\n",
       "    <tr>\n",
       "      <th>DPI</th>\n",
       "      <th></th>\n",
       "      <th></th>\n",
       "      <th></th>\n",
       "      <th></th>\n",
       "      <th></th>\n",
       "      <th></th>\n",
       "    </tr>\n",
       "  </thead>\n",
       "  <tbody>\n",
       "    <tr>\n",
       "      <th>200</th>\n",
       "      <td>10</td>\n",
       "      <td>91</td>\n",
       "      <td>63.253</td>\n",
       "      <td>12.651</td>\n",
       "      <td>12.651</td>\n",
       "      <td>5.051843</td>\n",
       "    </tr>\n",
       "    <tr>\n",
       "      <th>400</th>\n",
       "      <td>5</td>\n",
       "      <td>90</td>\n",
       "      <td>168.582</td>\n",
       "      <td>21.568</td>\n",
       "      <td>21.568</td>\n",
       "      <td>5.897966</td>\n",
       "    </tr>\n",
       "    <tr>\n",
       "      <th>600</th>\n",
       "      <td>5</td>\n",
       "      <td>15</td>\n",
       "      <td>180.314</td>\n",
       "      <td>36.063</td>\n",
       "      <td>36.063</td>\n",
       "      <td>5.997278</td>\n",
       "    </tr>\n",
       "    <tr>\n",
       "      <th>800</th>\n",
       "      <td>5</td>\n",
       "      <td>95</td>\n",
       "      <td>180.314</td>\n",
       "      <td>45.078</td>\n",
       "      <td>45.078</td>\n",
       "      <td>5.999714</td>\n",
       "    </tr>\n",
       "    <tr>\n",
       "      <th>1000</th>\n",
       "      <td>5</td>\n",
       "      <td>35</td>\n",
       "      <td>180.314</td>\n",
       "      <td>36.063</td>\n",
       "      <td>36.063</td>\n",
       "      <td>5.997278</td>\n",
       "    </tr>\n",
       "    <tr>\n",
       "      <th>1200</th>\n",
       "      <td>890</td>\n",
       "      <td>20</td>\n",
       "      <td>180.314</td>\n",
       "      <td>36.063</td>\n",
       "      <td>36.063</td>\n",
       "      <td>5.997278</td>\n",
       "    </tr>\n",
       "    <tr>\n",
       "      <th>1400</th>\n",
       "      <td>590</td>\n",
       "      <td>20</td>\n",
       "      <td>180.314</td>\n",
       "      <td>45.078</td>\n",
       "      <td>45.078</td>\n",
       "      <td>5.999714</td>\n",
       "    </tr>\n",
       "    <tr>\n",
       "      <th>2000</th>\n",
       "      <td>5</td>\n",
       "      <td>51</td>\n",
       "      <td>181.019</td>\n",
       "      <td>45.078</td>\n",
       "      <td>45.078</td>\n",
       "      <td>5.999714</td>\n",
       "    </tr>\n",
       "    <tr>\n",
       "      <th>2200</th>\n",
       "      <td>4</td>\n",
       "      <td>66</td>\n",
       "      <td>131.735</td>\n",
       "      <td>26.347</td>\n",
       "      <td>26.347</td>\n",
       "      <td>5.969109</td>\n",
       "    </tr>\n",
       "    <tr>\n",
       "      <th>2600</th>\n",
       "      <td>5</td>\n",
       "      <td>91</td>\n",
       "      <td>180.314</td>\n",
       "      <td>45.078</td>\n",
       "      <td>45.078</td>\n",
       "      <td>5.999714</td>\n",
       "    </tr>\n",
       "    <tr>\n",
       "      <th>2800</th>\n",
       "      <td>651</td>\n",
       "      <td>25</td>\n",
       "      <td>18.439</td>\n",
       "      <td>4.070</td>\n",
       "      <td>4.070</td>\n",
       "      <td>1.013006</td>\n",
       "    </tr>\n",
       "    <tr>\n",
       "      <th>3000</th>\n",
       "      <td>2020</td>\n",
       "      <td>45</td>\n",
       "      <td>180.314</td>\n",
       "      <td>36.063</td>\n",
       "      <td>36.063</td>\n",
       "      <td>5.997278</td>\n",
       "    </tr>\n",
       "    <tr>\n",
       "      <th>3200</th>\n",
       "      <td>1541</td>\n",
       "      <td>15</td>\n",
       "      <td>180.314</td>\n",
       "      <td>45.078</td>\n",
       "      <td>45.078</td>\n",
       "      <td>5.999714</td>\n",
       "    </tr>\n",
       "  </tbody>\n",
       "</table>\n",
       "</div>"
      ],
      "text/plain": [
       "      T_min  T_max        D  V_input  V_scaled  A_factor\n",
       "DPI                                                     \n",
       "200      10     91   63.253   12.651    12.651  5.051843\n",
       "400       5     90  168.582   21.568    21.568  5.897966\n",
       "600       5     15  180.314   36.063    36.063  5.997278\n",
       "800       5     95  180.314   45.078    45.078  5.999714\n",
       "1000      5     35  180.314   36.063    36.063  5.997278\n",
       "1200    890     20  180.314   36.063    36.063  5.997278\n",
       "1400    590     20  180.314   45.078    45.078  5.999714\n",
       "2000      5     51  181.019   45.078    45.078  5.999714\n",
       "2200      4     66  131.735   26.347    26.347  5.969109\n",
       "2600      5     91  180.314   45.078    45.078  5.999714\n",
       "2800    651     25   18.439    4.070     4.070  1.013006\n",
       "3000   2020     45  180.314   36.063    36.063  5.997278\n",
       "3200   1541     15  180.314   45.078    45.078  5.999714"
      ]
     },
     "metadata": {},
     "execution_count": 3
    }
   ],
   "metadata": {}
  },
  {
   "cell_type": "code",
   "execution_count": 4,
   "source": [
    "def plot(df):\n",
    "    from plotly.subplots import make_subplots\n",
    "\n",
    "    fig = make_subplots(\n",
    "        specs=[[{\"secondary_y\": True}]],\n",
    "        subplot_titles=\"max values\",\n",
    "        x_title=cols[0],\n",
    "        y_title=\"V, A\",\n",
    "    )\n",
    "\n",
    "    fig.add_trace(\n",
    "        go.Scattergl(\n",
    "            x=df.index,\n",
    "            y=df.iloc[:, 2],\n",
    "            name=cols[3],\n",
    "        ),\n",
    "        secondary_y=True,\n",
    "    )\n",
    "    fig.add_trace(\n",
    "        go.Scattergl(x=df.index, y=df.iloc[:, 3], name=cols[4]), secondary_y=False\n",
    "    )\n",
    "    # fig.add_trace(\n",
    "    #     go.Scattergl(x=df.index, y=df.iloc[:, 4], name=cols[5]), secondary_y=False\n",
    "    # )\n",
    "    # fig.add_trace(\n",
    "    #     go.Scattergl(x=df.index, y=df.iloc[:, 5], name=cols[6]), secondary_y=False\n",
    "    # )\n",
    "    fig.update_yaxes(title_text=\"D\", secondary_y=True)\n",
    "\n",
    "    return fig\n",
    "\n",
    "\n",
    "fig = plot(df)\n",
    "fig"
   ],
   "outputs": [
    {
     "output_type": "display_data",
     "data": {
      "application/vnd.plotly.v1+json": {
       "data": [
        {
         "name": "D",
         "x": [
          200,
          400,
          600,
          800,
          1000,
          1200,
          1400,
          2000,
          2200,
          2600,
          2800,
          3000,
          3200
         ],
         "y": [
          63.253,
          168.582,
          180.314,
          180.314,
          180.314,
          180.314,
          180.314,
          181.019,
          131.735,
          180.314,
          18.439,
          180.314,
          180.314
         ],
         "type": "scattergl",
         "xaxis": "x",
         "yaxis": "y2"
        },
        {
         "name": "V_input",
         "x": [
          200,
          400,
          600,
          800,
          1000,
          1200,
          1400,
          2000,
          2200,
          2600,
          2800,
          3000,
          3200
         ],
         "y": [
          12.651,
          21.568,
          36.063,
          45.078,
          36.063,
          36.063,
          45.078,
          45.078,
          26.347,
          45.078,
          4.07,
          36.063,
          45.078
         ],
         "type": "scattergl",
         "xaxis": "x",
         "yaxis": "y"
        }
       ],
       "layout": {
        "template": {
         "data": {
          "histogram2dcontour": [
           {
            "type": "histogram2dcontour",
            "colorbar": {
             "outlinewidth": 0,
             "ticks": ""
            },
            "colorscale": [
             [
              0,
              "#0d0887"
             ],
             [
              0.1111111111111111,
              "#46039f"
             ],
             [
              0.2222222222222222,
              "#7201a8"
             ],
             [
              0.3333333333333333,
              "#9c179e"
             ],
             [
              0.4444444444444444,
              "#bd3786"
             ],
             [
              0.5555555555555556,
              "#d8576b"
             ],
             [
              0.6666666666666666,
              "#ed7953"
             ],
             [
              0.7777777777777778,
              "#fb9f3a"
             ],
             [
              0.8888888888888888,
              "#fdca26"
             ],
             [
              1,
              "#f0f921"
             ]
            ]
           }
          ],
          "choropleth": [
           {
            "type": "choropleth",
            "colorbar": {
             "outlinewidth": 0,
             "ticks": ""
            }
           }
          ],
          "histogram2d": [
           {
            "type": "histogram2d",
            "colorbar": {
             "outlinewidth": 0,
             "ticks": ""
            },
            "colorscale": [
             [
              0,
              "#0d0887"
             ],
             [
              0.1111111111111111,
              "#46039f"
             ],
             [
              0.2222222222222222,
              "#7201a8"
             ],
             [
              0.3333333333333333,
              "#9c179e"
             ],
             [
              0.4444444444444444,
              "#bd3786"
             ],
             [
              0.5555555555555556,
              "#d8576b"
             ],
             [
              0.6666666666666666,
              "#ed7953"
             ],
             [
              0.7777777777777778,
              "#fb9f3a"
             ],
             [
              0.8888888888888888,
              "#fdca26"
             ],
             [
              1,
              "#f0f921"
             ]
            ]
           }
          ],
          "heatmap": [
           {
            "type": "heatmap",
            "colorbar": {
             "outlinewidth": 0,
             "ticks": ""
            },
            "colorscale": [
             [
              0,
              "#0d0887"
             ],
             [
              0.1111111111111111,
              "#46039f"
             ],
             [
              0.2222222222222222,
              "#7201a8"
             ],
             [
              0.3333333333333333,
              "#9c179e"
             ],
             [
              0.4444444444444444,
              "#bd3786"
             ],
             [
              0.5555555555555556,
              "#d8576b"
             ],
             [
              0.6666666666666666,
              "#ed7953"
             ],
             [
              0.7777777777777778,
              "#fb9f3a"
             ],
             [
              0.8888888888888888,
              "#fdca26"
             ],
             [
              1,
              "#f0f921"
             ]
            ]
           }
          ],
          "heatmapgl": [
           {
            "type": "heatmapgl",
            "colorbar": {
             "outlinewidth": 0,
             "ticks": ""
            },
            "colorscale": [
             [
              0,
              "#0d0887"
             ],
             [
              0.1111111111111111,
              "#46039f"
             ],
             [
              0.2222222222222222,
              "#7201a8"
             ],
             [
              0.3333333333333333,
              "#9c179e"
             ],
             [
              0.4444444444444444,
              "#bd3786"
             ],
             [
              0.5555555555555556,
              "#d8576b"
             ],
             [
              0.6666666666666666,
              "#ed7953"
             ],
             [
              0.7777777777777778,
              "#fb9f3a"
             ],
             [
              0.8888888888888888,
              "#fdca26"
             ],
             [
              1,
              "#f0f921"
             ]
            ]
           }
          ],
          "contourcarpet": [
           {
            "type": "contourcarpet",
            "colorbar": {
             "outlinewidth": 0,
             "ticks": ""
            }
           }
          ],
          "contour": [
           {
            "type": "contour",
            "colorbar": {
             "outlinewidth": 0,
             "ticks": ""
            },
            "colorscale": [
             [
              0,
              "#0d0887"
             ],
             [
              0.1111111111111111,
              "#46039f"
             ],
             [
              0.2222222222222222,
              "#7201a8"
             ],
             [
              0.3333333333333333,
              "#9c179e"
             ],
             [
              0.4444444444444444,
              "#bd3786"
             ],
             [
              0.5555555555555556,
              "#d8576b"
             ],
             [
              0.6666666666666666,
              "#ed7953"
             ],
             [
              0.7777777777777778,
              "#fb9f3a"
             ],
             [
              0.8888888888888888,
              "#fdca26"
             ],
             [
              1,
              "#f0f921"
             ]
            ]
           }
          ],
          "surface": [
           {
            "type": "surface",
            "colorbar": {
             "outlinewidth": 0,
             "ticks": ""
            },
            "colorscale": [
             [
              0,
              "#0d0887"
             ],
             [
              0.1111111111111111,
              "#46039f"
             ],
             [
              0.2222222222222222,
              "#7201a8"
             ],
             [
              0.3333333333333333,
              "#9c179e"
             ],
             [
              0.4444444444444444,
              "#bd3786"
             ],
             [
              0.5555555555555556,
              "#d8576b"
             ],
             [
              0.6666666666666666,
              "#ed7953"
             ],
             [
              0.7777777777777778,
              "#fb9f3a"
             ],
             [
              0.8888888888888888,
              "#fdca26"
             ],
             [
              1,
              "#f0f921"
             ]
            ]
           }
          ],
          "mesh3d": [
           {
            "type": "mesh3d",
            "colorbar": {
             "outlinewidth": 0,
             "ticks": ""
            }
           }
          ],
          "scatter": [
           {
            "fillpattern": {
             "fillmode": "overlay",
             "size": 10,
             "solidity": 0.2
            },
            "type": "scatter"
           }
          ],
          "parcoords": [
           {
            "type": "parcoords",
            "line": {
             "colorbar": {
              "outlinewidth": 0,
              "ticks": ""
             }
            }
           }
          ],
          "scatterpolargl": [
           {
            "type": "scatterpolargl",
            "marker": {
             "colorbar": {
              "outlinewidth": 0,
              "ticks": ""
             }
            }
           }
          ],
          "bar": [
           {
            "error_x": {
             "color": "#2a3f5f"
            },
            "error_y": {
             "color": "#2a3f5f"
            },
            "marker": {
             "line": {
              "color": "#E5ECF6",
              "width": 0.5
             },
             "pattern": {
              "fillmode": "overlay",
              "size": 10,
              "solidity": 0.2
             }
            },
            "type": "bar"
           }
          ],
          "scattergeo": [
           {
            "type": "scattergeo",
            "marker": {
             "colorbar": {
              "outlinewidth": 0,
              "ticks": ""
             }
            }
           }
          ],
          "scatterpolar": [
           {
            "type": "scatterpolar",
            "marker": {
             "colorbar": {
              "outlinewidth": 0,
              "ticks": ""
             }
            }
           }
          ],
          "histogram": [
           {
            "marker": {
             "pattern": {
              "fillmode": "overlay",
              "size": 10,
              "solidity": 0.2
             }
            },
            "type": "histogram"
           }
          ],
          "scattergl": [
           {
            "type": "scattergl",
            "marker": {
             "colorbar": {
              "outlinewidth": 0,
              "ticks": ""
             }
            }
           }
          ],
          "scatter3d": [
           {
            "type": "scatter3d",
            "line": {
             "colorbar": {
              "outlinewidth": 0,
              "ticks": ""
             }
            },
            "marker": {
             "colorbar": {
              "outlinewidth": 0,
              "ticks": ""
             }
            }
           }
          ],
          "scattermapbox": [
           {
            "type": "scattermapbox",
            "marker": {
             "colorbar": {
              "outlinewidth": 0,
              "ticks": ""
             }
            }
           }
          ],
          "scatterternary": [
           {
            "type": "scatterternary",
            "marker": {
             "colorbar": {
              "outlinewidth": 0,
              "ticks": ""
             }
            }
           }
          ],
          "scattercarpet": [
           {
            "type": "scattercarpet",
            "marker": {
             "colorbar": {
              "outlinewidth": 0,
              "ticks": ""
             }
            }
           }
          ],
          "carpet": [
           {
            "aaxis": {
             "endlinecolor": "#2a3f5f",
             "gridcolor": "white",
             "linecolor": "white",
             "minorgridcolor": "white",
             "startlinecolor": "#2a3f5f"
            },
            "baxis": {
             "endlinecolor": "#2a3f5f",
             "gridcolor": "white",
             "linecolor": "white",
             "minorgridcolor": "white",
             "startlinecolor": "#2a3f5f"
            },
            "type": "carpet"
           }
          ],
          "table": [
           {
            "cells": {
             "fill": {
              "color": "#EBF0F8"
             },
             "line": {
              "color": "white"
             }
            },
            "header": {
             "fill": {
              "color": "#C8D4E3"
             },
             "line": {
              "color": "white"
             }
            },
            "type": "table"
           }
          ],
          "barpolar": [
           {
            "marker": {
             "line": {
              "color": "#E5ECF6",
              "width": 0.5
             },
             "pattern": {
              "fillmode": "overlay",
              "size": 10,
              "solidity": 0.2
             }
            },
            "type": "barpolar"
           }
          ],
          "pie": [
           {
            "automargin": true,
            "type": "pie"
           }
          ]
         },
         "layout": {
          "autotypenumbers": "strict",
          "colorway": [
           "#636efa",
           "#EF553B",
           "#00cc96",
           "#ab63fa",
           "#FFA15A",
           "#19d3f3",
           "#FF6692",
           "#B6E880",
           "#FF97FF",
           "#FECB52"
          ],
          "font": {
           "color": "#2a3f5f"
          },
          "hovermode": "closest",
          "hoverlabel": {
           "align": "left"
          },
          "paper_bgcolor": "white",
          "plot_bgcolor": "#E5ECF6",
          "polar": {
           "bgcolor": "#E5ECF6",
           "angularaxis": {
            "gridcolor": "white",
            "linecolor": "white",
            "ticks": ""
           },
           "radialaxis": {
            "gridcolor": "white",
            "linecolor": "white",
            "ticks": ""
           }
          },
          "ternary": {
           "bgcolor": "#E5ECF6",
           "aaxis": {
            "gridcolor": "white",
            "linecolor": "white",
            "ticks": ""
           },
           "baxis": {
            "gridcolor": "white",
            "linecolor": "white",
            "ticks": ""
           },
           "caxis": {
            "gridcolor": "white",
            "linecolor": "white",
            "ticks": ""
           }
          },
          "coloraxis": {
           "colorbar": {
            "outlinewidth": 0,
            "ticks": ""
           }
          },
          "colorscale": {
           "sequential": [
            [
             0,
             "#0d0887"
            ],
            [
             0.1111111111111111,
             "#46039f"
            ],
            [
             0.2222222222222222,
             "#7201a8"
            ],
            [
             0.3333333333333333,
             "#9c179e"
            ],
            [
             0.4444444444444444,
             "#bd3786"
            ],
            [
             0.5555555555555556,
             "#d8576b"
            ],
            [
             0.6666666666666666,
             "#ed7953"
            ],
            [
             0.7777777777777778,
             "#fb9f3a"
            ],
            [
             0.8888888888888888,
             "#fdca26"
            ],
            [
             1,
             "#f0f921"
            ]
           ],
           "sequentialminus": [
            [
             0,
             "#0d0887"
            ],
            [
             0.1111111111111111,
             "#46039f"
            ],
            [
             0.2222222222222222,
             "#7201a8"
            ],
            [
             0.3333333333333333,
             "#9c179e"
            ],
            [
             0.4444444444444444,
             "#bd3786"
            ],
            [
             0.5555555555555556,
             "#d8576b"
            ],
            [
             0.6666666666666666,
             "#ed7953"
            ],
            [
             0.7777777777777778,
             "#fb9f3a"
            ],
            [
             0.8888888888888888,
             "#fdca26"
            ],
            [
             1,
             "#f0f921"
            ]
           ],
           "diverging": [
            [
             0,
             "#8e0152"
            ],
            [
             0.1,
             "#c51b7d"
            ],
            [
             0.2,
             "#de77ae"
            ],
            [
             0.3,
             "#f1b6da"
            ],
            [
             0.4,
             "#fde0ef"
            ],
            [
             0.5,
             "#f7f7f7"
            ],
            [
             0.6,
             "#e6f5d0"
            ],
            [
             0.7,
             "#b8e186"
            ],
            [
             0.8,
             "#7fbc41"
            ],
            [
             0.9,
             "#4d9221"
            ],
            [
             1,
             "#276419"
            ]
           ]
          },
          "xaxis": {
           "gridcolor": "white",
           "linecolor": "white",
           "ticks": "",
           "title": {
            "standoff": 15
           },
           "zerolinecolor": "white",
           "automargin": true,
           "zerolinewidth": 2
          },
          "yaxis": {
           "gridcolor": "white",
           "linecolor": "white",
           "ticks": "",
           "title": {
            "standoff": 15
           },
           "zerolinecolor": "white",
           "automargin": true,
           "zerolinewidth": 2
          },
          "scene": {
           "xaxis": {
            "backgroundcolor": "#E5ECF6",
            "gridcolor": "white",
            "linecolor": "white",
            "showbackground": true,
            "ticks": "",
            "zerolinecolor": "white",
            "gridwidth": 2
           },
           "yaxis": {
            "backgroundcolor": "#E5ECF6",
            "gridcolor": "white",
            "linecolor": "white",
            "showbackground": true,
            "ticks": "",
            "zerolinecolor": "white",
            "gridwidth": 2
           },
           "zaxis": {
            "backgroundcolor": "#E5ECF6",
            "gridcolor": "white",
            "linecolor": "white",
            "showbackground": true,
            "ticks": "",
            "zerolinecolor": "white",
            "gridwidth": 2
           }
          },
          "shapedefaults": {
           "line": {
            "color": "#2a3f5f"
           }
          },
          "annotationdefaults": {
           "arrowcolor": "#2a3f5f",
           "arrowhead": 0,
           "arrowwidth": 1
          },
          "geo": {
           "bgcolor": "white",
           "landcolor": "#E5ECF6",
           "subunitcolor": "white",
           "showland": true,
           "showlakes": true,
           "lakecolor": "white"
          },
          "title": {
           "x": 0.05
          },
          "mapbox": {
           "style": "light"
          }
         }
        },
        "xaxis": {
         "anchor": "y",
         "domain": [
          0,
          0.94
         ]
        },
        "yaxis": {
         "anchor": "x",
         "domain": [
          0,
          1
         ]
        },
        "yaxis2": {
         "anchor": "x",
         "overlaying": "y",
         "side": "right",
         "title": {
          "text": "D"
         }
        },
        "annotations": [
         {
          "font": {
           "size": 16
          },
          "showarrow": false,
          "text": "m",
          "x": 0.47,
          "xanchor": "center",
          "xref": "paper",
          "y": 1,
          "yanchor": "bottom",
          "yref": "paper"
         },
         {
          "font": {
           "size": 16
          },
          "showarrow": false,
          "text": "DPI",
          "x": 0.47,
          "xanchor": "center",
          "xref": "paper",
          "y": 0,
          "yanchor": "top",
          "yref": "paper",
          "yshift": -30
         },
         {
          "font": {
           "size": 16
          },
          "showarrow": false,
          "text": "V, A",
          "textangle": -90,
          "x": 0,
          "xanchor": "right",
          "xref": "paper",
          "xshift": -40,
          "y": 0.5,
          "yanchor": "middle",
          "yref": "paper"
         }
        ]
       },
       "config": {
        "plotlyServerURL": "https://plot.ly"
       }
      }
     },
     "metadata": {}
    }
   ],
   "metadata": {}
  },
  {
   "cell_type": "code",
   "execution_count": 5,
   "source": [
    "# Generate static diagrag for GitHub: https://plotly.com/python/static-image-export/\n",
    "fig.show(\"png\")\n",
    "\n",
    "# Obviously PWV3360 clips at distnance=180"
   ],
   "outputs": [
    {
     "output_type": "display_data",
     "data": {
      "image/png": "[encoded data removed]"
     },
     "metadata": {}
    }
   ],
   "metadata": {}
  },
  {
   "cell_type": "code",
   "execution_count": 6,
   "source": [
    "# SLOW velodity\n",
    "s = \"\"\"\n",
    "Looking for devices...\n",
    "Ψ Console Connected: Bastard Keyboards Charybdis (4x6) Splinky (A8F8:1833:1)\n",
    "Bastard Keyboards:Charybdis (4x6) Splinky:1: MACCEL: DPI:  600 min.t:    5 max.t:   10 max.d: 3.162 max.vin: 0.632 max.vsc: 0.632 max.a: 1.000014\n",
    "Bastard Keyboards:Charybdis (4x6) Splinky:1: (charybdis) process_record_kb: config = {\n",
    "Bastard Keyboards:Charybdis (4x6) Splinky:1:    raw = 0x3,\n",
    "Bastard Keyboards:Charybdis (4x6) Splinky:1:    {\n",
    "Bastard Keyboards:Charybdis (4x6) Splinky:1:            is_dragscroll_enabled=0\n",
    "Bastard Keyboards:Charybdis (4x6) Splinky:1:            is_sniping_enabled=0\n",
    "Bastard Keyboards:Charybdis (4x6) Splinky:1:            default_dpi=0x3 (800)\n",
    "Bastard Keyboards:Charybdis (4x6) Splinky:1:            sniping_dpi=0x0 (100)\n",
    "Bastard Keyboards:Charybdis (4x6) Splinky:1:    }\n",
    "Bastard Keyboards:Charybdis (4x6) Splinky:1: }\n",
    "Bastard Keyboards:Charybdis (4x6) Splinky:1: (charybdis) process_record_kb: config = {\n",
    "Bastard Keyboards:Charybdis (4x6) Splinky:1:    raw = 0x3,\n",
    "Bastard Keyboards:Charybdis (4x6) Splinky:1:    {\n",
    "Bastard Keyboards:Charybdis (4x6) Splinky:1:            is_dragscroll_enabled=0\n",
    "Bastard Keyboards:Charybdis (4x6) Splinky:1:            is_sniping_enabled=0\n",
    "Bastard Keyboards:Charybdis (4x6) Splinky:1:            default_dpi=0x3 (800)\n",
    "Bastard Keyboards:Charybdis (4x6) Splinky:1:            sniping_dpi=0x0 (100)\n",
    "Bastard Keyboards:Charybdis (4x6) Splinky:1:    }\n",
    "Bastard Keyboards:Charybdis (4x6) Splinky:1: }\n",
    "Bastard Keyboards:Charybdis (4x6) Splinky:1: (charybdis) process_record_kb: config = {\n",
    "Bastard Keyboards:Charybdis (4x6) Splinky:1:    raw = 0x2,\n",
    "Bastard Keyboards:Charybdis (4x6) Splinky:1:    {\n",
    "Bastard Keyboards:Charybdis (4x6) Splinky:1:            is_dragscroll_enabled=0\n",
    "Bastard Keyboards:Charybdis (4x6) Splinky:1:            is_sniping_enabled=0\n",
    "Bastard Keyboards:Charybdis (4x6) Splinky:1:            default_dpi=0x2 (600)\n",
    "Bastard Keyboards:Charybdis (4x6) Splinky:1:            sniping_dpi=0x0 (100)\n",
    "Bastard Keyboards:Charybdis (4x6) Splinky:1:    }\n",
    "Bastard Keyboards:Charybdis (4x6) Splinky:1: }\n",
    "Bastard Keyboards:Charybdis (4x6) Splinky:1: (charybdis) process_record_kb: config = {\n",
    "Bastard Keyboards:Charybdis (4x6) Splinky:1:    raw = 0x2,\n",
    "Bastard Keyboards:Charybdis (4x6) Splinky:1:    {\n",
    "Bastard Keyboards:Charybdis (4x6) Splinky:1:            is_dragscroll_enabled=0\n",
    "Bastard Keyboards:Charybdis (4x6) Splinky:1:            is_sniping_enabled=0\n",
    "Bastard Keyboards:Charybdis (4x6) Splinky:1:            default_dpi=0x2 (600)\n",
    "Bastard Keyboards:Charybdis (4x6) Splinky:1:            sniping_dpi=0x0 (100)\n",
    "Bastard Keyboards:Charybdis (4x6) Splinky:1:    }\n",
    "Bastard Keyboards:Charybdis (4x6) Splinky:1: }\n",
    "Bastard Keyboards:Charybdis (4x6) Splinky:1: (charybdis) process_record_kb: config = {\n",
    "Bastard Keyboards:Charybdis (4x6) Splinky:1:    raw = 0x1,\n",
    "Bastard Keyboards:Charybdis (4x6) Splinky:1:    {\n",
    "Bastard Keyboards:Charybdis (4x6) Splinky:1:            is_dragscroll_enabled=0\n",
    "Bastard Keyboards:Charybdis (4x6) Splinky:1:            is_sniping_enabled=0\n",
    "Bastard Keyboards:Charybdis (4x6) Splinky:1:            default_dpi=0x1 (400)\n",
    "Bastard Keyboards:Charybdis (4x6) Splinky:1:            sniping_dpi=0x0 (100)\n",
    "Bastard Keyboards:Charybdis (4x6) Splinky:1:    }\n",
    "Bastard Keyboards:Charybdis (4x6) Splinky:1: }\n",
    "Bastard Keyboards:Charybdis (4x6) Splinky:1: (charybdis) process_record_kb: config = {\n",
    "Bastard Keyboards:Charybdis (4x6) Splinky:1:    raw = 0x1,\n",
    "Bastard Keyboards:Charybdis (4x6) Splinky:1:    {\n",
    "Bastard Keyboards:Charybdis (4x6) Splinky:1:            is_dragscroll_enabled=0\n",
    "Bastard Keyboards:Charybdis (4x6) Splinky:1:            is_sniping_enabled=0\n",
    "Bastard Keyboards:Charybdis (4x6) Splinky:1:            default_dpi=0x1 (400)\n",
    "Bastard Keyboards:Charybdis (4x6) Splinky:1:            sniping_dpi=0x0 (100)\n",
    "Bastard Keyboards:Charybdis (4x6) Splinky:1:    }\n",
    "Bastard Keyboards:Charybdis (4x6) Splinky:1: }\n",
    "Bastard Keyboards:Charybdis (4x6) Splinky:1: (charybdis) process_record_kb: config = {\n",
    "Bastard Keyboards:Charybdis (4x6) Splinky:1:    raw = 0x0,\n",
    "Bastard Keyboards:Charybdis (4x6) Splinky:1:    {\n",
    "Bastard Keyboards:Charybdis (4x6) Splinky:1:            is_dragscroll_enabled=0\n",
    "Bastard Keyboards:Charybdis (4x6) Splinky:1:            is_sniping_enabled=0\n",
    "Bastard Keyboards:Charybdis (4x6) Splinky:1:            default_dpi=0x0 (200)\n",
    "Bastard Keyboards:Charybdis (4x6) Splinky:1:            sniping_dpi=0x0 (100)\n",
    "Bastard Keyboards:Charybdis (4x6) Splinky:1:    }\n",
    "Bastard Keyboards:Charybdis (4x6) Splinky:1: }\n",
    "Bastard Keyboards:Charybdis (4x6) Splinky:1: (charybdis) process_record_kb: config = {\n",
    "Bastard Keyboards:Charybdis (4x6) Splinky:1:    raw = 0x0,\n",
    "Bastard Keyboards:Charybdis (4x6) Splinky:1:    {\n",
    "Bastard Keyboards:Charybdis (4x6) Splinky:1:            is_dragscroll_enabled=0\n",
    "Bastard Keyboards:Charybdis (4x6) Splinky:1:            is_sniping_enabled=0\n",
    "Bastard Keyboards:Charybdis (4x6) Splinky:1:            default_dpi=0x0 (200)\n",
    "Bastard Keyboards:Charybdis (4x6) Splinky:1:            sniping_dpi=0x0 (100)\n",
    "Bastard Keyboards:Charybdis (4x6) Splinky:1:    }\n",
    "Bastard Keyboards:Charybdis (4x6) Splinky:1: }\n",
    "Bastard Keyboards:Charybdis (4x6) Splinky:1: MACCEL: DPI:  200 min.t:    5 max.t:   10 max.d: 2.000 max.vin: 0.400 max.vsc: 0.400 max.a: 1.000008\n",
    "Bastard Keyboards:Charybdis (4x6) Splinky:1: MACCEL: DPI:  200 min.t:    4 max.t:   91 max.d: 2.236 max.vin: 0.447 max.vsc: 0.447 max.a: 1.000010\n",
    "^[[5~Bastard Keyboards:Charybdis (4x6) Splinky:1: (charybdis) process_record_kb: config = {\n",
    "Bastard Keyboards:Charybdis (4x6) Splinky:1:    raw = 0x1,\n",
    "Bastard Keyboards:Charybdis (4x6) Splinky:1:    {\n",
    "Bastard Keyboards:Charybdis (4x6) Splinky:1:            is_dragscroll_enabled=0\n",
    "Bastard Keyboards:Charybdis (4x6) Splinky:1:            is_sniping_enabled=0\n",
    "Bastard Keyboards:Charybdis (4x6) Splinky:1:            default_dpi=0x1 (400)\n",
    "Bastard Keyboards:Charybdis (4x6) Splinky:1:            sniping_dpi=0x0 (100)\n",
    "Bastard Keyboards:Charybdis (4x6) Splinky:1:    }\n",
    "Bastard Keyboards:Charybdis (4x6) Splinky:1: }\n",
    "Bastard Keyboards:Charybdis (4x6) Splinky:1: (charybdis) process_record_kb: config = {\n",
    "Bastard Keyboards:Charybdis (4x6) Splinky:1:    raw = 0x1,\n",
    "Bastard Keyboards:Charybdis (4x6) Splinky:1:    {\n",
    "Bastard Keyboards:Charybdis (4x6) Splinky:1:            is_dragscroll_enabled=0\n",
    "Bastard Keyboards:Charybdis (4x6) Splinky:1:            is_sniping_enabled=0\n",
    "Bastard Keyboards:Charybdis (4x6) Splinky:1:            default_dpi=0x1 (400)\n",
    "Bastard Keyboards:Charybdis (4x6) Splinky:1:            sniping_dpi=0x0 (100)\n",
    "Bastard Keyboards:Charybdis (4x6) Splinky:1:    }\n",
    "Bastard Keyboards:Charybdis (4x6) Splinky:1: }\n",
    "Bastard Keyboards:Charybdis (4x6) Splinky:1: MACCEL: DPI:  400 min.t:    5 max.t:   10 max.d: 2.236 max.vin: 0.447 max.vsc: 0.447 max.a: 1.000010\n",
    "Bastard Keyboards:Charybdis (4x6) Splinky:1: MACCEL: DPI:  400 min.t:    5 max.t:   23 max.d: 6.000 max.vin: 0.447 max.vsc: 0.447 max.a: 1.000010\n",
    "Bastard Keyboards:Charybdis (4x6) Splinky:1: (charybdis) process_record_kb: config = {\n",
    "Bastard Keyboards:Charybdis (4x6) Splinky:1:    raw = 0x2,\n",
    "Bastard Keyboards:Charybdis (4x6) Splinky:1:    {\n",
    "Bastard Keyboards:Charybdis (4x6) Splinky:1:            is_dragscroll_enabled=0\n",
    "Bastard Keyboards:Charybdis (4x6) Splinky:1:            is_sniping_enabled=0\n",
    "Bastard Keyboards:Charybdis (4x6) Splinky:1:            default_dpi=0x2 (600)\n",
    "Bastard Keyboards:Charybdis (4x6) Splinky:1:            sniping_dpi=0x0 (100)\n",
    "Bastard Keyboards:Charybdis (4x6) Splinky:1:    }\n",
    "Bastard Keyboards:Charybdis (4x6) Splinky:1: }\n",
    "Bastard Keyboards:Charybdis (4x6) Splinky:1: (charybdis) process_record_kb: config = {\n",
    "Bastard Keyboards:Charybdis (4x6) Splinky:1:    raw = 0x2,\n",
    "Bastard Keyboards:Charybdis (4x6) Splinky:1:    {\n",
    "Bastard Keyboards:Charybdis (4x6) Splinky:1:            is_dragscroll_enabled=0\n",
    "Bastard Keyboards:Charybdis (4x6) Splinky:1:            is_sniping_enabled=0\n",
    "Bastard Keyboards:Charybdis (4x6) Splinky:1:            default_dpi=0x2 (600)\n",
    "Bastard Keyboards:Charybdis (4x6) Splinky:1:            sniping_dpi=0x0 (100)\n",
    "Bastard Keyboards:Charybdis (4x6) Splinky:1:    }\n",
    "Bastard Keyboards:Charybdis (4x6) Splinky:1: }\n",
    "Bastard Keyboards:Charybdis (4x6) Splinky:1: MACCEL: DPI:  600 min.t:    4 max.t:   35 max.d: 2.236 max.vin: 0.447 max.vsc: 0.447 max.a: 1.000010\n",
    "Bastard Keyboards:Charybdis (4x6) Splinky:1: MACCEL: DPI:  600 min.t:    4 max.t:   11 max.d: 4.243 max.vin: 0.849 max.vsc: 0.849 max.a: 1.000021\n",
    "Bastard Keyboards:Charybdis (4x6) Splinky:1: (charybdis) process_record_kb: config = {\n",
    "Bastard Keyboards:Charybdis (4x6) Splinky:1:    raw = 0x3,\n",
    "Bastard Keyboards:Charybdis (4x6) Splinky:1:    {\n",
    "Bastard Keyboards:Charybdis (4x6) Splinky:1:            is_dragscroll_enabled=0\n",
    "Bastard Keyboards:Charybdis (4x6) Splinky:1:            is_sniping_enabled=0\n",
    "Bastard Keyboards:Charybdis (4x6) Splinky:1:            default_dpi=0x3 (800)\n",
    "Bastard Keyboards:Charybdis (4x6) Splinky:1:            sniping_dpi=0x0 (100)\n",
    "Bastard Keyboards:Charybdis (4x6) Splinky:1:    }\n",
    "Bastard Keyboards:Charybdis (4x6) Splinky:1: }\n",
    "Bastard Keyboards:Charybdis (4x6) Splinky:1: (charybdis) process_record_kb: config = {\n",
    "Bastard Keyboards:Charybdis (4x6) Splinky:1:    raw = 0x3,\n",
    "Bastard Keyboards:Charybdis (4x6) Splinky:1:    {\n",
    "Bastard Keyboards:Charybdis (4x6) Splinky:1:            is_dragscroll_enabled=0\n",
    "Bastard Keyboards:Charybdis (4x6) Splinky:1:            is_sniping_enabled=0\n",
    "Bastard Keyboards:Charybdis (4x6) Splinky:1:            default_dpi=0x3 (800)\n",
    "Bastard Keyboards:Charybdis (4x6) Splinky:1:            sniping_dpi=0x0 (100)\n",
    "Bastard Keyboards:Charybdis (4x6) Splinky:1:    }\n",
    "Bastard Keyboards:Charybdis (4x6) Splinky:1: }\n",
    "Bastard Keyboards:Charybdis (4x6) Splinky:1: MACCEL: DPI:  800 min.t:    4 max.t:   45 max.d: 5.000 max.vin: 0.632 max.vsc: 0.632 max.a: 1.000014\n",
    "Bastard Keyboards:Charybdis (4x6) Splinky:1: MACCEL: DPI:  800 min.t:    4 max.t:   20 max.d: 5.000 max.vin: 1.000 max.vsc: 1.000 max.a: 1.000029\n",
    "Bastard Keyboards:Charybdis (4x6) Splinky:1: MACCEL: DPI:  800 min.t:    4 max.t:   23 max.d: 13.601 max.vin: 0.825 max.vsc: 0.825 max.a: 1.000020\n",
    "Bastard Keyboards:Charybdis (4x6) Splinky:1: (charybdis) process_record_kb: config = {\n",
    "Bastard Keyboards:Charybdis (4x6) Splinky:1:    raw = 0x4,\n",
    "Bastard Keyboards:Charybdis (4x6) Splinky:1:    {\n",
    "Bastard Keyboards:Charybdis (4x6) Splinky:1:            is_dragscroll_enabled=0\n",
    "Bastard Keyboards:Charybdis (4x6) Splinky:1:            is_sniping_enabled=0\n",
    "Bastard Keyboards:Charybdis (4x6) Splinky:1:            default_dpi=0x4 (1000)\n",
    "Bastard Keyboards:Charybdis (4x6) Splinky:1:            sniping_dpi=0x0 (100)\n",
    "Bastard Keyboards:Charybdis (4x6) Splinky:1:    }\n",
    "Bastard Keyboards:Charybdis (4x6) Splinky:1: }\n",
    "Bastard Keyboards:Charybdis (4x6) Splinky:1: (charybdis) process_record_kb: config = {\n",
    "Bastard Keyboards:Charybdis (4x6) Splinky:1:    raw = 0x4,\n",
    "Bastard Keyboards:Charybdis (4x6) Splinky:1:    {\n",
    "Bastard Keyboards:Charybdis (4x6) Splinky:1:            is_dragscroll_enabled=0\n",
    "Bastard Keyboards:Charybdis (4x6) Splinky:1:            is_sniping_enabled=0\n",
    "Bastard Keyboards:Charybdis (4x6) Splinky:1:            default_dpi=0x4 (1000)\n",
    "Bastard Keyboards:Charybdis (4x6) Splinky:1:            sniping_dpi=0x0 (100)\n",
    "Bastard Keyboards:Charybdis (4x6) Splinky:1:    }\n",
    "Bastard Keyboards:Charybdis (4x6) Splinky:1: }\n",
    "Bastard Keyboards:Charybdis (4x6) Splinky:1: MACCEL: DPI: 1000 min.t:    4 max.t:   15 max.d: 4.123 max.vin: 0.825 max.vsc: 0.825 max.a: 1.000020\n",
    "Bastard Keyboards:Charybdis (4x6) Splinky:1: MACCEL: DPI: 1000 min.t:    4 max.t:   10 max.d: 4.123 max.vin: 0.901 max.vsc: 0.901 max.a: 1.000023\n",
    "Bastard Keyboards:Charybdis (4x6) Splinky:1: MACCEL: DPI: 1000 min.t:    4 max.t:   21 max.d: 3.162 max.vin: 0.632 max.vsc: 0.632 max.a: 1.000014\n",
    "Bastard Keyboards:Charybdis (4x6) Splinky:1: MACCEL: DPI: 1000 min.t:    4 max.t:   23 max.d: 14.036 max.vin: 1.344 max.vsc: 1.344 max.a: 1.000057\n",
    "Bastard Keyboards:Charybdis (4x6) Splinky:1: (charybdis) process_record_kb: config = {\n",
    "Bastard Keyboards:Charybdis (4x6) Splinky:1:    raw = 0x5,\n",
    "Bastard Keyboards:Charybdis (4x6) Splinky:1:    {\n",
    "Bastard Keyboards:Charybdis (4x6) Splinky:1:            is_dragscroll_enabled=0\n",
    "Bastard Keyboards:Charybdis (4x6) Splinky:1:            is_sniping_enabled=0\n",
    "Bastard Keyboards:Charybdis (4x6) Splinky:1:            default_dpi=0x5 (1200)\n",
    "Bastard Keyboards:Charybdis (4x6) Splinky:1:            sniping_dpi=0x0 (100)\n",
    "Bastard Keyboards:Charybdis (4x6) Splinky:1:    }\n",
    "Bastard Keyboards:Charybdis (4x6) Splinky:1: }\n",
    "Bastard Keyboards:Charybdis (4x6) Splinky:1: MACCEL: DPI: 1200 min.t:    4 max.t:   20 max.d: 3.162 max.vin: 0.632 max.vsc: 0.632 max.a: 1.000014\n",
    "Bastard Keyboards:Charybdis (4x6) Splinky:1: (charybdis) process_record_kb: config = {\n",
    "Bastard Keyboards:Charybdis (4x6) Splinky:1:    raw = 0x5,\n",
    "Bastard Keyboards:Charybdis (4x6) Splinky:1:    {\n",
    "Bastard Keyboards:Charybdis (4x6) Splinky:1:            is_dragscroll_enabled=0\n",
    "Bastard Keyboards:Charybdis (4x6) Splinky:1:            is_sniping_enabled=0\n",
    "Bastard Keyboards:Charybdis (4x6) Splinky:1:            default_dpi=0x5 (1200)\n",
    "Bastard Keyboards:Charybdis (4x6) Splinky:1:            sniping_dpi=0x0 (100)\n",
    "Bastard Keyboards:Charybdis (4x6) Splinky:1:    }\n",
    "Bastard Keyboards:Charybdis (4x6) Splinky:1: }\n",
    "Bastard Keyboards:Charybdis (4x6) Splinky:1: MACCEL: DPI: 1200 min.t: 1479 max.t:    0 max.d: 1.000 max.vin: 0.001 max.vsc: 0.001 max.a: 1.000003\n",
    "Bastard Keyboards:Charybdis (4x6) Splinky:1: MACCEL: DPI: 1200 min.t:    4 max.t:   60 max.d: 5.831 max.vin: 1.166 max.vsc: 1.166 max.a: 1.000039\n",
    "Bastard Keyboards:Charybdis (4x6) Splinky:1: MACCEL: DPI: 1200 min.t:    4 max.t:   15 max.d: 6.708 max.vin: 1.342 max.vsc: 1.342 max.a: 1.000056\n",
    "Bastard Keyboards:Charybdis (4x6) Splinky:1: MACCEL: DPI: 1200 min.t:    4 max.t:   46 max.d: 6.083 max.vin: 1.217 max.vsc: 1.217 max.a: 1.000043\n",
    "Bastard Keyboards:Charybdis (4x6) Splinky:1: (charybdis) process_record_kb: config = {\n",
    "Bastard Keyboards:Charybdis (4x6) Splinky:1:    raw = 0x6,\n",
    "Bastard Keyboards:Charybdis (4x6) Splinky:1:    {\n",
    "Bastard Keyboards:Charybdis (4x6) Splinky:1:            is_dragscroll_enabled=0\n",
    "Bastard Keyboards:Charybdis (4x6) Splinky:1:            is_sniping_enabled=0\n",
    "Bastard Keyboards:Charybdis (4x6) Splinky:1:            default_dpi=0x6 (1400)\n",
    "Bastard Keyboards:Charybdis (4x6) Splinky:1:            sniping_dpi=0x0 (100)\n",
    "Bastard Keyboards:Charybdis (4x6) Splinky:1:    }\n",
    "Bastard Keyboards:Charybdis (4x6) Splinky:1: }\n",
    "Bastard Keyboards:Charybdis (4x6) Splinky:1: (charybdis) process_record_kb: config = {\n",
    "Bastard Keyboards:Charybdis (4x6) Splinky:1:    raw = 0x6,\n",
    "Bastard Keyboards:Charybdis (4x6) Splinky:1:    {\n",
    "Bastard Keyboards:Charybdis (4x6) Splinky:1:            is_dragscroll_enabled=0\n",
    "Bastard Keyboards:Charybdis (4x6) Splinky:1:            is_sniping_enabled=0\n",
    "Bastard Keyboards:Charybdis (4x6) Splinky:1:            default_dpi=0x6 (1400)\n",
    "Bastard Keyboards:Charybdis (4x6) Splinky:1:            sniping_dpi=0x0 (100)\n",
    "Bastard Keyboards:Charybdis (4x6) Splinky:1:    }\n",
    "Bastard Keyboards:Charybdis (4x6) Splinky:1: }\n",
    "Bastard Keyboards:Charybdis (4x6) Splinky:1: (charybdis) process_record_kb: config = {\n",
    "Bastard Keyboards:Charybdis (4x6) Splinky:1:    raw = 0x7,\n",
    "Bastard Keyboards:Charybdis (4x6) Splinky:1:    {\n",
    "Bastard Keyboards:Charybdis (4x6) Splinky:1:            is_dragscroll_enabled=0\n",
    "Bastard Keyboards:Charybdis (4x6) Splinky:1:            is_sniping_enabled=0\n",
    "Bastard Keyboards:Charybdis (4x6) Splinky:1:            default_dpi=0x7 (1600)\n",
    "Bastard Keyboards:Charybdis (4x6) Splinky:1:            sniping_dpi=0x0 (100)\n",
    "Bastard Keyboards:Charybdis (4x6) Splinky:1:    }\n",
    "Bastard Keyboards:Charybdis (4x6) Splinky:1: }\n",
    "Bastard Keyboards:Charybdis (4x6) Splinky:1: (charybdis) process_record_kb: config = {\n",
    "Bastard Keyboards:Charybdis (4x6) Splinky:1:    raw = 0x7,\n",
    "Bastard Keyboards:Charybdis (4x6) Splinky:1:    {\n",
    "Bastard Keyboards:Charybdis (4x6) Splinky:1:            is_dragscroll_enabled=0\n",
    "Bastard Keyboards:Charybdis (4x6) Splinky:1:            is_sniping_enabled=0\n",
    "Bastard Keyboards:Charybdis (4x6) Splinky:1:            default_dpi=0x7 (1600)\n",
    "Bastard Keyboards:Charybdis (4x6) Splinky:1:            sniping_dpi=0x0 (100)\n",
    "Bastard Keyboards:Charybdis (4x6) Splinky:1:    }\n",
    "Bastard Keyboards:Charybdis (4x6) Splinky:1: }\n",
    "Bastard Keyboards:Charybdis (4x6) Splinky:1: (charybdis) process_record_kb: config = {\n",
    "Bastard Keyboards:Charybdis (4x6) Splinky:1:    raw = 0x8,\n",
    "Bastard Keyboards:Charybdis (4x6) Splinky:1:    {\n",
    "Bastard Keyboards:Charybdis (4x6) Splinky:1:            is_dragscroll_enabled=0\n",
    "Bastard Keyboards:Charybdis (4x6) Splinky:1:            is_sniping_enabled=0\n",
    "Bastard Keyboards:Charybdis (4x6) Splinky:1:            default_dpi=0x8 (1800)\n",
    "Bastard Keyboards:Charybdis (4x6) Splinky:1:            sniping_dpi=0x0 (100)\n",
    "Bastard Keyboards:Charybdis (4x6) Splinky:1:    }\n",
    "Bastard Keyboards:Charybdis (4x6) Splinky:1: }\n",
    "Bastard Keyboards:Charybdis (4x6) Splinky:1: (charybdis) process_record_kb: config = {\n",
    "Bastard Keyboards:Charybdis (4x6) Splinky:1:    raw = 0x8,\n",
    "Bastard Keyboards:Charybdis (4x6) Splinky:1:    {\n",
    "Bastard Keyboards:Charybdis (4x6) Splinky:1:            is_dragscroll_enabled=0\n",
    "Bastard Keyboards:Charybdis (4x6) Splinky:1:            is_sniping_enabled=0\n",
    "Bastard Keyboards:Charybdis (4x6) Splinky:1:            default_dpi=0x8 (1800)\n",
    "Bastard Keyboards:Charybdis (4x6) Splinky:1:            sniping_dpi=0x0 (100)\n",
    "Bastard Keyboards:Charybdis (4x6) Splinky:1:    }\n",
    "Bastard Keyboards:Charybdis (4x6) Splinky:1: }\n",
    "Bastard Keyboards:Charybdis (4x6) Splinky:1: (charybdis) process_record_kb: config = {\n",
    "Bastard Keyboards:Charybdis (4x6) Splinky:1:    raw = 0x9,\n",
    "Bastard Keyboards:Charybdis (4x6) Splinky:1:    {\n",
    "Bastard Keyboards:Charybdis (4x6) Splinky:1:            is_dragscroll_enabled=0\n",
    "Bastard Keyboards:Charybdis (4x6) Splinky:1:            is_sniping_enabled=0\n",
    "Bastard Keyboards:Charybdis (4x6) Splinky:1:            default_dpi=0x9 (2000)\n",
    "Bastard Keyboards:Charybdis (4x6) Splinky:1:            sniping_dpi=0x0 (100)\n",
    "Bastard Keyboards:Charybdis (4x6) Splinky:1:    }\n",
    "Bastard Keyboards:Charybdis (4x6) Splinky:1: }\n",
    "Bastard Keyboards:Charybdis (4x6) Splinky:1: (charybdis) process_record_kb: config = {\n",
    "Bastard Keyboards:Charybdis (4x6) Splinky:1:    raw = 0x9,\n",
    "Bastard Keyboards:Charybdis (4x6) Splinky:1:    {\n",
    "Bastard Keyboards:Charybdis (4x6) Splinky:1:            is_dragscroll_enabled=0\n",
    "Bastard Keyboards:Charybdis (4x6) Splinky:1:            is_sniping_enabled=0\n",
    "Bastard Keyboards:Charybdis (4x6) Splinky:1:            default_dpi=0x9 (2000)\n",
    "Bastard Keyboards:Charybdis (4x6) Splinky:1:            sniping_dpi=0x0 (100)\n",
    "Bastard Keyboards:Charybdis (4x6) Splinky:1:    }\n",
    "Bastard Keyboards:Charybdis (4x6) Splinky:1: }\n",
    "Bastard Keyboards:Charybdis (4x6) Splinky:1: MACCEL: DPI: 2000 min.t:    5 max.t:   90 max.d: 2.236 max.vin: 0.447 max.vsc: 0.447 max.a: 1.000010\n",
    "Bastard Keyboards:Charybdis (4x6) Splinky:1: MACCEL: DPI: 2000 min.t:    4 max.t:   55 max.d: 12.083 max.vin: 2.417 max.vsc: 2.417 max.a: 1.000482\n",
    "Bastard Keyboards:Charybdis (4x6) Splinky:1: MACCEL: DPI: 2000 min.t:    4 max.t:   10 max.d: 11.045 max.vin: 2.209 max.vsc: 2.209 max.a: 1.000318\n",
    "Bastard Keyboards:Charybdis (4x6) Splinky:1: (charybdis) process_record_kb: config = {\n",
    "Bastard Keyboards:Charybdis (4x6) Splinky:1:    raw = 0xA,\n",
    "Bastard Keyboards:Charybdis (4x6) Splinky:1:    {\n",
    "Bastard Keyboards:Charybdis (4x6) Splinky:1:            is_dragscroll_enabled=0\n",
    "Bastard Keyboards:Charybdis (4x6) Splinky:1:            is_sniping_enabled=0\n",
    "Bastard Keyboards:Charybdis (4x6) Splinky:1:            default_dpi=0xA (2200)\n",
    "Bastard Keyboards:Charybdis (4x6) Splinky:1:            sniping_dpi=0x0 (100)\n",
    "Bastard Keyboards:Charybdis (4x6) Splinky:1:    }\n",
    "Bastard Keyboards:Charybdis (4x6) Splinky:1: }\n",
    "Bastard Keyboards:Charybdis (4x6) Splinky:1: (charybdis) process_record_kb: config = {\n",
    "Bastard Keyboards:Charybdis (4x6) Splinky:1:    raw = 0xA,\n",
    "Bastard Keyboards:Charybdis (4x6) Splinky:1:    {\n",
    "Bastard Keyboards:Charybdis (4x6) Splinky:1:            is_dragscroll_enabled=0\n",
    "Bastard Keyboards:Charybdis (4x6) Splinky:1:            is_sniping_enabled=0\n",
    "Bastard Keyboards:Charybdis (4x6) Splinky:1:            default_dpi=0xA (2200)\n",
    "Bastard Keyboards:Charybdis (4x6) Splinky:1:            sniping_dpi=0x0 (100)\n",
    "Bastard Keyboards:Charybdis (4x6) Splinky:1:    }\n",
    "Bastard Keyboards:Charybdis (4x6) Splinky:1: }\n",
    "Bastard Keyboards:Charybdis (4x6) Splinky:1: (charybdis) process_record_kb: config = {\n",
    "Bastard Keyboards:Charybdis (4x6) Splinky:1:    raw = 0xB,\n",
    "Bastard Keyboards:Charybdis (4x6) Splinky:1:    {\n",
    "Bastard Keyboards:Charybdis (4x6) Splinky:1:            is_dragscroll_enabled=0\n",
    "Bastard Keyboards:Charybdis (4x6) Splinky:1:            is_sniping_enabled=0\n",
    "Bastard Keyboards:Charybdis (4x6) Splinky:1:            default_dpi=0xB (2400)\n",
    "Bastard Keyboards:Charybdis (4x6) Splinky:1:            sniping_dpi=0x0 (100)\n",
    "Bastard Keyboards:Charybdis (4x6) Splinky:1:    }\n",
    "Bastard Keyboards:Charybdis (4x6) Splinky:1: }\n",
    "Bastard Keyboards:Charybdis (4x6) Splinky:1: (charybdis) process_record_kb: config = {\n",
    "Bastard Keyboards:Charybdis (4x6) Splinky:1:    raw = 0xB,\n",
    "Bastard Keyboards:Charybdis (4x6) Splinky:1:    {\n",
    "Bastard Keyboards:Charybdis (4x6) Splinky:1:            is_dragscroll_enabled=0\n",
    "Bastard Keyboards:Charybdis (4x6) Splinky:1:            is_sniping_enabled=0\n",
    "Bastard Keyboards:Charybdis (4x6) Splinky:1:            default_dpi=0xB (2400)\n",
    "Bastard Keyboards:Charybdis (4x6) Splinky:1:            sniping_dpi=0x0 (100)\n",
    "Bastard Keyboards:Charybdis (4x6) Splinky:1:    }\n",
    "Bastard Keyboards:Charybdis (4x6) Splinky:1: }\n",
    "Bastard Keyboards:Charybdis (4x6) Splinky:1: MACCEL: DPI: 2400 min.t:    4 max.t:   24 max.d: 27.295 max.vin: 2.088 max.vsc: 2.088 max.a: 1.000250\n",
    "Bastard Keyboards:Charybdis (4x6) Splinky:1: MACCEL: DPI: 2400 min.t:    5 max.t:   65 max.d: 3.000 max.vin: 0.600 max.vsc: 0.600 max.a: 1.000012\n",
    "Bastard Keyboards:Charybdis (4x6) Splinky:1: MACCEL: DPI: 2400 min.t:    4 max.t:   23 max.d: 28.844 max.vin: 1.562 max.vsc: 1.562 max.a: 1.000087\n",
    "Bastard Keyboards:Charybdis (4x6) Splinky:1: MACCEL: DPI: 2400 min.t:    5 max.t:   10 max.d: 11.000 max.vin: 2.154 max.vsc: 2.154 max.a: 1.000286\n",
    "Bastard Keyboards:Charybdis (4x6) Splinky:1: MACCEL: DPI: 2400 min.t:    4 max.t:   20 max.d: 10.440 max.vin: 2.088 max.vsc: 2.088 max.a: 1.000250\n",
    "Bastard Keyboards:Charybdis (4x6) Splinky:1: MACCEL: DPI: 2400 min.t:    4 max.t:   10 max.d: 12.000 max.vin: 2.400 max.vsc: 2.400 max.a: 1.000467\n",
    "Bastard Keyboards:Charybdis (4x6) Splinky:1: (charybdis) process_record_kb: config = {\n",
    "Bastard Keyboards:Charybdis (4x6) Splinky:1:    raw = 0xC,\n",
    "Bastard Keyboards:Charybdis (4x6) Splinky:1:    {\n",
    "Bastard Keyboards:Charybdis (4x6) Splinky:1:            is_dragscroll_enabled=0\n",
    "Bastard Keyboards:Charybdis (4x6) Splinky:1:            is_sniping_enabled=0\n",
    "Bastard Keyboards:Charybdis (4x6) Splinky:1:            default_dpi=0xC (2600)\n",
    "Bastard Keyboards:Charybdis (4x6) Splinky:1:            sniping_dpi=0x0 (100)\n",
    "Bastard Keyboards:Charybdis (4x6) Splinky:1:    }\n",
    "Bastard Keyboards:Charybdis (4x6) Splinky:1: }\n",
    "Bastard Keyboards:Charybdis (4x6) Splinky:1: (charybdis) process_record_kb: config = {\n",
    "Bastard Keyboards:Charybdis (4x6) Splinky:1:    raw = 0xC,\n",
    "Bastard Keyboards:Charybdis (4x6) Splinky:1:    {\n",
    "Bastard Keyboards:Charybdis (4x6) Splinky:1:            is_dragscroll_enabled=0\n",
    "Bastard Keyboards:Charybdis (4x6) Splinky:1:            is_sniping_enabled=0\n",
    "Bastard Keyboards:Charybdis (4x6) Splinky:1:            default_dpi=0xC (2600)\n",
    "Bastard Keyboards:Charybdis (4x6) Splinky:1:            sniping_dpi=0x0 (100)\n",
    "Bastard Keyboards:Charybdis (4x6) Splinky:1:    }\n",
    "Bastard Keyboards:Charybdis (4x6) Splinky:1: }\n",
    "Bastard Keyboards:Charybdis (4x6) Splinky:1: MACCEL: DPI: 2600 min.t:    4 max.t:   35 max.d: 10.817 max.vin: 2.163 max.vsc: 2.163 max.a: 1.000291\n",
    "Bastard Keyboards:Charybdis (4x6) Splinky:1: (charybdis) process_record_kb: config = {\n",
    "Bastard Keyboards:Charybdis (4x6) Splinky:1:    raw = 0xD,\n",
    "Bastard Keyboards:Charybdis (4x6) Splinky:1:    {\n",
    "Bastard Keyboards:Charybdis (4x6) Splinky:1:            is_dragscroll_enabled=0\n",
    "Bastard Keyboards:Charybdis (4x6) Splinky:1:            is_sniping_enabled=0\n",
    "Bastard Keyboards:Charybdis (4x6) Splinky:1:            default_dpi=0xD (2800)\n",
    "Bastard Keyboards:Charybdis (4x6) Splinky:1:            sniping_dpi=0x0 (100)\n",
    "Bastard Keyboards:Charybdis (4x6) Splinky:1:    }\n",
    "Bastard Keyboards:Charybdis (4x6) Splinky:1: }\n",
    "Bastard Keyboards:Charybdis (4x6) Splinky:1: (charybdis) process_record_kb: config = {\n",
    "Bastard Keyboards:Charybdis (4x6) Splinky:1:    raw = 0xD,\n",
    "Bastard Keyboards:Charybdis (4x6) Splinky:1:    {\n",
    "Bastard Keyboards:Charybdis (4x6) Splinky:1:            is_dragscroll_enabled=0\n",
    "Bastard Keyboards:Charybdis (4x6) Splinky:1:            is_sniping_enabled=0\n",
    "Bastard Keyboards:Charybdis (4x6) Splinky:1:            default_dpi=0xD (2800)\n",
    "Bastard Keyboards:Charybdis (4x6) Splinky:1:            sniping_dpi=0x0 (100)\n",
    "Bastard Keyboards:Charybdis (4x6) Splinky:1:    }\n",
    "Bastard Keyboards:Charybdis (4x6) Splinky:1: }\n",
    "Bastard Keyboards:Charybdis (4x6) Splinky:1: (charybdis) process_record_kb: config = {\n",
    "Bastard Keyboards:Charybdis (4x6) Splinky:1:    raw = 0xE,\n",
    "Bastard Keyboards:Charybdis (4x6) Splinky:1:    {\n",
    "Bastard Keyboards:Charybdis (4x6) Splinky:1:            is_dragscroll_enabled=0\n",
    "Bastard Keyboards:Charybdis (4x6) Splinky:1:            is_sniping_enabled=0\n",
    "Bastard Keyboards:Charybdis (4x6) Splinky:1:            default_dpi=0xE (3000)\n",
    "Bastard Keyboards:Charybdis (4x6) Splinky:1:            sniping_dpi=0x0 (100)\n",
    "Bastard Keyboards:Charybdis (4x6) Splinky:1:    }\n",
    "Bastard Keyboards:Charybdis (4x6) Splinky:1: }\n",
    "Bastard Keyboards:Charybdis (4x6) Splinky:1: (charybdis) process_record_kb: config = {\n",
    "Bastard Keyboards:Charybdis (4x6) Splinky:1:    raw = 0xE,\n",
    "Bastard Keyboards:Charybdis (4x6) Splinky:1:    {\n",
    "Bastard Keyboards:Charybdis (4x6) Splinky:1:            is_dragscroll_enabled=0\n",
    "Bastard Keyboards:Charybdis (4x6) Splinky:1:            is_sniping_enabled=0\n",
    "Bastard Keyboards:Charybdis (4x6) Splinky:1:            default_dpi=0xE (3000)\n",
    "Bastard Keyboards:Charybdis (4x6) Splinky:1:            sniping_dpi=0x0 (100)\n",
    "Bastard Keyboards:Charybdis (4x6) Splinky:1:    }\n",
    "Bastard Keyboards:Charybdis (4x6) Splinky:1: }\n",
    "Bastard Keyboards:Charybdis (4x6) Splinky:1: (charybdis) process_record_kb: config = {\n",
    "Bastard Keyboards:Charybdis (4x6) Splinky:1:    raw = 0xF,\n",
    "Bastard Keyboards:Charybdis (4x6) Splinky:1:    {\n",
    "Bastard Keyboards:Charybdis (4x6) Splinky:1:            is_dragscroll_enabled=0\n",
    "Bastard Keyboards:Charybdis (4x6) Splinky:1:            is_sniping_enabled=0\n",
    "Bastard Keyboards:Charybdis (4x6) Splinky:1:            default_dpi=0xF (3200)\n",
    "Bastard Keyboards:Charybdis (4x6) Splinky:1:            sniping_dpi=0x0 (100)\n",
    "Bastard Keyboards:Charybdis (4x6) Splinky:1:    }\n",
    "Bastard Keyboards:Charybdis (4x6) Splinky:1: }\n",
    "Bastard Keyboards:Charybdis (4x6) Splinky:1: (charybdis) process_record_kb: config = {\n",
    "Bastard Keyboards:Charybdis (4x6) Splinky:1:    raw = 0xF,\n",
    "Bastard Keyboards:Charybdis (4x6) Splinky:1:    {\n",
    "Bastard Keyboards:Charybdis (4x6) Splinky:1:            is_dragscroll_enabled=0\n",
    "Bastard Keyboards:Charybdis (4x6) Splinky:1:            is_sniping_enabled=0\n",
    "Bastard Keyboards:Charybdis (4x6) Splinky:1:            default_dpi=0xF (3200)\n",
    "Bastard Keyboards:Charybdis (4x6) Splinky:1:            sniping_dpi=0x0 (100)\n",
    "Bastard Keyboards:Charybdis (4x6) Splinky:1:    }\n",
    "Bastard Keyboards:Charybdis (4x6) Splinky:1: }\n",
    "Bastard Keyboards:Charybdis (4x6) Splinky:1: (charybdis) process_record_kb: config = {\n",
    "Bastard Keyboards:Charybdis (4x6) Splinky:1:    raw = 0xE,\n",
    "Bastard Keyboards:Charybdis (4x6) Splinky:1:    {\n",
    "Bastard Keyboards:Charybdis (4x6) Splinky:1:            is_dragscroll_enabled=0\n",
    "Bastard Keyboards:Charybdis (4x6) Splinky:1:            is_sniping_enabled=0\n",
    "Bastard Keyboards:Charybdis (4x6) Splinky:1:            default_dpi=0xE (3000)\n",
    "Bastard Keyboards:Charybdis (4x6) Splinky:1:            sniping_dpi=0x0 (100)\n",
    "Bastard Keyboards:Charybdis (4x6) Splinky:1:    }\n",
    "Bastard Keyboards:Charybdis (4x6) Splinky:1: }\n",
    "Bastard Keyboards:Charybdis (4x6) Splinky:1: (charybdis) process_record_kb: config = {\n",
    "Bastard Keyboards:Charybdis (4x6) Splinky:1:    raw = 0xE,\n",
    "Bastard Keyboards:Charybdis (4x6) Splinky:1:    {\n",
    "Bastard Keyboards:Charybdis (4x6) Splinky:1:            is_dragscroll_enabled=0\n",
    "Bastard Keyboards:Charybdis (4x6) Splinky:1:            is_sniping_enabled=0\n",
    "Bastard Keyboards:Charybdis (4x6) Splinky:1:            default_dpi=0xE (3000)\n",
    "Bastard Keyboards:Charybdis (4x6) Splinky:1:            sniping_dpi=0x0 (100)\n",
    "Bastard Keyboards:Charybdis (4x6) Splinky:1:    }\n",
    "Bastard Keyboards:Charybdis (4x6) Splinky:1: }\n",
    "Bastard Keyboards:Charybdis (4x6) Splinky:1: MACCEL: DPI: 3000 min.t: 5281 max.t:    0 max.d: 1.000 max.vin: 0.000 max.vsc: 0.000 max.a: 1.000003\n",
    "Bastard Keyboards:Charybdis (4x6) Splinky:1: MACCEL: DPI: 3000 min.t:    4 max.t:   10 max.d: 16.125 max.vin: 3.206 max.vsc: 3.206 max.a: 1.002336\n",
    "Bastard Keyboards:Charybdis (4x6) Splinky:1: MACCEL: DPI: 3000 min.t:    4 max.t:   11 max.d: 15.297 max.vin: 2.912 max.vsc: 2.912 max.a: 1.001298\n",
    "Bastard Keyboards:Charybdis (4x6) Splinky:1: MACCEL: DPI: 3000 min.t:    5 max.t:   23 max.d: 47.539 max.vin: 2.912 max.vsc: 2.912 max.a: 1.001298\n",
    "Bastard Keyboards:Charybdis (4x6) Splinky:1: MACCEL: DPI: 3000 min.t:    5 max.t:   10 max.d: 11.662 max.vin: 2.332 max.vsc: 2.332 max.a: 1.000408\n",
    "Bastard Keyboards:Charybdis (4x6) Splinky:1: (charybdis) process_record_kb: config = {\n",
    "Bastard Keyboards:Charybdis (4x6) Splinky:1:    raw = 0xF,\n",
    "Bastard Keyboards:Charybdis (4x6) Splinky:1:    {\n",
    "Bastard Keyboards:Charybdis (4x6) Splinky:1:            is_dragscroll_enabled=0\n",
    "Bastard Keyboards:Charybdis (4x6) Splinky:1:            is_sniping_enabled=0\n",
    "Bastard Keyboards:Charybdis (4x6) Splinky:1:            default_dpi=0xF (3200)\n",
    "Bastard Keyboards:Charybdis (4x6) Splinky:1:            sniping_dpi=0x0 (100)\n",
    "Bastard Keyboards:Charybdis (4x6) Splinky:1:    }\n",
    "Bastard Keyboards:Charybdis (4x6) Splinky:1: }\n",
    "Bastard Keyboards:Charybdis (4x6) Splinky:1: MACCEL: DPI: 3200 min.t:    4 max.t:   10 max.d: 16.000 max.vin: 3.200 max.vsc: 3.200 max.a: 1.002306\n",
    "Bastard Keyboards:Charybdis (4x6) Splinky:1: (charybdis) process_record_kb: config = {\n",
    "Bastard Keyboards:Charybdis (4x6) Splinky:1:    raw = 0xF,\n",
    "Bastard Keyboards:Charybdis (4x6) Splinky:1:    {\n",
    "Bastard Keyboards:Charybdis (4x6) Splinky:1:            is_dragscroll_enabled=0\n",
    "Bastard Keyboards:Charybdis (4x6) Splinky:1:            is_sniping_enabled=0\n",
    "Bastard Keyboards:Charybdis (4x6) Splinky:1:            default_dpi=0xF (3200)\n",
    "Bastard Keyboards:Charybdis (4x6) Splinky:1:            sniping_dpi=0x0 (100)\n",
    "Bastard Keyboards:Charybdis (4x6) Splinky:1:    }\n",
    "Bastard Keyboards:Charybdis (4x6) Splinky:1: }\n",
    "Bastard Keyboards:Charybdis (4x6) Splinky:1: (charybdis) process_record_kb: config = {\n",
    "Bastard Keyboards:Charybdis (4x6) Splinky:1:    raw = 0x0,\n",
    "Bastard Keyboards:Charybdis (4x6) Splinky:1:    {\n",
    "Bastard Keyboards:Charybdis (4x6) Splinky:1:            is_dragscroll_enabled=0\n",
    "Bastard Keyboards:Charybdis (4x6) Splinky:1:            is_sniping_enabled=0\n",
    "Bastard Keyboards:Charybdis (4x6) Splinky:1:            default_dpi=0x0 (200)\n",
    "Bastard Keyboards:Charybdis (4x6) Splinky:1:            sniping_dpi=0x0 (100)\n",
    "Bastard Keyboards:Charybdis (4x6) Splinky:1:    }\n",
    "Bastard Keyboards:Charybdis (4x6) Splinky:1: }\n",
    "Bastard Keyboards:Charybdis (4x6) Splinky:1: (charybdis) process_record_kb: config = {\n",
    "Bastard Keyboards:Charybdis (4x6) Splinky:1:    raw = 0x0,\n",
    "Bastard Keyboards:Charybdis (4x6) Splinky:1:    {\n",
    "Bastard Keyboards:Charybdis (4x6) Splinky:1:            is_dragscroll_enabled=0\n",
    "Bastard Keyboards:Charybdis (4x6) Splinky:1:            is_sniping_enabled=0\n",
    "Bastard Keyboards:Charybdis (4x6) Splinky:1:            default_dpi=0x0 (200)\n",
    "Bastard Keyboards:Charybdis (4x6) Splinky:1:            sniping_dpi=0x0 (100)\n",
    "Bastard Keyboards:Charybdis (4x6) Splinky:1:    }\n",
    "Bastard Keyboards:Charybdis (4x6) Splinky:1: }\n",
    "Bastard Keyboards:Charybdis (4x6) Splinky:1: (charybdis) process_record_kb: config = {\n",
    "Bastard Keyboards:Charybdis (4x6) Splinky:1:    raw = 0xF,\n",
    "Bastard Keyboards:Charybdis (4x6) Splinky:1:    {\n",
    "Bastard Keyboards:Charybdis (4x6) Splinky:1:            is_dragscroll_enabled=0\n",
    "Bastard Keyboards:Charybdis (4x6) Splinky:1:            is_sniping_enabled=0\n",
    "Bastard Keyboards:Charybdis (4x6) Splinky:1:            default_dpi=0xF (3200)\n",
    "Bastard Keyboards:Charybdis (4x6) Splinky:1:            sniping_dpi=0x0 (100)\n",
    "Bastard Keyboards:Charybdis (4x6) Splinky:1:    }\n",
    "Bastard Keyboards:Charybdis (4x6) Splinky:1: }\n",
    "Bastard Keyboards:Charybdis (4x6) Splinky:1: (charybdis) process_record_kb: config = {\n",
    "Bastard Keyboards:Charybdis (4x6) Splinky:1:    raw = 0xF,\n",
    "Bastard Keyboards:Charybdis (4x6) Splinky:1:    {\n",
    "Bastard Keyboards:Charybdis (4x6) Splinky:1:            is_dragscroll_enabled=0\n",
    "Bastard Keyboards:Charybdis (4x6) Splinky:1:            is_sniping_enabled=0\n",
    "Bastard Keyboards:Charybdis (4x6) Splinky:1:            default_dpi=0xF (3200)\n",
    "Bastard Keyboards:Charybdis (4x6) Splinky:1:            sniping_dpi=0x0 (100)\n",
    "Bastard Keyboards:Charybdis (4x6) Splinky:1:    }\n",
    "Bastard Keyboards:Charybdis (4x6) Splinky:1: }\n",
    "Bastard Keyboards:Charybdis (4x6) Splinky:1: MACCEL: DPI: 3200 min.t: 6299 max.t:    0 max.d: 1.000 max.vin: 0.000 max.vsc: 0.000 max.a: 1.000003\n",
    "Bastard Keyboards:Charybdis (4x6) Splinky:1: MACCEL: DPI: 3200 min.t: 1167 max.t:    0 max.d: 1.000 max.vin: 0.001 max.vsc: 0.001 max.a: 1.000003\n",
    "Bastard Keyboards:Charybdis (4x6) Splinky:1: MACCEL: DPI: 3200 min.t:    4 max.t:   85 max.d: 16.000 max.vin: 3.162 max.vsc: 3.162 max.a: 1.002139\n",
    "Bastard Keyboards:Charybdis (4x6) Splinky:1: MACCEL: DPI: 3200 min.t:    4 max.t:   23 max.d: 34.928 max.vin: 2.720 max.vsc: 2.720 max.a: 1.000885\n",
    "Bastard Keyboards:Charybdis (4x6) Splinky:1: (charybdis) process_record_kb: config = {\n",
    "Bastard Keyboards:Charybdis (4x6) Splinky:1:    raw = 0x0,\n",
    "Bastard Keyboards:Charybdis (4x6) Splinky:1:    {\n",
    "Bastard Keyboards:Charybdis (4x6) Splinky:1:            is_dragscroll_enabled=0\n",
    "Bastard Keyboards:Charybdis (4x6) Splinky:1:            is_sniping_enabled=0\n",
    "Bastard Keyboards:Charybdis (4x6) Splinky:1:            default_dpi=0x0 (200)\n",
    "Bastard Keyboards:Charybdis (4x6) Splinky:1:            sniping_dpi=0x0 (100)\n",
    "Bastard Keyboards:Charybdis (4x6) Splinky:1:    }\n",
    "Bastard Keyboards:Charybdis (4x6) Splinky:1: }\n",
    "Bastard Keyboards:Charybdis (4x6) Splinky:1: (charybdis) process_record_kb: config = {\n",
    "Bastard Keyboards:Charybdis (4x6) Splinky:1:    raw = 0x0,\n",
    "Bastard Keyboards:Charybdis (4x6) Splinky:1:    {\n",
    "Bastard Keyboards:Charybdis (4x6) Splinky:1:            is_dragscroll_enabled=0\n",
    "Bastard Keyboards:Charybdis (4x6) Splinky:1:            is_sniping_enabled=0\n",
    "Bastard Keyboards:Charybdis (4x6) Splinky:1:            default_dpi=0x0 (200)\n",
    "Bastard Keyboards:Charybdis (4x6) Splinky:1:            sniping_dpi=0x0 (100)\n",
    "Bastard Keyboards:Charybdis (4x6) Splinky:1:    }\n",
    "Bastard Keyboards:Charybdis (4x6) Splinky:1: }\n",
    "Bastard Keyboards:Charybdis (4x6) Splinky:1: (charybdis) process_record_kb: config = {\n",
    "Bastard Keyboards:Charybdis (4x6) Splinky:1:    raw = 0x1,\n",
    "Bastard Keyboards:Charybdis (4x6) Splinky:1:    {\n",
    "Bastard Keyboards:Charybdis (4x6) Splinky:1:            is_dragscroll_enabled=0\n",
    "Bastard Keyboards:Charybdis (4x6) Splinky:1:            is_sniping_enabled=0\n",
    "Bastard Keyboards:Charybdis (4x6) Splinky:1:            default_dpi=0x1 (400)\n",
    "Bastard Keyboards:Charybdis (4x6) Splinky:1:            sniping_dpi=0x0 (100)\n",
    "Bastard Keyboards:Charybdis (4x6) Splinky:1:    }\n",
    "Bastard Keyboards:Charybdis (4x6) Splinky:1: }\n",
    "Bastard Keyboards:Charybdis (4x6) Splinky:1: (charybdis) process_record_kb: config = {\n",
    "Bastard Keyboards:Charybdis (4x6) Splinky:1:    raw = 0x1,\n",
    "Bastard Keyboards:Charybdis (4x6) Splinky:1:    {\n",
    "Bastard Keyboards:Charybdis (4x6) Splinky:1:            is_dragscroll_enabled=0\n",
    "Bastard Keyboards:Charybdis (4x6) Splinky:1:            is_sniping_enabled=0\n",
    "Bastard Keyboards:Charybdis (4x6) Splinky:1:            default_dpi=0x1 (400)\n",
    "Bastard Keyboards:Charybdis (4x6) Splinky:1:            sniping_dpi=0x0 (100)\n",
    "Bastard Keyboards:Charybdis (4x6) Splinky:1:    }\n",
    "Bastard Keyboards:Charybdis (4x6) Splinky:1: }\n",
    "Bastard Keyboards:Charybdis (4x6) Splinky:1: (charybdis) process_record_kb: config = {\n",
    "Bastard Keyboards:Charybdis (4x6) Splinky:1:    raw = 0x2,\n",
    "Bastard Keyboards:Charybdis (4x6) Splinky:1:    {\n",
    "Bastard Keyboards:Charybdis (4x6) Splinky:1:            is_dragscroll_enabled=0\n",
    "Bastard Keyboards:Charybdis (4x6) Splinky:1:            is_sniping_enabled=0\n",
    "Bastard Keyboards:Charybdis (4x6) Splinky:1:            default_dpi=0x2 (600)\n",
    "Bastard Keyboards:Charybdis (4x6) Splinky:1:            sniping_dpi=0x0 (100)\n",
    "Bastard Keyboards:Charybdis (4x6) Splinky:1:    }\n",
    "Bastard Keyboards:Charybdis (4x6) Splinky:1: }\n",
    "Bastard Keyboards:Charybdis (4x6) Splinky:1: (charybdis) process_record_kb: config = {\n",
    "Bastard Keyboards:Charybdis (4x6) Splinky:1:    raw = 0x2,\n",
    "Bastard Keyboards:Charybdis (4x6) Splinky:1:    {\n",
    "Bastard Keyboards:Charybdis (4x6) Splinky:1:            is_dragscroll_enabled=0\n",
    "Bastard Keyboards:Charybdis (4x6) Splinky:1:            is_sniping_enabled=0\n",
    "Bastard Keyboards:Charybdis (4x6) Splinky:1:            default_dpi=0x2 (600)\n",
    "Bastard Keyboards:Charybdis (4x6) Splinky:1:            sniping_dpi=0x0 (100)\n",
    "Bastard Keyboards:Charybdis (4x6) Splinky:1:    }\n",
    "Bastard Keyboards:Charybdis (4x6) Splinky:1: }\n",
    "Bastard Keyboards:Charybdis (4x6) Splinky:1: (charybdis) process_record_kb: config = {\n",
    "Bastard Keyboards:Charybdis (4x6) Splinky:1:    raw = 0x1,\n",
    "Bastard Keyboards:Charybdis (4x6) Splinky:1:    {\n",
    "Bastard Keyboards:Charybdis (4x6) Splinky:1:            is_dragscroll_enabled=0\n",
    "Bastard Keyboards:Charybdis (4x6) Splinky:1:            is_sniping_enabled=0\n",
    "Bastard Keyboards:Charybdis (4x6) Splinky:1:            default_dpi=0x1 (400)\n",
    "Bastard Keyboards:Charybdis (4x6) Splinky:1:            sniping_dpi=0x0 (100)\n",
    "Bastard Keyboards:Charybdis (4x6) Splinky:1:    }\n",
    "Bastard Keyboards:Charybdis (4x6) Splinky:1: }\n",
    "Bastard Keyboards:Charybdis (4x6) Splinky:1: (charybdis) process_record_kb: config = {\n",
    "Bastard Keyboards:Charybdis (4x6) Splinky:1:    raw = 0x1,\n",
    "Bastard Keyboards:Charybdis (4x6) Splinky:1:    {\n",
    "Bastard Keyboards:Charybdis (4x6) Splinky:1:            is_dragscroll_enabled=0\n",
    "Bastard Keyboards:Charybdis (4x6) Splinky:1:            is_sniping_enabled=0\n",
    "Bastard Keyboards:Charybdis (4x6) Splinky:1:            default_dpi=0x1 (400)\n",
    "Bastard Keyboards:Charybdis (4x6) Splinky:1:            sniping_dpi=0x0 (100)\n",
    "Bastard Keyboards:Charybdis (4x6) Splinky:1:    }\n",
    "Bastard Keyboards:Charybdis (4x6) Splinky:1: }\n",
    "\"\"\""
   ],
   "outputs": [],
   "metadata": {}
  },
  {
   "cell_type": "code",
   "execution_count": 7,
   "source": [
    "df = parse_console(s)\n",
    "fig = plot(df)\n",
    "display(df, fig)"
   ],
   "outputs": [
    {
     "output_type": "display_data",
     "data": {
      "text/html": [
       "<div>\n",
       "<style scoped>\n",
       "    .dataframe tbody tr th:only-of-type {\n",
       "        vertical-align: middle;\n",
       "    }\n",
       "\n",
       "    .dataframe tbody tr th {\n",
       "        vertical-align: top;\n",
       "    }\n",
       "\n",
       "    .dataframe thead th {\n",
       "        text-align: right;\n",
       "    }\n",
       "</style>\n",
       "<table border=\"1\" class=\"dataframe\">\n",
       "  <thead>\n",
       "    <tr style=\"text-align: right;\">\n",
       "      <th></th>\n",
       "      <th>T_min</th>\n",
       "      <th>T_max</th>\n",
       "      <th>D</th>\n",
       "      <th>V_input</th>\n",
       "      <th>V_scaled</th>\n",
       "      <th>A_factor</th>\n",
       "    </tr>\n",
       "    <tr>\n",
       "      <th>DPI</th>\n",
       "      <th></th>\n",
       "      <th></th>\n",
       "      <th></th>\n",
       "      <th></th>\n",
       "      <th></th>\n",
       "      <th></th>\n",
       "    </tr>\n",
       "  </thead>\n",
       "  <tbody>\n",
       "    <tr>\n",
       "      <th>200</th>\n",
       "      <td>5</td>\n",
       "      <td>91</td>\n",
       "      <td>2.236</td>\n",
       "      <td>0.447</td>\n",
       "      <td>0.447</td>\n",
       "      <td>1.000010</td>\n",
       "    </tr>\n",
       "    <tr>\n",
       "      <th>400</th>\n",
       "      <td>5</td>\n",
       "      <td>23</td>\n",
       "      <td>6.000</td>\n",
       "      <td>0.447</td>\n",
       "      <td>0.447</td>\n",
       "      <td>1.000010</td>\n",
       "    </tr>\n",
       "    <tr>\n",
       "      <th>600</th>\n",
       "      <td>5</td>\n",
       "      <td>35</td>\n",
       "      <td>4.243</td>\n",
       "      <td>0.849</td>\n",
       "      <td>0.849</td>\n",
       "      <td>1.000021</td>\n",
       "    </tr>\n",
       "    <tr>\n",
       "      <th>800</th>\n",
       "      <td>4</td>\n",
       "      <td>45</td>\n",
       "      <td>13.601</td>\n",
       "      <td>1.000</td>\n",
       "      <td>1.000</td>\n",
       "      <td>1.000029</td>\n",
       "    </tr>\n",
       "    <tr>\n",
       "      <th>1000</th>\n",
       "      <td>4</td>\n",
       "      <td>23</td>\n",
       "      <td>14.036</td>\n",
       "      <td>1.344</td>\n",
       "      <td>1.344</td>\n",
       "      <td>1.000057</td>\n",
       "    </tr>\n",
       "    <tr>\n",
       "      <th>1200</th>\n",
       "      <td>1479</td>\n",
       "      <td>60</td>\n",
       "      <td>6.708</td>\n",
       "      <td>1.342</td>\n",
       "      <td>1.342</td>\n",
       "      <td>1.000056</td>\n",
       "    </tr>\n",
       "    <tr>\n",
       "      <th>2000</th>\n",
       "      <td>5</td>\n",
       "      <td>90</td>\n",
       "      <td>12.083</td>\n",
       "      <td>2.417</td>\n",
       "      <td>2.417</td>\n",
       "      <td>1.000482</td>\n",
       "    </tr>\n",
       "    <tr>\n",
       "      <th>2400</th>\n",
       "      <td>5</td>\n",
       "      <td>65</td>\n",
       "      <td>28.844</td>\n",
       "      <td>2.400</td>\n",
       "      <td>2.400</td>\n",
       "      <td>1.000467</td>\n",
       "    </tr>\n",
       "    <tr>\n",
       "      <th>2600</th>\n",
       "      <td>4</td>\n",
       "      <td>35</td>\n",
       "      <td>10.817</td>\n",
       "      <td>2.163</td>\n",
       "      <td>2.163</td>\n",
       "      <td>1.000291</td>\n",
       "    </tr>\n",
       "    <tr>\n",
       "      <th>3000</th>\n",
       "      <td>5281</td>\n",
       "      <td>23</td>\n",
       "      <td>47.539</td>\n",
       "      <td>3.206</td>\n",
       "      <td>3.206</td>\n",
       "      <td>1.002336</td>\n",
       "    </tr>\n",
       "    <tr>\n",
       "      <th>3200</th>\n",
       "      <td>6299</td>\n",
       "      <td>85</td>\n",
       "      <td>34.928</td>\n",
       "      <td>3.200</td>\n",
       "      <td>3.200</td>\n",
       "      <td>1.002306</td>\n",
       "    </tr>\n",
       "  </tbody>\n",
       "</table>\n",
       "</div>"
      ],
      "text/plain": [
       "      T_min  T_max       D  V_input  V_scaled  A_factor\n",
       "DPI                                                    \n",
       "200       5     91   2.236    0.447     0.447  1.000010\n",
       "400       5     23   6.000    0.447     0.447  1.000010\n",
       "600       5     35   4.243    0.849     0.849  1.000021\n",
       "800       4     45  13.601    1.000     1.000  1.000029\n",
       "1000      4     23  14.036    1.344     1.344  1.000057\n",
       "1200   1479     60   6.708    1.342     1.342  1.000056\n",
       "2000      5     90  12.083    2.417     2.417  1.000482\n",
       "2400      5     65  28.844    2.400     2.400  1.000467\n",
       "2600      4     35  10.817    2.163     2.163  1.000291\n",
       "3000   5281     23  47.539    3.206     3.206  1.002336\n",
       "3200   6299     85  34.928    3.200     3.200  1.002306"
      ]
     },
     "metadata": {}
    },
    {
     "output_type": "display_data",
     "data": {
      "application/vnd.plotly.v1+json": {
       "data": [
        {
         "name": "D",
         "x": [
          200,
          400,
          600,
          800,
          1000,
          1200,
          2000,
          2400,
          2600,
          3000,
          3200
         ],
         "y": [
          2.236,
          6,
          4.243,
          13.601,
          14.036,
          6.708,
          12.083,
          28.844,
          10.817,
          47.539,
          34.928
         ],
         "type": "scattergl",
         "xaxis": "x",
         "yaxis": "y2"
        },
        {
         "name": "V_input",
         "x": [
          200,
          400,
          600,
          800,
          1000,
          1200,
          2000,
          2400,
          2600,
          3000,
          3200
         ],
         "y": [
          0.447,
          0.447,
          0.849,
          1,
          1.344,
          1.342,
          2.417,
          2.4,
          2.163,
          3.206,
          3.2
         ],
         "type": "scattergl",
         "xaxis": "x",
         "yaxis": "y"
        }
       ],
       "layout": {
        "template": {
         "data": {
          "histogram2dcontour": [
           {
            "type": "histogram2dcontour",
            "colorbar": {
             "outlinewidth": 0,
             "ticks": ""
            },
            "colorscale": [
             [
              0,
              "#0d0887"
             ],
             [
              0.1111111111111111,
              "#46039f"
             ],
             [
              0.2222222222222222,
              "#7201a8"
             ],
             [
              0.3333333333333333,
              "#9c179e"
             ],
             [
              0.4444444444444444,
              "#bd3786"
             ],
             [
              0.5555555555555556,
              "#d8576b"
             ],
             [
              0.6666666666666666,
              "#ed7953"
             ],
             [
              0.7777777777777778,
              "#fb9f3a"
             ],
             [
              0.8888888888888888,
              "#fdca26"
             ],
             [
              1,
              "#f0f921"
             ]
            ]
           }
          ],
          "choropleth": [
           {
            "type": "choropleth",
            "colorbar": {
             "outlinewidth": 0,
             "ticks": ""
            }
           }
          ],
          "histogram2d": [
           {
            "type": "histogram2d",
            "colorbar": {
             "outlinewidth": 0,
             "ticks": ""
            },
            "colorscale": [
             [
              0,
              "#0d0887"
             ],
             [
              0.1111111111111111,
              "#46039f"
             ],
             [
              0.2222222222222222,
              "#7201a8"
             ],
             [
              0.3333333333333333,
              "#9c179e"
             ],
             [
              0.4444444444444444,
              "#bd3786"
             ],
             [
              0.5555555555555556,
              "#d8576b"
             ],
             [
              0.6666666666666666,
              "#ed7953"
             ],
             [
              0.7777777777777778,
              "#fb9f3a"
             ],
             [
              0.8888888888888888,
              "#fdca26"
             ],
             [
              1,
              "#f0f921"
             ]
            ]
           }
          ],
          "heatmap": [
           {
            "type": "heatmap",
            "colorbar": {
             "outlinewidth": 0,
             "ticks": ""
            },
            "colorscale": [
             [
              0,
              "#0d0887"
             ],
             [
              0.1111111111111111,
              "#46039f"
             ],
             [
              0.2222222222222222,
              "#7201a8"
             ],
             [
              0.3333333333333333,
              "#9c179e"
             ],
             [
              0.4444444444444444,
              "#bd3786"
             ],
             [
              0.5555555555555556,
              "#d8576b"
             ],
             [
              0.6666666666666666,
              "#ed7953"
             ],
             [
              0.7777777777777778,
              "#fb9f3a"
             ],
             [
              0.8888888888888888,
              "#fdca26"
             ],
             [
              1,
              "#f0f921"
             ]
            ]
           }
          ],
          "heatmapgl": [
           {
            "type": "heatmapgl",
            "colorbar": {
             "outlinewidth": 0,
             "ticks": ""
            },
            "colorscale": [
             [
              0,
              "#0d0887"
             ],
             [
              0.1111111111111111,
              "#46039f"
             ],
             [
              0.2222222222222222,
              "#7201a8"
             ],
             [
              0.3333333333333333,
              "#9c179e"
             ],
             [
              0.4444444444444444,
              "#bd3786"
             ],
             [
              0.5555555555555556,
              "#d8576b"
             ],
             [
              0.6666666666666666,
              "#ed7953"
             ],
             [
              0.7777777777777778,
              "#fb9f3a"
             ],
             [
              0.8888888888888888,
              "#fdca26"
             ],
             [
              1,
              "#f0f921"
             ]
            ]
           }
          ],
          "contourcarpet": [
           {
            "type": "contourcarpet",
            "colorbar": {
             "outlinewidth": 0,
             "ticks": ""
            }
           }
          ],
          "contour": [
           {
            "type": "contour",
            "colorbar": {
             "outlinewidth": 0,
             "ticks": ""
            },
            "colorscale": [
             [
              0,
              "#0d0887"
             ],
             [
              0.1111111111111111,
              "#46039f"
             ],
             [
              0.2222222222222222,
              "#7201a8"
             ],
             [
              0.3333333333333333,
              "#9c179e"
             ],
             [
              0.4444444444444444,
              "#bd3786"
             ],
             [
              0.5555555555555556,
              "#d8576b"
             ],
             [
              0.6666666666666666,
              "#ed7953"
             ],
             [
              0.7777777777777778,
              "#fb9f3a"
             ],
             [
              0.8888888888888888,
              "#fdca26"
             ],
             [
              1,
              "#f0f921"
             ]
            ]
           }
          ],
          "surface": [
           {
            "type": "surface",
            "colorbar": {
             "outlinewidth": 0,
             "ticks": ""
            },
            "colorscale": [
             [
              0,
              "#0d0887"
             ],
             [
              0.1111111111111111,
              "#46039f"
             ],
             [
              0.2222222222222222,
              "#7201a8"
             ],
             [
              0.3333333333333333,
              "#9c179e"
             ],
             [
              0.4444444444444444,
              "#bd3786"
             ],
             [
              0.5555555555555556,
              "#d8576b"
             ],
             [
              0.6666666666666666,
              "#ed7953"
             ],
             [
              0.7777777777777778,
              "#fb9f3a"
             ],
             [
              0.8888888888888888,
              "#fdca26"
             ],
             [
              1,
              "#f0f921"
             ]
            ]
           }
          ],
          "mesh3d": [
           {
            "type": "mesh3d",
            "colorbar": {
             "outlinewidth": 0,
             "ticks": ""
            }
           }
          ],
          "scatter": [
           {
            "fillpattern": {
             "fillmode": "overlay",
             "size": 10,
             "solidity": 0.2
            },
            "type": "scatter"
           }
          ],
          "parcoords": [
           {
            "type": "parcoords",
            "line": {
             "colorbar": {
              "outlinewidth": 0,
              "ticks": ""
             }
            }
           }
          ],
          "scatterpolargl": [
           {
            "type": "scatterpolargl",
            "marker": {
             "colorbar": {
              "outlinewidth": 0,
              "ticks": ""
             }
            }
           }
          ],
          "bar": [
           {
            "error_x": {
             "color": "#2a3f5f"
            },
            "error_y": {
             "color": "#2a3f5f"
            },
            "marker": {
             "line": {
              "color": "#E5ECF6",
              "width": 0.5
             },
             "pattern": {
              "fillmode": "overlay",
              "size": 10,
              "solidity": 0.2
             }
            },
            "type": "bar"
           }
          ],
          "scattergeo": [
           {
            "type": "scattergeo",
            "marker": {
             "colorbar": {
              "outlinewidth": 0,
              "ticks": ""
             }
            }
           }
          ],
          "scatterpolar": [
           {
            "type": "scatterpolar",
            "marker": {
             "colorbar": {
              "outlinewidth": 0,
              "ticks": ""
             }
            }
           }
          ],
          "histogram": [
           {
            "marker": {
             "pattern": {
              "fillmode": "overlay",
              "size": 10,
              "solidity": 0.2
             }
            },
            "type": "histogram"
           }
          ],
          "scattergl": [
           {
            "type": "scattergl",
            "marker": {
             "colorbar": {
              "outlinewidth": 0,
              "ticks": ""
             }
            }
           }
          ],
          "scatter3d": [
           {
            "type": "scatter3d",
            "line": {
             "colorbar": {
              "outlinewidth": 0,
              "ticks": ""
             }
            },
            "marker": {
             "colorbar": {
              "outlinewidth": 0,
              "ticks": ""
             }
            }
           }
          ],
          "scattermapbox": [
           {
            "type": "scattermapbox",
            "marker": {
             "colorbar": {
              "outlinewidth": 0,
              "ticks": ""
             }
            }
           }
          ],
          "scatterternary": [
           {
            "type": "scatterternary",
            "marker": {
             "colorbar": {
              "outlinewidth": 0,
              "ticks": ""
             }
            }
           }
          ],
          "scattercarpet": [
           {
            "type": "scattercarpet",
            "marker": {
             "colorbar": {
              "outlinewidth": 0,
              "ticks": ""
             }
            }
           }
          ],
          "carpet": [
           {
            "aaxis": {
             "endlinecolor": "#2a3f5f",
             "gridcolor": "white",
             "linecolor": "white",
             "minorgridcolor": "white",
             "startlinecolor": "#2a3f5f"
            },
            "baxis": {
             "endlinecolor": "#2a3f5f",
             "gridcolor": "white",
             "linecolor": "white",
             "minorgridcolor": "white",
             "startlinecolor": "#2a3f5f"
            },
            "type": "carpet"
           }
          ],
          "table": [
           {
            "cells": {
             "fill": {
              "color": "#EBF0F8"
             },
             "line": {
              "color": "white"
             }
            },
            "header": {
             "fill": {
              "color": "#C8D4E3"
             },
             "line": {
              "color": "white"
             }
            },
            "type": "table"
           }
          ],
          "barpolar": [
           {
            "marker": {
             "line": {
              "color": "#E5ECF6",
              "width": 0.5
             },
             "pattern": {
              "fillmode": "overlay",
              "size": 10,
              "solidity": 0.2
             }
            },
            "type": "barpolar"
           }
          ],
          "pie": [
           {
            "automargin": true,
            "type": "pie"
           }
          ]
         },
         "layout": {
          "autotypenumbers": "strict",
          "colorway": [
           "#636efa",
           "#EF553B",
           "#00cc96",
           "#ab63fa",
           "#FFA15A",
           "#19d3f3",
           "#FF6692",
           "#B6E880",
           "#FF97FF",
           "#FECB52"
          ],
          "font": {
           "color": "#2a3f5f"
          },
          "hovermode": "closest",
          "hoverlabel": {
           "align": "left"
          },
          "paper_bgcolor": "white",
          "plot_bgcolor": "#E5ECF6",
          "polar": {
           "bgcolor": "#E5ECF6",
           "angularaxis": {
            "gridcolor": "white",
            "linecolor": "white",
            "ticks": ""
           },
           "radialaxis": {
            "gridcolor": "white",
            "linecolor": "white",
            "ticks": ""
           }
          },
          "ternary": {
           "bgcolor": "#E5ECF6",
           "aaxis": {
            "gridcolor": "white",
            "linecolor": "white",
            "ticks": ""
           },
           "baxis": {
            "gridcolor": "white",
            "linecolor": "white",
            "ticks": ""
           },
           "caxis": {
            "gridcolor": "white",
            "linecolor": "white",
            "ticks": ""
           }
          },
          "coloraxis": {
           "colorbar": {
            "outlinewidth": 0,
            "ticks": ""
           }
          },
          "colorscale": {
           "sequential": [
            [
             0,
             "#0d0887"
            ],
            [
             0.1111111111111111,
             "#46039f"
            ],
            [
             0.2222222222222222,
             "#7201a8"
            ],
            [
             0.3333333333333333,
             "#9c179e"
            ],
            [
             0.4444444444444444,
             "#bd3786"
            ],
            [
             0.5555555555555556,
             "#d8576b"
            ],
            [
             0.6666666666666666,
             "#ed7953"
            ],
            [
             0.7777777777777778,
             "#fb9f3a"
            ],
            [
             0.8888888888888888,
             "#fdca26"
            ],
            [
             1,
             "#f0f921"
            ]
           ],
           "sequentialminus": [
            [
             0,
             "#0d0887"
            ],
            [
             0.1111111111111111,
             "#46039f"
            ],
            [
             0.2222222222222222,
             "#7201a8"
            ],
            [
             0.3333333333333333,
             "#9c179e"
            ],
            [
             0.4444444444444444,
             "#bd3786"
            ],
            [
             0.5555555555555556,
             "#d8576b"
            ],
            [
             0.6666666666666666,
             "#ed7953"
            ],
            [
             0.7777777777777778,
             "#fb9f3a"
            ],
            [
             0.8888888888888888,
             "#fdca26"
            ],
            [
             1,
             "#f0f921"
            ]
           ],
           "diverging": [
            [
             0,
             "#8e0152"
            ],
            [
             0.1,
             "#c51b7d"
            ],
            [
             0.2,
             "#de77ae"
            ],
            [
             0.3,
             "#f1b6da"
            ],
            [
             0.4,
             "#fde0ef"
            ],
            [
             0.5,
             "#f7f7f7"
            ],
            [
             0.6,
             "#e6f5d0"
            ],
            [
             0.7,
             "#b8e186"
            ],
            [
             0.8,
             "#7fbc41"
            ],
            [
             0.9,
             "#4d9221"
            ],
            [
             1,
             "#276419"
            ]
           ]
          },
          "xaxis": {
           "gridcolor": "white",
           "linecolor": "white",
           "ticks": "",
           "title": {
            "standoff": 15
           },
           "zerolinecolor": "white",
           "automargin": true,
           "zerolinewidth": 2
          },
          "yaxis": {
           "gridcolor": "white",
           "linecolor": "white",
           "ticks": "",
           "title": {
            "standoff": 15
           },
           "zerolinecolor": "white",
           "automargin": true,
           "zerolinewidth": 2
          },
          "scene": {
           "xaxis": {
            "backgroundcolor": "#E5ECF6",
            "gridcolor": "white",
            "linecolor": "white",
            "showbackground": true,
            "ticks": "",
            "zerolinecolor": "white",
            "gridwidth": 2
           },
           "yaxis": {
            "backgroundcolor": "#E5ECF6",
            "gridcolor": "white",
            "linecolor": "white",
            "showbackground": true,
            "ticks": "",
            "zerolinecolor": "white",
            "gridwidth": 2
           },
           "zaxis": {
            "backgroundcolor": "#E5ECF6",
            "gridcolor": "white",
            "linecolor": "white",
            "showbackground": true,
            "ticks": "",
            "zerolinecolor": "white",
            "gridwidth": 2
           }
          },
          "shapedefaults": {
           "line": {
            "color": "#2a3f5f"
           }
          },
          "annotationdefaults": {
           "arrowcolor": "#2a3f5f",
           "arrowhead": 0,
           "arrowwidth": 1
          },
          "geo": {
           "bgcolor": "white",
           "landcolor": "#E5ECF6",
           "subunitcolor": "white",
           "showland": true,
           "showlakes": true,
           "lakecolor": "white"
          },
          "title": {
           "x": 0.05
          },
          "mapbox": {
           "style": "light"
          }
         }
        },
        "xaxis": {
         "anchor": "y",
         "domain": [
          0,
          0.94
         ]
        },
        "yaxis": {
         "anchor": "x",
         "domain": [
          0,
          1
         ]
        },
        "yaxis2": {
         "anchor": "x",
         "overlaying": "y",
         "side": "right",
         "title": {
          "text": "D"
         }
        },
        "annotations": [
         {
          "font": {
           "size": 16
          },
          "showarrow": false,
          "text": "m",
          "x": 0.47,
          "xanchor": "center",
          "xref": "paper",
          "y": 1,
          "yanchor": "bottom",
          "yref": "paper"
         },
         {
          "font": {
           "size": 16
          },
          "showarrow": false,
          "text": "DPI",
          "x": 0.47,
          "xanchor": "center",
          "xref": "paper",
          "y": 0,
          "yanchor": "top",
          "yref": "paper",
          "yshift": -30
         },
         {
          "font": {
           "size": 16
          },
          "showarrow": false,
          "text": "V, A",
          "textangle": -90,
          "x": 0,
          "xanchor": "right",
          "xref": "paper",
          "xshift": -40,
          "y": 0.5,
          "yanchor": "middle",
          "yref": "paper"
         }
        ]
       },
       "config": {
        "plotlyServerURL": "https://plot.ly"
       }
      }
     },
     "metadata": {}
    }
   ],
   "metadata": {}
  },
  {
   "cell_type": "code",
   "execution_count": 8,
   "source": [
    "# Moving slow the mouse"
   ],
   "outputs": [],
   "metadata": {}
  },
  {
   "cell_type": "code",
   "execution_count": 9,
   "source": [
    "fig.show(\"png\")\n",
    "\n",
    "# Pretty linear except at low DPIs"
   ],
   "outputs": [
    {
     "output_type": "display_data",
     "data": {
      "image/png": "[encoded data removed]"
     },
     "metadata": {}
    }
   ],
   "metadata": {}
  },
  {
   "cell_type": "code",
   "execution_count": 10,
   "source": [
    "## Moving trachball a bit faster.\n",
    "s = \"\"\"\n",
    "19:28 $ qmk console\n",
    "Looking for devices...\n",
    "Ψ Console Connected: Bastard Keyboards Charybdis (4x6) Splinky (A8F8:1833:1)\n",
    "Bastard Keyboards:Charybdis (4x6) Splinky:1: MACCEL: DPI:  400 min.t:    5 max.t:   11 max.d: 5.385 max.vin: 1.077 max.vsc: 1.077 max.a: 1.000033\n",
    "Bastard Keyboards:Charybdis (4x6) Splinky:1: (charybdis) process_record_kb: config = {\n",
    "Bastard Keyboards:Charybdis (4x6) Splinky:1:    raw = 0x0,\n",
    "Bastard Keyboards:Charybdis (4x6) Splinky:1:    {\n",
    "Bastard Keyboards:Charybdis (4x6) Splinky:1:            is_dragscroll_enabled=0\n",
    "Bastard Keyboards:Charybdis (4x6) Splinky:1:            is_sniping_enabled=0\n",
    "Bastard Keyboards:Charybdis (4x6) Splinky:1:            default_dpi=0x0 (200)\n",
    "Bastard Keyboards:Charybdis (4x6) Splinky:1:            sniping_dpi=0x0 (100)\n",
    "Bastard Keyboards:Charybdis (4x6) Splinky:1:    }\n",
    "Bastard Keyboards:Charybdis (4x6) Splinky:1: }\n",
    "Bastard Keyboards:Charybdis (4x6) Splinky:1: (charybdis) process_record_kb: config = {\n",
    "Bastard Keyboards:Charybdis (4x6) Splinky:1:    raw = 0x0,\n",
    "Bastard Keyboards:Charybdis (4x6) Splinky:1:    {\n",
    "Bastard Keyboards:Charybdis (4x6) Splinky:1:            is_dragscroll_enabled=0\n",
    "Bastard Keyboards:Charybdis (4x6) Splinky:1:            is_sniping_enabled=0\n",
    "Bastard Keyboards:Charybdis (4x6) Splinky:1:            default_dpi=0x0 (200)\n",
    "Bastard Keyboards:Charybdis (4x6) Splinky:1:            sniping_dpi=0x0 (100)\n",
    "Bastard Keyboards:Charybdis (4x6) Splinky:1:    }\n",
    "Bastard Keyboards:Charybdis (4x6) Splinky:1: }\n",
    "Bastard Keyboards:Charybdis (4x6) Splinky:1: MACCEL: DPI:  200 min.t:   10 max.t:   25 max.d: 1.000 max.vin: 0.100 max.vsc: 0.100 max.a: 1.000005\n",
    "Bastard Keyboards:Charybdis (4x6) Splinky:1: MACCEL: DPI:  200 min.t:    5 max.t:   30 max.d: 12.083 max.vin: 0.894 max.vsc: 0.894 max.a: 1.000022\n",
    "Bastard Keyboards:Charybdis (4x6) Splinky:1: MACCEL: DPI:  200 min.t:    4 max.t:   10 max.d: 4.123 max.vin: 0.825 max.vsc: 0.825 max.a: 1.000020\n",
    "Bastard Keyboards:Charybdis (4x6) Splinky:1: MACCEL: DPI:  200 min.t:    4 max.t:   22 max.d: 14.560 max.vin: 1.118 max.vsc: 1.118 max.a: 1.000036\n",
    "Bastard Keyboards:Charybdis (4x6) Splinky:1: MACCEL: DPI:  200 min.t:    4 max.t:   10 max.d: 4.472 max.vin: 0.894 max.vsc: 0.894 max.a: 1.000022\n",
    "Bastard Keyboards:Charybdis (4x6) Splinky:1: (charybdis) process_record_kb: config = {\n",
    "Bastard Keyboards:Charybdis (4x6) Splinky:1:    raw = 0x1,\n",
    "Bastard Keyboards:Charybdis (4x6) Splinky:1:    {\n",
    "Bastard Keyboards:Charybdis (4x6) Splinky:1:            is_dragscroll_enabled=0\n",
    "Bastard Keyboards:Charybdis (4x6) Splinky:1:            is_sniping_enabled=0\n",
    "Bastard Keyboards:Charybdis (4x6) Splinky:1:            default_dpi=0x1 (400)\n",
    "Bastard Keyboards:Charybdis (4x6) Splinky:1:            sniping_dpi=0x0 (100)\n",
    "Bastard Keyboards:Charybdis (4x6) Splinky:1:    }\n",
    "Bastard Keyboards:Charybdis (4x6) Splinky:1: }\n",
    "Bastard Keyboards:Charybdis (4x6) Splinky:1: (charybdis) process_record_kb: config = {\n",
    "Bastard Keyboards:Charybdis (4x6) Splinky:1:    raw = 0x1,\n",
    "Bastard Keyboards:Charybdis (4x6) Splinky:1:    {\n",
    "Bastard Keyboards:Charybdis (4x6) Splinky:1:            is_dragscroll_enabled=0\n",
    "Bastard Keyboards:Charybdis (4x6) Splinky:1:            is_sniping_enabled=0\n",
    "Bastard Keyboards:Charybdis (4x6) Splinky:1:            default_dpi=0x1 (400)\n",
    "Bastard Keyboards:Charybdis (4x6) Splinky:1:            sniping_dpi=0x0 (100)\n",
    "Bastard Keyboards:Charybdis (4x6) Splinky:1:    }\n",
    "Bastard Keyboards:Charybdis (4x6) Splinky:1: }\n",
    "Bastard Keyboards:Charybdis (4x6) Splinky:1: MACCEL: DPI:  400 min.t:   10 max.t:   10 max.d: 3.000 max.vin: 0.100 max.vsc: 0.100 max.a: 1.000005\n",
    "Bastard Keyboards:Charybdis (4x6) Splinky:1: MACCEL: DPI:  400 min.t:    4 max.t:   10 max.d: 10.440 max.vin: 2.088 max.vsc: 2.088 max.a: 1.000250\n",
    "Bastard Keyboards:Charybdis (4x6) Splinky:1: MACCEL: DPI:  400 min.t:    4 max.t:   10 max.d: 9.849 max.vin: 2.136 max.vsc: 2.136 max.a: 1.000275\n",
    "Bastard Keyboards:Charybdis (4x6) Splinky:1: MACCEL: DPI:  400 min.t:    4 max.t:   11 max.d: 8.544 max.vin: 1.649 max.vsc: 1.649 max.a: 1.000103\n",
    "Bastard Keyboards:Charybdis (4x6) Splinky:1: (charybdis) process_record_kb: config = {\n",
    "Bastard Keyboards:Charybdis (4x6) Splinky:1:    raw = 0x2,\n",
    "Bastard Keyboards:Charybdis (4x6) Splinky:1:    {\n",
    "Bastard Keyboards:Charybdis (4x6) Splinky:1:            is_dragscroll_enabled=0\n",
    "Bastard Keyboards:Charybdis (4x6) Splinky:1:            is_sniping_enabled=0\n",
    "Bastard Keyboards:Charybdis (4x6) Splinky:1:            default_dpi=0x2 (600)\n",
    "Bastard Keyboards:Charybdis (4x6) Splinky:1:            sniping_dpi=0x0 (100)\n",
    "Bastard Keyboards:Charybdis (4x6) Splinky:1:    }\n",
    "Bastard Keyboards:Charybdis (4x6) Splinky:1: }\n",
    "Bastard Keyboards:Charybdis (4x6) Splinky:1: (charybdis) process_record_kb: config = {\n",
    "Bastard Keyboards:Charybdis (4x6) Splinky:1:    raw = 0x2,\n",
    "Bastard Keyboards:Charybdis (4x6) Splinky:1:    {\n",
    "Bastard Keyboards:Charybdis (4x6) Splinky:1:            is_dragscroll_enabled=0\n",
    "Bastard Keyboards:Charybdis (4x6) Splinky:1:            is_sniping_enabled=0\n",
    "Bastard Keyboards:Charybdis (4x6) Splinky:1:            default_dpi=0x2 (600)\n",
    "Bastard Keyboards:Charybdis (4x6) Splinky:1:            sniping_dpi=0x0 (100)\n",
    "Bastard Keyboards:Charybdis (4x6) Splinky:1:    }\n",
    "Bastard Keyboards:Charybdis (4x6) Splinky:1: }\n",
    "Bastard Keyboards:Charybdis (4x6) Splinky:1: MACCEL: DPI:  600 min.t:    5 max.t:   10 max.d: 4.472 max.vin: 0.632 max.vsc: 0.632 max.a: 1.000014\n",
    "Bastard Keyboards:Charybdis (4x6) Splinky:1: MACCEL: DPI:  600 min.t:    5 max.t:   20 max.d: 9.849 max.vin: 1.970 max.vsc: 1.970 max.a: 1.000197\n",
    "Bastard Keyboards:Charybdis (4x6) Splinky:1: MACCEL: DPI:  600 min.t:    5 max.t:   10 max.d: 7.000 max.vin: 1.400 max.vsc: 1.400 max.a: 1.000063\n",
    "Bastard Keyboards:Charybdis (4x6) Splinky:1: MACCEL: DPI:  600 min.t:    4 max.t:   10 max.d: 9.055 max.vin: 1.800 max.vsc: 1.800 max.a: 1.000141\n",
    "Bastard Keyboards:Charybdis (4x6) Splinky:1: MACCEL: DPI:  600 min.t:    4 max.t:   10 max.d: 9.849 max.vin: 1.970 max.vsc: 1.970 max.a: 1.000197\n",
    "Bastard Keyboards:Charybdis (4x6) Splinky:1: (charybdis) process_record_kb: config = {\n",
    "Bastard Keyboards:Charybdis (4x6) Splinky:1:    raw = 0x3,\n",
    "Bastard Keyboards:Charybdis (4x6) Splinky:1:    {\n",
    "Bastard Keyboards:Charybdis (4x6) Splinky:1:            is_dragscroll_enabled=0\n",
    "Bastard Keyboards:Charybdis (4x6) Splinky:1:            is_sniping_enabled=0\n",
    "Bastard Keyboards:Charybdis (4x6) Splinky:1:            default_dpi=0x3 (800)\n",
    "Bastard Keyboards:Charybdis (4x6) Splinky:1:            sniping_dpi=0x0 (100)\n",
    "Bastard Keyboards:Charybdis (4x6) Splinky:1:    }\n",
    "Bastard Keyboards:Charybdis (4x6) Splinky:1: }\n",
    "Bastard Keyboards:Charybdis (4x6) Splinky:1: MACCEL: DPI:  800 min.t:    4 max.t:   10 max.d: 8.246 max.vin: 1.649 max.vsc: 1.649 max.a: 1.000103\n",
    "Bastard Keyboards:Charybdis (4x6) Splinky:1: (charybdis) process_record_kb: config = {\n",
    "Bastard Keyboards:Charybdis (4x6) Splinky:1:    raw = 0x3,\n",
    "Bastard Keyboards:Charybdis (4x6) Splinky:1:    {\n",
    "Bastard Keyboards:Charybdis (4x6) Splinky:1:            is_dragscroll_enabled=0\n",
    "Bastard Keyboards:Charybdis (4x6) Splinky:1:            is_sniping_enabled=0\n",
    "Bastard Keyboards:Charybdis (4x6) Splinky:1:            default_dpi=0x3 (800)\n",
    "Bastard Keyboards:Charybdis (4x6) Splinky:1:            sniping_dpi=0x0 (100)\n",
    "Bastard Keyboards:Charybdis (4x6) Splinky:1:    }\n",
    "Bastard Keyboards:Charybdis (4x6) Splinky:1: }\n",
    "Bastard Keyboards:Charybdis (4x6) Splinky:1: MACCEL: DPI:  800 min.t: 2070 max.t:    0 max.d: 1.000 max.vin: 0.000 max.vsc: 0.000 max.a: 1.000003\n",
    "Bastard Keyboards:Charybdis (4x6) Splinky:1: MACCEL: DPI:  800 min.t:    5 max.t:   15 max.d: 18.868 max.vin: 3.774 max.vsc: 3.774 max.a: 1.007232\n",
    "Bastard Keyboards:Charybdis (4x6) Splinky:1: MACCEL: DPI:  800 min.t:    4 max.t:   10 max.d: 14.318 max.vin: 2.864 max.vsc: 2.864 max.a: 1.001178\n",
    "Bastard Keyboards:Charybdis (4x6) Splinky:1: MACCEL: DPI:  800 min.t:    4 max.t:    6 max.d: 16.763 max.vin: 3.353 max.vsc: 3.353 max.a: 1.003127\n",
    "Bastard Keyboards:Charybdis (4x6) Splinky:1: (charybdis) process_record_kb: config = {\n",
    "Bastard Keyboards:Charybdis (4x6) Splinky:1:    raw = 0x4,\n",
    "Bastard Keyboards:Charybdis (4x6) Splinky:1:    {\n",
    "Bastard Keyboards:Charybdis (4x6) Splinky:1:            is_dragscroll_enabled=0\n",
    "Bastard Keyboards:Charybdis (4x6) Splinky:1:            is_sniping_enabled=0\n",
    "Bastard Keyboards:Charybdis (4x6) Splinky:1:            default_dpi=0x4 (1000)\n",
    "Bastard Keyboards:Charybdis (4x6) Splinky:1:            sniping_dpi=0x0 (100)\n",
    "Bastard Keyboards:Charybdis (4x6) Splinky:1:    }\n",
    "Bastard Keyboards:Charybdis (4x6) Splinky:1: }\n",
    "Bastard Keyboards:Charybdis (4x6) Splinky:1: (charybdis) process_record_kb: config = {\n",
    "Bastard Keyboards:Charybdis (4x6) Splinky:1:    raw = 0x4,\n",
    "Bastard Keyboards:Charybdis (4x6) Splinky:1:    {\n",
    "Bastard Keyboards:Charybdis (4x6) Splinky:1:            is_dragscroll_enabled=0\n",
    "Bastard Keyboards:Charybdis (4x6) Splinky:1:            is_sniping_enabled=0\n",
    "Bastard Keyboards:Charybdis (4x6) Splinky:1:            default_dpi=0x4 (1000)\n",
    "Bastard Keyboards:Charybdis (4x6) Splinky:1:            sniping_dpi=0x0 (100)\n",
    "Bastard Keyboards:Charybdis (4x6) Splinky:1:    }\n",
    "Bastard Keyboards:Charybdis (4x6) Splinky:1: }\n",
    "Bastard Keyboards:Charybdis (4x6) Splinky:1: MACCEL: DPI: 1000 min.t:    4 max.t:   24 max.d: 66.287 max.vin: 4.205 max.vsc: 4.205 max.a: 1.016978\n",
    "Bastard Keyboards:Charybdis (4x6) Splinky:1: MACCEL: DPI: 1000 min.t:    4 max.t:   10 max.d: 5.099 max.vin: 1.020 max.vsc: 1.020 max.a: 1.000029\n",
    "Bastard Keyboards:Charybdis (4x6) Splinky:1: MACCEL: DPI: 1000 min.t:    4 max.t:   10 max.d: 25.710 max.vin: 5.048 max.vsc: 5.048 max.a: 1.086007\n",
    "Bastard Keyboards:Charybdis (4x6) Splinky:1: MACCEL: DPI: 1000 min.t:    4 max.t:   10 max.d: 22.204 max.vin: 4.441 max.vsc: 4.441 max.a: 1.026971\n",
    "Bastard Keyboards:Charybdis (4x6) Splinky:1: (charybdis) process_record_kb: config = {\n",
    "Bastard Keyboards:Charybdis (4x6) Splinky:1:    raw = 0x5,\n",
    "Bastard Keyboards:Charybdis (4x6) Splinky:1:    {\n",
    "Bastard Keyboards:Charybdis (4x6) Splinky:1:            is_dragscroll_enabled=0\n",
    "Bastard Keyboards:Charybdis (4x6) Splinky:1:            is_sniping_enabled=0\n",
    "Bastard Keyboards:Charybdis (4x6) Splinky:1:            default_dpi=0x5 (1200)\n",
    "Bastard Keyboards:Charybdis (4x6) Splinky:1:            sniping_dpi=0x0 (100)\n",
    "Bastard Keyboards:Charybdis (4x6) Splinky:1:    }\n",
    "Bastard Keyboards:Charybdis (4x6) Splinky:1: }\n",
    "Bastard Keyboards:Charybdis (4x6) Splinky:1: (charybdis) process_record_kb: config = {\n",
    "Bastard Keyboards:Charybdis (4x6) Splinky:1:    raw = 0x5,\n",
    "Bastard Keyboards:Charybdis (4x6) Splinky:1:    {\n",
    "Bastard Keyboards:Charybdis (4x6) Splinky:1:            is_dragscroll_enabled=0\n",
    "Bastard Keyboards:Charybdis (4x6) Splinky:1:            is_sniping_enabled=0\n",
    "Bastard Keyboards:Charybdis (4x6) Splinky:1:            default_dpi=0x5 (1200)\n",
    "Bastard Keyboards:Charybdis (4x6) Splinky:1:            sniping_dpi=0x0 (100)\n",
    "Bastard Keyboards:Charybdis (4x6) Splinky:1:    }\n",
    "Bastard Keyboards:Charybdis (4x6) Splinky:1: }\n",
    "Bastard Keyboards:Charybdis (4x6) Splinky:1: MACCEL: DPI: 1200 min.t:    4 max.t:   10 max.d: 28.844 max.vin: 5.769 max.vsc: 5.769 max.a: 1.296179\n",
    "Bastard Keyboards:Charybdis (4x6) Splinky:1: MACCEL: DPI: 1200 min.t:    4 max.t:   30 max.d: 80.056 max.vin: 4.569 max.vsc: 4.569 max.a: 1.034648\n",
    "Bastard Keyboards:Charybdis (4x6) Splinky:1: MACCEL: DPI: 1200 min.t:    4 max.t:   26 max.d: 94.021 max.vin: 4.808 max.vsc: 4.808 max.a: 1.054842\n",
    "Bastard Keyboards:Charybdis (4x6) Splinky:1: MACCEL: DPI: 1200 min.t:    4 max.t:   10 max.d: 26.000 max.vin: 5.200 max.vsc: 5.200 max.a: 1.113627\n",
    "Bastard Keyboards:Charybdis (4x6) Splinky:1: MACCEL: DPI: 1200 min.t:    4 max.t:   10 max.d: 27.785 max.vin: 5.557 max.vsc: 5.557 max.a: 1.211166\n",
    "Bastard Keyboards:Charybdis (4x6) Splinky:1: (charybdis) process_record_kb: config = {\n",
    "Bastard Keyboards:Charybdis (4x6) Splinky:1:    raw = 0x6,\n",
    "Bastard Keyboards:Charybdis (4x6) Splinky:1:    {\n",
    "Bastard Keyboards:Charybdis (4x6) Splinky:1:            is_dragscroll_enabled=0\n",
    "Bastard Keyboards:Charybdis (4x6) Splinky:1:            is_sniping_enabled=0\n",
    "Bastard Keyboards:Charybdis (4x6) Splinky:1:            default_dpi=0x6 (1400)\n",
    "Bastard Keyboards:Charybdis (4x6) Splinky:1:            sniping_dpi=0x0 (100)\n",
    "Bastard Keyboards:Charybdis (4x6) Splinky:1:    }\n",
    "Bastard Keyboards:Charybdis (4x6) Splinky:1: }\n",
    "Bastard Keyboards:Charybdis (4x6) Splinky:1: (charybdis) process_record_kb: config = {\n",
    "Bastard Keyboards:Charybdis (4x6) Splinky:1:    raw = 0x6,\n",
    "Bastard Keyboards:Charybdis (4x6) Splinky:1:    {\n",
    "Bastard Keyboards:Charybdis (4x6) Splinky:1:            is_dragscroll_enabled=0\n",
    "Bastard Keyboards:Charybdis (4x6) Splinky:1:            is_sniping_enabled=0\n",
    "Bastard Keyboards:Charybdis (4x6) Splinky:1:            default_dpi=0x6 (1400)\n",
    "Bastard Keyboards:Charybdis (4x6) Splinky:1:            sniping_dpi=0x0 (100)\n",
    "Bastard Keyboards:Charybdis (4x6) Splinky:1:    }\n",
    "Bastard Keyboards:Charybdis (4x6) Splinky:1: }\n",
    "Bastard Keyboards:Charybdis (4x6) Splinky:1: (charybdis) process_record_kb: config = {\n",
    "Bastard Keyboards:Charybdis (4x6) Splinky:1:    raw = 0x7,\n",
    "Bastard Keyboards:Charybdis (4x6) Splinky:1:    {\n",
    "Bastard Keyboards:Charybdis (4x6) Splinky:1:            is_dragscroll_enabled=0\n",
    "Bastard Keyboards:Charybdis (4x6) Splinky:1:            is_sniping_enabled=0\n",
    "Bastard Keyboards:Charybdis (4x6) Splinky:1:            default_dpi=0x7 (1600)\n",
    "Bastard Keyboards:Charybdis (4x6) Splinky:1:            sniping_dpi=0x0 (100)\n",
    "Bastard Keyboards:Charybdis (4x6) Splinky:1:    }\n",
    "Bastard Keyboards:Charybdis (4x6) Splinky:1: }\n",
    "Bastard Keyboards:Charybdis (4x6) Splinky:1: (charybdis) process_record_kb: config = {\n",
    "Bastard Keyboards:Charybdis (4x6) Splinky:1:    raw = 0x7,\n",
    "Bastard Keyboards:Charybdis (4x6) Splinky:1:    {\n",
    "Bastard Keyboards:Charybdis (4x6) Splinky:1:            is_dragscroll_enabled=0\n",
    "Bastard Keyboards:Charybdis (4x6) Splinky:1:            is_sniping_enabled=0\n",
    "Bastard Keyboards:Charybdis (4x6) Splinky:1:            default_dpi=0x7 (1600)\n",
    "Bastard Keyboards:Charybdis (4x6) Splinky:1:            sniping_dpi=0x0 (100)\n",
    "Bastard Keyboards:Charybdis (4x6) Splinky:1:    }\n",
    "Bastard Keyboards:Charybdis (4x6) Splinky:1: }\n",
    "Bastard Keyboards:Charybdis (4x6) Splinky:1: MACCEL: DPI: 1600 min.t:    4 max.t:   10 max.d: 14.213 max.vin: 2.369 max.vsc: 2.369 max.a: 1.000438\n",
    "Bastard Keyboards:Charybdis (4x6) Splinky:1: MACCEL: DPI: 1600 min.t:    4 max.t:   10 max.d: 29.428 max.vin: 6.505 max.vsc: 6.505 max.a: 1.760689\n",
    "Bastard Keyboards:Charybdis (4x6) Splinky:1: MACCEL: DPI: 1600 min.t:    4 max.t:   40 max.d: 29.547 max.vin: 5.909 max.vsc: 5.909 max.a: 1.365089\n",
    "Bastard Keyboards:Charybdis (4x6) Splinky:1: MACCEL: DPI: 1600 min.t:    4 max.t:   10 max.d: 28.636 max.vin: 5.126 max.vsc: 5.126 max.a: 1.099399\n",
    "Bastard Keyboards:Charybdis (4x6) Splinky:1: (charybdis) process_record_kb: config = {\n",
    "Bastard Keyboards:Charybdis (4x6) Splinky:1:    raw = 0x8,\n",
    "Bastard Keyboards:Charybdis (4x6) Splinky:1:    {\n",
    "Bastard Keyboards:Charybdis (4x6) Splinky:1:            is_dragscroll_enabled=0\n",
    "Bastard Keyboards:Charybdis (4x6) Splinky:1:            is_sniping_enabled=0\n",
    "Bastard Keyboards:Charybdis (4x6) Splinky:1:            default_dpi=0x8 (1800)\n",
    "Bastard Keyboards:Charybdis (4x6) Splinky:1:            sniping_dpi=0x0 (100)\n",
    "Bastard Keyboards:Charybdis (4x6) Splinky:1:    }\n",
    "Bastard Keyboards:Charybdis (4x6) Splinky:1: }\n",
    "Bastard Keyboards:Charybdis (4x6) Splinky:1: (charybdis) process_record_kb: config = {\n",
    "Bastard Keyboards:Charybdis (4x6) Splinky:1:    raw = 0x8,\n",
    "Bastard Keyboards:Charybdis (4x6) Splinky:1:    {\n",
    "Bastard Keyboards:Charybdis (4x6) Splinky:1:            is_dragscroll_enabled=0\n",
    "Bastard Keyboards:Charybdis (4x6) Splinky:1:            is_sniping_enabled=0\n",
    "Bastard Keyboards:Charybdis (4x6) Splinky:1:            default_dpi=0x8 (1800)\n",
    "Bastard Keyboards:Charybdis (4x6) Splinky:1:            sniping_dpi=0x0 (100)\n",
    "Bastard Keyboards:Charybdis (4x6) Splinky:1:    }\n",
    "Bastard Keyboards:Charybdis (4x6) Splinky:1: }\n",
    "Bastard Keyboards:Charybdis (4x6) Splinky:1: (charybdis) process_record_kb: config = {\n",
    "Bastard Keyboards:Charybdis (4x6) Splinky:1:    raw = 0x9,\n",
    "Bastard Keyboards:Charybdis (4x6) Splinky:1:    {\n",
    "Bastard Keyboards:Charybdis (4x6) Splinky:1:            is_dragscroll_enabled=0\n",
    "Bastard Keyboards:Charybdis (4x6) Splinky:1:            is_sniping_enabled=0\n",
    "Bastard Keyboards:Charybdis (4x6) Splinky:1:            default_dpi=0x9 (2000)\n",
    "Bastard Keyboards:Charybdis (4x6) Splinky:1:            sniping_dpi=0x0 (100)\n",
    "Bastard Keyboards:Charybdis (4x6) Splinky:1:    }\n",
    "Bastard Keyboards:Charybdis (4x6) Splinky:1: }\n",
    "Bastard Keyboards:Charybdis (4x6) Splinky:1: (charybdis) process_record_kb: config = {\n",
    "Bastard Keyboards:Charybdis (4x6) Splinky:1:    raw = 0x9,\n",
    "Bastard Keyboards:Charybdis (4x6) Splinky:1:    {\n",
    "Bastard Keyboards:Charybdis (4x6) Splinky:1:            is_dragscroll_enabled=0\n",
    "Bastard Keyboards:Charybdis (4x6) Splinky:1:            is_sniping_enabled=0\n",
    "Bastard Keyboards:Charybdis (4x6) Splinky:1:            default_dpi=0x9 (2000)\n",
    "Bastard Keyboards:Charybdis (4x6) Splinky:1:            sniping_dpi=0x0 (100)\n",
    "Bastard Keyboards:Charybdis (4x6) Splinky:1:    }\n",
    "Bastard Keyboards:Charybdis (4x6) Splinky:1: }\n",
    "Bastard Keyboards:Charybdis (4x6) Splinky:1: (charybdis) process_record_kb: config = {\n",
    "Bastard Keyboards:Charybdis (4x6) Splinky:1:    raw = 0xA,\n",
    "Bastard Keyboards:Charybdis (4x6) Splinky:1:    {\n",
    "Bastard Keyboards:Charybdis (4x6) Splinky:1:            is_dragscroll_enabled=0\n",
    "Bastard Keyboards:Charybdis (4x6) Splinky:1:            is_sniping_enabled=0\n",
    "Bastard Keyboards:Charybdis (4x6) Splinky:1:            default_dpi=0xA (2200)\n",
    "Bastard Keyboards:Charybdis (4x6) Splinky:1:            sniping_dpi=0x0 (100)\n",
    "Bastard Keyboards:Charybdis (4x6) Splinky:1:    }\n",
    "Bastard Keyboards:Charybdis (4x6) Splinky:1: }\n",
    "Bastard Keyboards:Charybdis (4x6) Splinky:1: (charybdis) process_record_kb: config = {\n",
    "Bastard Keyboards:Charybdis (4x6) Splinky:1:    raw = 0xA,\n",
    "Bastard Keyboards:Charybdis (4x6) Splinky:1:    {\n",
    "Bastard Keyboards:Charybdis (4x6) Splinky:1:            is_dragscroll_enabled=0\n",
    "Bastard Keyboards:Charybdis (4x6) Splinky:1:            is_sniping_enabled=0\n",
    "Bastard Keyboards:Charybdis (4x6) Splinky:1:            default_dpi=0xA (2200)\n",
    "Bastard Keyboards:Charybdis (4x6) Splinky:1:            sniping_dpi=0x0 (100)\n",
    "Bastard Keyboards:Charybdis (4x6) Splinky:1:    }\n",
    "Bastard Keyboards:Charybdis (4x6) Splinky:1: }\n",
    "Bastard Keyboards:Charybdis (4x6) Splinky:1: MACCEL: DPI: 2200 min.t:    4 max.t:   10 max.d: 37.656 max.vin: 7.531 max.vsc: 7.531 max.a: 2.609737\n",
    "Bastard Keyboards:Charybdis (4x6) Splinky:1: MACCEL: DPI: 2200 min.t:    5 max.t:   15 max.d: 24.739 max.vin: 4.948 max.vsc: 4.948 max.a: 1.071376\n",
    "Bastard Keyboards:Charybdis (4x6) Splinky:1: MACCEL: DPI: 2200 min.t:    4 max.t:   10 max.d: 42.107 max.vin: 7.694 max.vsc: 7.694 max.a: 2.739931\n",
    "Bastard Keyboards:Charybdis (4x6) Splinky:1: MACCEL: DPI: 2200 min.t:    4 max.t:   10 max.d: 48.847 max.vin: 9.769 max.vsc: 9.769 max.a: 4.051546\n",
    "Bastard Keyboards:Charybdis (4x6) Splinky:1: MACCEL: DPI: 2200 min.t:    4 max.t:   10 max.d: 55.036 max.vin: 11.007 max.vsc: 11.007 max.a: 4.570085\n",
    "Bastard Keyboards:Charybdis (4x6) Splinky:1: MACCEL: DPI: 2200 min.t:    4 max.t:   15 max.d: 38.588 max.vin: 7.718 max.vsc: 7.718 max.a: 2.758309\n",
    "Bastard Keyboards:Charybdis (4x6) Splinky:1: (charybdis) process_record_kb: config = {\n",
    "Bastard Keyboards:Charybdis (4x6) Splinky:1:    raw = 0xB,\n",
    "Bastard Keyboards:Charybdis (4x6) Splinky:1:    {\n",
    "Bastard Keyboards:Charybdis (4x6) Splinky:1:            is_dragscroll_enabled=0\n",
    "Bastard Keyboards:Charybdis (4x6) Splinky:1:            is_sniping_enabled=0\n",
    "Bastard Keyboards:Charybdis (4x6) Splinky:1:            default_dpi=0xB (2400)\n",
    "Bastard Keyboards:Charybdis (4x6) Splinky:1:            sniping_dpi=0x0 (100)\n",
    "Bastard Keyboards:Charybdis (4x6) Splinky:1:    }\n",
    "Bastard Keyboards:Charybdis (4x6) Splinky:1: }\n",
    "Bastard Keyboards:Charybdis (4x6) Splinky:1: (charybdis) process_record_kb: config = {\n",
    "Bastard Keyboards:Charybdis (4x6) Splinky:1:    raw = 0xB,\n",
    "Bastard Keyboards:Charybdis (4x6) Splinky:1:    {\n",
    "Bastard Keyboards:Charybdis (4x6) Splinky:1:            is_dragscroll_enabled=0\n",
    "Bastard Keyboards:Charybdis (4x6) Splinky:1:            is_sniping_enabled=0\n",
    "Bastard Keyboards:Charybdis (4x6) Splinky:1:            default_dpi=0xB (2400)\n",
    "Bastard Keyboards:Charybdis (4x6) Splinky:1:            sniping_dpi=0x0 (100)\n",
    "Bastard Keyboards:Charybdis (4x6) Splinky:1:    }\n",
    "Bastard Keyboards:Charybdis (4x6) Splinky:1: }\n",
    "Bastard Keyboards:Charybdis (4x6) Splinky:1: (charybdis) process_record_kb: config = {\n",
    "Bastard Keyboards:Charybdis (4x6) Splinky:1:    raw = 0xC,\n",
    "Bastard Keyboards:Charybdis (4x6) Splinky:1:    {\n",
    "Bastard Keyboards:Charybdis (4x6) Splinky:1:            is_dragscroll_enabled=0\n",
    "Bastard Keyboards:Charybdis (4x6) Splinky:1:            is_sniping_enabled=0\n",
    "Bastard Keyboards:Charybdis (4x6) Splinky:1:            default_dpi=0xC (2600)\n",
    "Bastard Keyboards:Charybdis (4x6) Splinky:1:            sniping_dpi=0x0 (100)\n",
    "Bastard Keyboards:Charybdis (4x6) Splinky:1:    }\n",
    "Bastard Keyboards:Charybdis (4x6) Splinky:1: }\n",
    "Bastard Keyboards:Charybdis (4x6) Splinky:1: (charybdis) process_record_kb: config = {\n",
    "Bastard Keyboards:Charybdis (4x6) Splinky:1:    raw = 0xC,\n",
    "Bastard Keyboards:Charybdis (4x6) Splinky:1:    {\n",
    "Bastard Keyboards:Charybdis (4x6) Splinky:1:            is_dragscroll_enabled=0\n",
    "Bastard Keyboards:Charybdis (4x6) Splinky:1:            is_sniping_enabled=0\n",
    "Bastard Keyboards:Charybdis (4x6) Splinky:1:            default_dpi=0xC (2600)\n",
    "Bastard Keyboards:Charybdis (4x6) Splinky:1:            sniping_dpi=0x0 (100)\n",
    "Bastard Keyboards:Charybdis (4x6) Splinky:1:    }\n",
    "Bastard Keyboards:Charybdis (4x6) Splinky:1: }\n",
    "Bastard Keyboards:Charybdis (4x6) Splinky:1: (charybdis) process_record_kb: config = {\n",
    "Bastard Keyboards:Charybdis (4x6) Splinky:1:    raw = 0xD,\n",
    "Bastard Keyboards:Charybdis (4x6) Splinky:1:    {\n",
    "Bastard Keyboards:Charybdis (4x6) Splinky:1:            is_dragscroll_enabled=0\n",
    "Bastard Keyboards:Charybdis (4x6) Splinky:1:            is_sniping_enabled=0\n",
    "Bastard Keyboards:Charybdis (4x6) Splinky:1:            default_dpi=0xD (2800)\n",
    "Bastard Keyboards:Charybdis (4x6) Splinky:1:            sniping_dpi=0x0 (100)\n",
    "Bastard Keyboards:Charybdis (4x6) Splinky:1:    }\n",
    "Bastard Keyboards:Charybdis (4x6) Splinky:1: }\n",
    "Bastard Keyboards:Charybdis (4x6) Splinky:1: (charybdis) process_record_kb: config = {\n",
    "Bastard Keyboards:Charybdis (4x6) Splinky:1:    raw = 0xD,\n",
    "Bastard Keyboards:Charybdis (4x6) Splinky:1:    {\n",
    "Bastard Keyboards:Charybdis (4x6) Splinky:1:            is_dragscroll_enabled=0\n",
    "Bastard Keyboards:Charybdis (4x6) Splinky:1:            is_sniping_enabled=0\n",
    "Bastard Keyboards:Charybdis (4x6) Splinky:1:            default_dpi=0xD (2800)\n",
    "Bastard Keyboards:Charybdis (4x6) Splinky:1:            sniping_dpi=0x0 (100)\n",
    "Bastard Keyboards:Charybdis (4x6) Splinky:1:    }\n",
    "Bastard Keyboards:Charybdis (4x6) Splinky:1: }\n",
    "Bastard Keyboards:Charybdis (4x6) Splinky:1: MACCEL: DPI: 2800 min.t:  136 max.t:    0 max.d: 2.000 max.vin: 0.007 max.vsc: 0.007 max.a: 1.000003\n",
    "Bastard Keyboards:Charybdis (4x6) Splinky:1: MACCEL: DPI: 2800 min.t:    4 max.t:   10 max.d: 47.927 max.vin: 9.176 max.vsc: 9.176 max.a: 3.740358\n",
    "Bastard Keyboards:Charybdis (4x6) Splinky:1: MACCEL: DPI: 2800 min.t:    4 max.t:   41 max.d: 55.027 max.vin: 10.435 max.vsc: 10.435 max.a: 4.349991\n",
    "Bastard Keyboards:Charybdis (4x6) Splinky:1: MACCEL: DPI: 2800 min.t:    4 max.t:   10 max.d: 58.523 max.vin: 11.574 max.vsc: 11.574 max.a: 4.759011\n",
    "Bastard Keyboards:Charybdis (4x6) Splinky:1: (charybdis) process_record_kb: config = {\n",
    "Bastard Keyboards:Charybdis (4x6) Splinky:1:    raw = 0xE,\n",
    "Bastard Keyboards:Charybdis (4x6) Splinky:1:    {\n",
    "Bastard Keyboards:Charybdis (4x6) Splinky:1:            is_dragscroll_enabled=0\n",
    "Bastard Keyboards:Charybdis (4x6) Splinky:1:            is_sniping_enabled=0\n",
    "Bastard Keyboards:Charybdis (4x6) Splinky:1:            default_dpi=0xE (3000)\n",
    "Bastard Keyboards:Charybdis (4x6) Splinky:1:            sniping_dpi=0x0 (100)\n",
    "Bastard Keyboards:Charybdis (4x6) Splinky:1:    }\n",
    "Bastard Keyboards:Charybdis (4x6) Splinky:1: }\n",
    "Bastard Keyboards:Charybdis (4x6) Splinky:1: (charybdis) process_record_kb: config = {\n",
    "Bastard Keyboards:Charybdis (4x6) Splinky:1:    raw = 0xE,\n",
    "Bastard Keyboards:Charybdis (4x6) Splinky:1:    {\n",
    "Bastard Keyboards:Charybdis (4x6) Splinky:1:            is_dragscroll_enabled=0\n",
    "Bastard Keyboards:Charybdis (4x6) Splinky:1:            is_sniping_enabled=0\n",
    "Bastard Keyboards:Charybdis (4x6) Splinky:1:            default_dpi=0xE (3000)\n",
    "Bastard Keyboards:Charybdis (4x6) Splinky:1:            sniping_dpi=0x0 (100)\n",
    "Bastard Keyboards:Charybdis (4x6) Splinky:1:    }\n",
    "Bastard Keyboards:Charybdis (4x6) Splinky:1: }\n",
    "Bastard Keyboards:Charybdis (4x6) Splinky:1: (charybdis) process_record_kb: config = {\n",
    "Bastard Keyboards:Charybdis (4x6) Splinky:1:    raw = 0xF,\n",
    "Bastard Keyboards:Charybdis (4x6) Splinky:1:    {\n",
    "Bastard Keyboards:Charybdis (4x6) Splinky:1:            is_dragscroll_enabled=0\n",
    "Bastard Keyboards:Charybdis (4x6) Splinky:1:            is_sniping_enabled=0\n",
    "Bastard Keyboards:Charybdis (4x6) Splinky:1:            default_dpi=0xF (3200)\n",
    "Bastard Keyboards:Charybdis (4x6) Splinky:1:            sniping_dpi=0x0 (100)\n",
    "Bastard Keyboards:Charybdis (4x6) Splinky:1:    }\n",
    "Bastard Keyboards:Charybdis (4x6) Splinky:1: }\n",
    "Bastard Keyboards:Charybdis (4x6) Splinky:1: (charybdis) process_record_kb: config = {\n",
    "Bastard Keyboards:Charybdis (4x6) Splinky:1:    raw = 0xF,\n",
    "Bastard Keyboards:Charybdis (4x6) Splinky:1:    {\n",
    "Bastard Keyboards:Charybdis (4x6) Splinky:1:            is_dragscroll_enabled=0\n",
    "Bastard Keyboards:Charybdis (4x6) Splinky:1:            is_sniping_enabled=0\n",
    "Bastard Keyboards:Charybdis (4x6) Splinky:1:            default_dpi=0xF (3200)\n",
    "Bastard Keyboards:Charybdis (4x6) Splinky:1:            sniping_dpi=0x0 (100)\n",
    "Bastard Keyboards:Charybdis (4x6) Splinky:1:    }\n",
    "Bastard Keyboards:Charybdis (4x6) Splinky:1: }\n",
    "Bastard Keyboards:Charybdis (4x6) Splinky:1: MACCEL: DPI: 3200 min.t:    5 max.t:   10 max.d: 41.231 max.vin: 8.246 max.vsc: 8.246 max.a: 3.152351\n",
    "Bastard Keyboards:Charybdis (4x6) Splinky:1: MACCEL: DPI: 3200 min.t:    4 max.t:   10 max.d: 66.098 max.vin: 12.720 max.vsc: 12.720 max.a: 5.068145\n",
    "Bastard Keyboards:Charybdis (4x6) Splinky:1: MACCEL: DPI: 3200 min.t:    4 max.t:   10 max.d: 58.822 max.vin: 11.764 max.vsc: 11.764 max.a: 4.816651\n",
    "Bastard Keyboards:Charybdis (4x6) Splinky:1: MACCEL: DPI: 3200 min.t:    4 max.t:   11 max.d: 72.719 max.vin: 14.043 max.vsc: 14.043 max.a: 5.330524\n",
    "Bastard Keyboards:Charybdis (4x6) Splinky:1: MACCEL: DPI: 3200 min.t:    4 max.t:   10 max.d: 71.281 max.vin: 13.525 max.vsc: 13.525 max.a: 5.237963\n",
    "Bastard Keyboards:Charybdis (4x6) Splinky:1: (charybdis) process_record_kb: config = {\n",
    "Bastard Keyboards:Charybdis (4x6) Splinky:1:    raw = 0x0,\n",
    "Bastard Keyboards:Charybdis (4x6) Splinky:1:    {\n",
    "Bastard Keyboards:Charybdis (4x6) Splinky:1:            is_dragscroll_enabled=0\n",
    "Bastard Keyboards:Charybdis (4x6) Splinky:1:            is_sniping_enabled=0\n",
    "Bastard Keyboards:Charybdis (4x6) Splinky:1:            default_dpi=0x0 (200)\n",
    "Bastard Keyboards:Charybdis (4x6) Splinky:1:            sniping_dpi=0x0 (100)\n",
    "Bastard Keyboards:Charybdis (4x6) Splinky:1:    }\n",
    "Bastard Keyboards:Charybdis (4x6) Splinky:1: }\n",
    "Bastard Keyboards:Charybdis (4x6) Splinky:1: (charybdis) process_record_kb: config = {\n",
    "Bastard Keyboards:Charybdis (4x6) Splinky:1:    raw = 0x0,\n",
    "Bastard Keyboards:Charybdis (4x6) Splinky:1:    {\n",
    "Bastard Keyboards:Charybdis (4x6) Splinky:1:            is_dragscroll_enabled=0\n",
    "Bastard Keyboards:Charybdis (4x6) Splinky:1:            is_sniping_enabled=0\n",
    "Bastard Keyboards:Charybdis (4x6) Splinky:1:            default_dpi=0x0 (200)\n",
    "Bastard Keyboards:Charybdis (4x6) Splinky:1:            sniping_dpi=0x0 (100)\n",
    "Bastard Keyboards:Charybdis (4x6) Splinky:1:    }\n",
    "Bastard Keyboards:Charybdis (4x6) Splinky:1: }\n",
    "Bastard Keyboards:Charybdis (4x6) Splinky:1: (charybdis) process_record_kb: config = {\n",
    "Bastard Keyboards:Charybdis (4x6) Splinky:1:    raw = 0x1,\n",
    "Bastard Keyboards:Charybdis (4x6) Splinky:1:    {\n",
    "Bastard Keyboards:Charybdis (4x6) Splinky:1:            is_dragscroll_enabled=0\n",
    "Bastard Keyboards:Charybdis (4x6) Splinky:1:            is_sniping_enabled=0\n",
    "Bastard Keyboards:Charybdis (4x6) Splinky:1:            default_dpi=0x1 (400)\n",
    "Bastard Keyboards:Charybdis (4x6) Splinky:1:            sniping_dpi=0x0 (100)\n",
    "Bastard Keyboards:Charybdis (4x6) Splinky:1:    }\n",
    "Bastard Keyboards:Charybdis (4x6) Splinky:1: }\n",
    "Bastard Keyboards:Charybdis (4x6) Splinky:1: (charybdis) process_record_kb: config = {\n",
    "Bastard Keyboards:Charybdis (4x6) Splinky:1:    raw = 0x1,\n",
    "Bastard Keyboards:Charybdis (4x6) Splinky:1:    {\n",
    "Bastard Keyboards:Charybdis (4x6) Splinky:1:            is_dragscroll_enabled=0\n",
    "Bastard Keyboards:Charybdis (4x6) Splinky:1:            is_sniping_enabled=0\n",
    "Bastard Keyboards:Charybdis (4x6) Splinky:1:            default_dpi=0x1 (400)\n",
    "Bastard Keyboards:Charybdis (4x6) Splinky:1:            sniping_dpi=0x0 (100)\n",
    "Bastard Keyboards:Charybdis (4x6) Splinky:1:    }\n",
    "Bastard Keyboards:Charybdis (4x6) Splinky:1: }\n",
    "\"\"\""
   ],
   "outputs": [],
   "metadata": {}
  },
  {
   "cell_type": "code",
   "execution_count": 11,
   "source": [
    "df = parse_console(s)\n",
    "fig = plot(df)\n",
    "display(df, fig)"
   ],
   "outputs": [
    {
     "output_type": "display_data",
     "data": {
      "text/html": [
       "<div>\n",
       "<style scoped>\n",
       "    .dataframe tbody tr th:only-of-type {\n",
       "        vertical-align: middle;\n",
       "    }\n",
       "\n",
       "    .dataframe tbody tr th {\n",
       "        vertical-align: top;\n",
       "    }\n",
       "\n",
       "    .dataframe thead th {\n",
       "        text-align: right;\n",
       "    }\n",
       "</style>\n",
       "<table border=\"1\" class=\"dataframe\">\n",
       "  <thead>\n",
       "    <tr style=\"text-align: right;\">\n",
       "      <th></th>\n",
       "      <th>T_min</th>\n",
       "      <th>T_max</th>\n",
       "      <th>D</th>\n",
       "      <th>V_input</th>\n",
       "      <th>V_scaled</th>\n",
       "      <th>A_factor</th>\n",
       "    </tr>\n",
       "    <tr>\n",
       "      <th>DPI</th>\n",
       "      <th></th>\n",
       "      <th></th>\n",
       "      <th></th>\n",
       "      <th></th>\n",
       "      <th></th>\n",
       "      <th></th>\n",
       "    </tr>\n",
       "  </thead>\n",
       "  <tbody>\n",
       "    <tr>\n",
       "      <th>200</th>\n",
       "      <td>10</td>\n",
       "      <td>30</td>\n",
       "      <td>14.560</td>\n",
       "      <td>1.118</td>\n",
       "      <td>1.118</td>\n",
       "      <td>1.000036</td>\n",
       "    </tr>\n",
       "    <tr>\n",
       "      <th>400</th>\n",
       "      <td>10</td>\n",
       "      <td>11</td>\n",
       "      <td>10.440</td>\n",
       "      <td>2.136</td>\n",
       "      <td>2.136</td>\n",
       "      <td>1.000275</td>\n",
       "    </tr>\n",
       "    <tr>\n",
       "      <th>600</th>\n",
       "      <td>5</td>\n",
       "      <td>20</td>\n",
       "      <td>9.849</td>\n",
       "      <td>1.970</td>\n",
       "      <td>1.970</td>\n",
       "      <td>1.000197</td>\n",
       "    </tr>\n",
       "    <tr>\n",
       "      <th>800</th>\n",
       "      <td>2070</td>\n",
       "      <td>15</td>\n",
       "      <td>18.868</td>\n",
       "      <td>3.774</td>\n",
       "      <td>3.774</td>\n",
       "      <td>1.007232</td>\n",
       "    </tr>\n",
       "    <tr>\n",
       "      <th>1000</th>\n",
       "      <td>4</td>\n",
       "      <td>24</td>\n",
       "      <td>66.287</td>\n",
       "      <td>5.048</td>\n",
       "      <td>5.048</td>\n",
       "      <td>1.086007</td>\n",
       "    </tr>\n",
       "    <tr>\n",
       "      <th>1200</th>\n",
       "      <td>4</td>\n",
       "      <td>30</td>\n",
       "      <td>94.021</td>\n",
       "      <td>5.769</td>\n",
       "      <td>5.769</td>\n",
       "      <td>1.296179</td>\n",
       "    </tr>\n",
       "    <tr>\n",
       "      <th>1600</th>\n",
       "      <td>4</td>\n",
       "      <td>40</td>\n",
       "      <td>29.547</td>\n",
       "      <td>6.505</td>\n",
       "      <td>6.505</td>\n",
       "      <td>1.760689</td>\n",
       "    </tr>\n",
       "    <tr>\n",
       "      <th>2200</th>\n",
       "      <td>5</td>\n",
       "      <td>15</td>\n",
       "      <td>55.036</td>\n",
       "      <td>11.007</td>\n",
       "      <td>11.007</td>\n",
       "      <td>4.570085</td>\n",
       "    </tr>\n",
       "    <tr>\n",
       "      <th>2800</th>\n",
       "      <td>136</td>\n",
       "      <td>41</td>\n",
       "      <td>58.523</td>\n",
       "      <td>11.574</td>\n",
       "      <td>11.574</td>\n",
       "      <td>4.759011</td>\n",
       "    </tr>\n",
       "    <tr>\n",
       "      <th>3200</th>\n",
       "      <td>5</td>\n",
       "      <td>11</td>\n",
       "      <td>72.719</td>\n",
       "      <td>14.043</td>\n",
       "      <td>14.043</td>\n",
       "      <td>5.330524</td>\n",
       "    </tr>\n",
       "  </tbody>\n",
       "</table>\n",
       "</div>"
      ],
      "text/plain": [
       "      T_min  T_max       D  V_input  V_scaled  A_factor\n",
       "DPI                                                    \n",
       "200      10     30  14.560    1.118     1.118  1.000036\n",
       "400      10     11  10.440    2.136     2.136  1.000275\n",
       "600       5     20   9.849    1.970     1.970  1.000197\n",
       "800    2070     15  18.868    3.774     3.774  1.007232\n",
       "1000      4     24  66.287    5.048     5.048  1.086007\n",
       "1200      4     30  94.021    5.769     5.769  1.296179\n",
       "1600      4     40  29.547    6.505     6.505  1.760689\n",
       "2200      5     15  55.036   11.007    11.007  4.570085\n",
       "2800    136     41  58.523   11.574    11.574  4.759011\n",
       "3200      5     11  72.719   14.043    14.043  5.330524"
      ]
     },
     "metadata": {}
    },
    {
     "output_type": "display_data",
     "data": {
      "application/vnd.plotly.v1+json": {
       "data": [
        {
         "name": "D",
         "x": [
          200,
          400,
          600,
          800,
          1000,
          1200,
          1600,
          2200,
          2800,
          3200
         ],
         "y": [
          14.56,
          10.44,
          9.849,
          18.868,
          66.287,
          94.021,
          29.547,
          55.036,
          58.523,
          72.719
         ],
         "type": "scattergl",
         "xaxis": "x",
         "yaxis": "y2"
        },
        {
         "name": "V_input",
         "x": [
          200,
          400,
          600,
          800,
          1000,
          1200,
          1600,
          2200,
          2800,
          3200
         ],
         "y": [
          1.118,
          2.136,
          1.97,
          3.774,
          5.048,
          5.769,
          6.505,
          11.007,
          11.574,
          14.043
         ],
         "type": "scattergl",
         "xaxis": "x",
         "yaxis": "y"
        }
       ],
       "layout": {
        "template": {
         "data": {
          "histogram2dcontour": [
           {
            "type": "histogram2dcontour",
            "colorbar": {
             "outlinewidth": 0,
             "ticks": ""
            },
            "colorscale": [
             [
              0,
              "#0d0887"
             ],
             [
              0.1111111111111111,
              "#46039f"
             ],
             [
              0.2222222222222222,
              "#7201a8"
             ],
             [
              0.3333333333333333,
              "#9c179e"
             ],
             [
              0.4444444444444444,
              "#bd3786"
             ],
             [
              0.5555555555555556,
              "#d8576b"
             ],
             [
              0.6666666666666666,
              "#ed7953"
             ],
             [
              0.7777777777777778,
              "#fb9f3a"
             ],
             [
              0.8888888888888888,
              "#fdca26"
             ],
             [
              1,
              "#f0f921"
             ]
            ]
           }
          ],
          "choropleth": [
           {
            "type": "choropleth",
            "colorbar": {
             "outlinewidth": 0,
             "ticks": ""
            }
           }
          ],
          "histogram2d": [
           {
            "type": "histogram2d",
            "colorbar": {
             "outlinewidth": 0,
             "ticks": ""
            },
            "colorscale": [
             [
              0,
              "#0d0887"
             ],
             [
              0.1111111111111111,
              "#46039f"
             ],
             [
              0.2222222222222222,
              "#7201a8"
             ],
             [
              0.3333333333333333,
              "#9c179e"
             ],
             [
              0.4444444444444444,
              "#bd3786"
             ],
             [
              0.5555555555555556,
              "#d8576b"
             ],
             [
              0.6666666666666666,
              "#ed7953"
             ],
             [
              0.7777777777777778,
              "#fb9f3a"
             ],
             [
              0.8888888888888888,
              "#fdca26"
             ],
             [
              1,
              "#f0f921"
             ]
            ]
           }
          ],
          "heatmap": [
           {
            "type": "heatmap",
            "colorbar": {
             "outlinewidth": 0,
             "ticks": ""
            },
            "colorscale": [
             [
              0,
              "#0d0887"
             ],
             [
              0.1111111111111111,
              "#46039f"
             ],
             [
              0.2222222222222222,
              "#7201a8"
             ],
             [
              0.3333333333333333,
              "#9c179e"
             ],
             [
              0.4444444444444444,
              "#bd3786"
             ],
             [
              0.5555555555555556,
              "#d8576b"
             ],
             [
              0.6666666666666666,
              "#ed7953"
             ],
             [
              0.7777777777777778,
              "#fb9f3a"
             ],
             [
              0.8888888888888888,
              "#fdca26"
             ],
             [
              1,
              "#f0f921"
             ]
            ]
           }
          ],
          "heatmapgl": [
           {
            "type": "heatmapgl",
            "colorbar": {
             "outlinewidth": 0,
             "ticks": ""
            },
            "colorscale": [
             [
              0,
              "#0d0887"
             ],
             [
              0.1111111111111111,
              "#46039f"
             ],
             [
              0.2222222222222222,
              "#7201a8"
             ],
             [
              0.3333333333333333,
              "#9c179e"
             ],
             [
              0.4444444444444444,
              "#bd3786"
             ],
             [
              0.5555555555555556,
              "#d8576b"
             ],
             [
              0.6666666666666666,
              "#ed7953"
             ],
             [
              0.7777777777777778,
              "#fb9f3a"
             ],
             [
              0.8888888888888888,
              "#fdca26"
             ],
             [
              1,
              "#f0f921"
             ]
            ]
           }
          ],
          "contourcarpet": [
           {
            "type": "contourcarpet",
            "colorbar": {
             "outlinewidth": 0,
             "ticks": ""
            }
           }
          ],
          "contour": [
           {
            "type": "contour",
            "colorbar": {
             "outlinewidth": 0,
             "ticks": ""
            },
            "colorscale": [
             [
              0,
              "#0d0887"
             ],
             [
              0.1111111111111111,
              "#46039f"
             ],
             [
              0.2222222222222222,
              "#7201a8"
             ],
             [
              0.3333333333333333,
              "#9c179e"
             ],
             [
              0.4444444444444444,
              "#bd3786"
             ],
             [
              0.5555555555555556,
              "#d8576b"
             ],
             [
              0.6666666666666666,
              "#ed7953"
             ],
             [
              0.7777777777777778,
              "#fb9f3a"
             ],
             [
              0.8888888888888888,
              "#fdca26"
             ],
             [
              1,
              "#f0f921"
             ]
            ]
           }
          ],
          "surface": [
           {
            "type": "surface",
            "colorbar": {
             "outlinewidth": 0,
             "ticks": ""
            },
            "colorscale": [
             [
              0,
              "#0d0887"
             ],
             [
              0.1111111111111111,
              "#46039f"
             ],
             [
              0.2222222222222222,
              "#7201a8"
             ],
             [
              0.3333333333333333,
              "#9c179e"
             ],
             [
              0.4444444444444444,
              "#bd3786"
             ],
             [
              0.5555555555555556,
              "#d8576b"
             ],
             [
              0.6666666666666666,
              "#ed7953"
             ],
             [
              0.7777777777777778,
              "#fb9f3a"
             ],
             [
              0.8888888888888888,
              "#fdca26"
             ],
             [
              1,
              "#f0f921"
             ]
            ]
           }
          ],
          "mesh3d": [
           {
            "type": "mesh3d",
            "colorbar": {
             "outlinewidth": 0,
             "ticks": ""
            }
           }
          ],
          "scatter": [
           {
            "fillpattern": {
             "fillmode": "overlay",
             "size": 10,
             "solidity": 0.2
            },
            "type": "scatter"
           }
          ],
          "parcoords": [
           {
            "type": "parcoords",
            "line": {
             "colorbar": {
              "outlinewidth": 0,
              "ticks": ""
             }
            }
           }
          ],
          "scatterpolargl": [
           {
            "type": "scatterpolargl",
            "marker": {
             "colorbar": {
              "outlinewidth": 0,
              "ticks": ""
             }
            }
           }
          ],
          "bar": [
           {
            "error_x": {
             "color": "#2a3f5f"
            },
            "error_y": {
             "color": "#2a3f5f"
            },
            "marker": {
             "line": {
              "color": "#E5ECF6",
              "width": 0.5
             },
             "pattern": {
              "fillmode": "overlay",
              "size": 10,
              "solidity": 0.2
             }
            },
            "type": "bar"
           }
          ],
          "scattergeo": [
           {
            "type": "scattergeo",
            "marker": {
             "colorbar": {
              "outlinewidth": 0,
              "ticks": ""
             }
            }
           }
          ],
          "scatterpolar": [
           {
            "type": "scatterpolar",
            "marker": {
             "colorbar": {
              "outlinewidth": 0,
              "ticks": ""
             }
            }
           }
          ],
          "histogram": [
           {
            "marker": {
             "pattern": {
              "fillmode": "overlay",
              "size": 10,
              "solidity": 0.2
             }
            },
            "type": "histogram"
           }
          ],
          "scattergl": [
           {
            "type": "scattergl",
            "marker": {
             "colorbar": {
              "outlinewidth": 0,
              "ticks": ""
             }
            }
           }
          ],
          "scatter3d": [
           {
            "type": "scatter3d",
            "line": {
             "colorbar": {
              "outlinewidth": 0,
              "ticks": ""
             }
            },
            "marker": {
             "colorbar": {
              "outlinewidth": 0,
              "ticks": ""
             }
            }
           }
          ],
          "scattermapbox": [
           {
            "type": "scattermapbox",
            "marker": {
             "colorbar": {
              "outlinewidth": 0,
              "ticks": ""
             }
            }
           }
          ],
          "scatterternary": [
           {
            "type": "scatterternary",
            "marker": {
             "colorbar": {
              "outlinewidth": 0,
              "ticks": ""
             }
            }
           }
          ],
          "scattercarpet": [
           {
            "type": "scattercarpet",
            "marker": {
             "colorbar": {
              "outlinewidth": 0,
              "ticks": ""
             }
            }
           }
          ],
          "carpet": [
           {
            "aaxis": {
             "endlinecolor": "#2a3f5f",
             "gridcolor": "white",
             "linecolor": "white",
             "minorgridcolor": "white",
             "startlinecolor": "#2a3f5f"
            },
            "baxis": {
             "endlinecolor": "#2a3f5f",
             "gridcolor": "white",
             "linecolor": "white",
             "minorgridcolor": "white",
             "startlinecolor": "#2a3f5f"
            },
            "type": "carpet"
           }
          ],
          "table": [
           {
            "cells": {
             "fill": {
              "color": "#EBF0F8"
             },
             "line": {
              "color": "white"
             }
            },
            "header": {
             "fill": {
              "color": "#C8D4E3"
             },
             "line": {
              "color": "white"
             }
            },
            "type": "table"
           }
          ],
          "barpolar": [
           {
            "marker": {
             "line": {
              "color": "#E5ECF6",
              "width": 0.5
             },
             "pattern": {
              "fillmode": "overlay",
              "size": 10,
              "solidity": 0.2
             }
            },
            "type": "barpolar"
           }
          ],
          "pie": [
           {
            "automargin": true,
            "type": "pie"
           }
          ]
         },
         "layout": {
          "autotypenumbers": "strict",
          "colorway": [
           "#636efa",
           "#EF553B",
           "#00cc96",
           "#ab63fa",
           "#FFA15A",
           "#19d3f3",
           "#FF6692",
           "#B6E880",
           "#FF97FF",
           "#FECB52"
          ],
          "font": {
           "color": "#2a3f5f"
          },
          "hovermode": "closest",
          "hoverlabel": {
           "align": "left"
          },
          "paper_bgcolor": "white",
          "plot_bgcolor": "#E5ECF6",
          "polar": {
           "bgcolor": "#E5ECF6",
           "angularaxis": {
            "gridcolor": "white",
            "linecolor": "white",
            "ticks": ""
           },
           "radialaxis": {
            "gridcolor": "white",
            "linecolor": "white",
            "ticks": ""
           }
          },
          "ternary": {
           "bgcolor": "#E5ECF6",
           "aaxis": {
            "gridcolor": "white",
            "linecolor": "white",
            "ticks": ""
           },
           "baxis": {
            "gridcolor": "white",
            "linecolor": "white",
            "ticks": ""
           },
           "caxis": {
            "gridcolor": "white",
            "linecolor": "white",
            "ticks": ""
           }
          },
          "coloraxis": {
           "colorbar": {
            "outlinewidth": 0,
            "ticks": ""
           }
          },
          "colorscale": {
           "sequential": [
            [
             0,
             "#0d0887"
            ],
            [
             0.1111111111111111,
             "#46039f"
            ],
            [
             0.2222222222222222,
             "#7201a8"
            ],
            [
             0.3333333333333333,
             "#9c179e"
            ],
            [
             0.4444444444444444,
             "#bd3786"
            ],
            [
             0.5555555555555556,
             "#d8576b"
            ],
            [
             0.6666666666666666,
             "#ed7953"
            ],
            [
             0.7777777777777778,
             "#fb9f3a"
            ],
            [
             0.8888888888888888,
             "#fdca26"
            ],
            [
             1,
             "#f0f921"
            ]
           ],
           "sequentialminus": [
            [
             0,
             "#0d0887"
            ],
            [
             0.1111111111111111,
             "#46039f"
            ],
            [
             0.2222222222222222,
             "#7201a8"
            ],
            [
             0.3333333333333333,
             "#9c179e"
            ],
            [
             0.4444444444444444,
             "#bd3786"
            ],
            [
             0.5555555555555556,
             "#d8576b"
            ],
            [
             0.6666666666666666,
             "#ed7953"
            ],
            [
             0.7777777777777778,
             "#fb9f3a"
            ],
            [
             0.8888888888888888,
             "#fdca26"
            ],
            [
             1,
             "#f0f921"
            ]
           ],
           "diverging": [
            [
             0,
             "#8e0152"
            ],
            [
             0.1,
             "#c51b7d"
            ],
            [
             0.2,
             "#de77ae"
            ],
            [
             0.3,
             "#f1b6da"
            ],
            [
             0.4,
             "#fde0ef"
            ],
            [
             0.5,
             "#f7f7f7"
            ],
            [
             0.6,
             "#e6f5d0"
            ],
            [
             0.7,
             "#b8e186"
            ],
            [
             0.8,
             "#7fbc41"
            ],
            [
             0.9,
             "#4d9221"
            ],
            [
             1,
             "#276419"
            ]
           ]
          },
          "xaxis": {
           "gridcolor": "white",
           "linecolor": "white",
           "ticks": "",
           "title": {
            "standoff": 15
           },
           "zerolinecolor": "white",
           "automargin": true,
           "zerolinewidth": 2
          },
          "yaxis": {
           "gridcolor": "white",
           "linecolor": "white",
           "ticks": "",
           "title": {
            "standoff": 15
           },
           "zerolinecolor": "white",
           "automargin": true,
           "zerolinewidth": 2
          },
          "scene": {
           "xaxis": {
            "backgroundcolor": "#E5ECF6",
            "gridcolor": "white",
            "linecolor": "white",
            "showbackground": true,
            "ticks": "",
            "zerolinecolor": "white",
            "gridwidth": 2
           },
           "yaxis": {
            "backgroundcolor": "#E5ECF6",
            "gridcolor": "white",
            "linecolor": "white",
            "showbackground": true,
            "ticks": "",
            "zerolinecolor": "white",
            "gridwidth": 2
           },
           "zaxis": {
            "backgroundcolor": "#E5ECF6",
            "gridcolor": "white",
            "linecolor": "white",
            "showbackground": true,
            "ticks": "",
            "zerolinecolor": "white",
            "gridwidth": 2
           }
          },
          "shapedefaults": {
           "line": {
            "color": "#2a3f5f"
           }
          },
          "annotationdefaults": {
           "arrowcolor": "#2a3f5f",
           "arrowhead": 0,
           "arrowwidth": 1
          },
          "geo": {
           "bgcolor": "white",
           "landcolor": "#E5ECF6",
           "subunitcolor": "white",
           "showland": true,
           "showlakes": true,
           "lakecolor": "white"
          },
          "title": {
           "x": 0.05
          },
          "mapbox": {
           "style": "light"
          }
         }
        },
        "xaxis": {
         "anchor": "y",
         "domain": [
          0,
          0.94
         ]
        },
        "yaxis": {
         "anchor": "x",
         "domain": [
          0,
          1
         ]
        },
        "yaxis2": {
         "anchor": "x",
         "overlaying": "y",
         "side": "right",
         "title": {
          "text": "D"
         }
        },
        "annotations": [
         {
          "font": {
           "size": 16
          },
          "showarrow": false,
          "text": "m",
          "x": 0.47,
          "xanchor": "center",
          "xref": "paper",
          "y": 1,
          "yanchor": "bottom",
          "yref": "paper"
         },
         {
          "font": {
           "size": 16
          },
          "showarrow": false,
          "text": "DPI",
          "x": 0.47,
          "xanchor": "center",
          "xref": "paper",
          "y": 0,
          "yanchor": "top",
          "yref": "paper",
          "yshift": -30
         },
         {
          "font": {
           "size": 16
          },
          "showarrow": false,
          "text": "V, A",
          "textangle": -90,
          "x": 0,
          "xanchor": "right",
          "xref": "paper",
          "xshift": -40,
          "y": 0.5,
          "yanchor": "middle",
          "yref": "paper"
         }
        ]
       },
       "config": {
        "plotlyServerURL": "https://plot.ly"
       }
      }
     },
     "metadata": {}
    }
   ],
   "metadata": {}
  },
  {
   "cell_type": "code",
   "execution_count": 12,
   "source": [
    "# Moving trachball a bit faster."
   ],
   "outputs": [],
   "metadata": {}
  },
  {
   "cell_type": "code",
   "execution_count": 13,
   "source": [
    "fig.show(\"png\")\n",
    "\n",
    "# Note the reports with bigger distances than usual that did not affect velocity\n",
    "# (66.287 @ 1000, 94.021 @ 1200)"
   ],
   "outputs": [
    {
     "output_type": "display_data",
     "data": {
      "image/png": "[encoded data removed]"
     },
     "metadata": {}
    }
   ],
   "metadata": {}
  }
 ],
 "nbformat": 4,
 "nbformat_minor": 2,
 "metadata": {
  "language_info": {
   "codemirror_mode": {
    "name": "ipython",
    "version": 3
   },
   "file_extension": ".py",
   "mimetype": "text/x-python",
   "name": "python",
   "nbconvert_exporter": "python",
   "pygments_lexer": "ipython3",
   "version": 3
  }
 }
}